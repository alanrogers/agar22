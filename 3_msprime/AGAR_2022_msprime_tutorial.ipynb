{
 "cells": [
  {
   "cell_type": "markdown",
   "id": "54482918",
   "metadata": {},
   "source": [
    "# AGAR Workshop 2022"
   ]
  },
  {
   "cell_type": "markdown",
   "id": "d525d1a1",
   "metadata": {},
   "source": [
    "# Module 3: Introduction to msprime"
   ]
  },
  {
   "cell_type": "markdown",
   "id": "e288d41a",
   "metadata": {},
   "source": [
    "Let's load the packages we will need."
   ]
  },
  {
   "cell_type": "code",
   "execution_count": 1,
   "id": "9355277d",
   "metadata": {},
   "outputs": [],
   "source": [
    "import msprime\n",
    "import numpy as np\n",
    "import tskit\n",
    "from IPython.display import SVG, display"
   ]
  },
  {
   "cell_type": "markdown",
   "id": "473f512d",
   "metadata": {},
   "source": [
    "# Ancestry Simulations"
   ]
  },
  {
   "cell_type": "markdown",
   "id": "0c1f38c3",
   "metadata": {},
   "source": [
    "Start with sim_ancestry function. No mutations. No complex demography. Just a simple gene genealogy."
   ]
  },
  {
   "cell_type": "markdown",
   "id": "6a9e2689",
   "metadata": {},
   "source": [
    "Let's start with one sample. We will run the simulation and examine the tree sequence object."
   ]
  },
  {
   "cell_type": "code",
   "execution_count": 2,
   "id": "1f7f5148",
   "metadata": {
    "scrolled": false
   },
   "outputs": [
    {
     "data": {
      "text/html": [
       "\n",
       "            <div>\n",
       "              <style>\n",
       "                .tskit-table thead tr th {text-align: left;padding: 0.5em 0.5em;}\n",
       "                .tskit-table tbody tr td {padding: 0.5em 0.5em;}\n",
       "                .tskit-table tbody tr td:first-of-type {text-align: left;}\n",
       "                .tskit-details-label {vertical-align: top; padding-right:5px;}\n",
       "                .tskit-table-set {display: inline-flex;flex-wrap: wrap;margin: -12px 0 0 -12px;width: calc(100% + 12px);}\n",
       "                .tskit-table-set-table {margin: 12px 0 0 12px;}\n",
       "                details {display: inline-block;}\n",
       "                summary {cursor: pointer; outline: 0; display: list-item;}\n",
       "              </style>\n",
       "              <div class=\"tskit-table-set\">\n",
       "                <div class=\"tskit-table-set-table\">\n",
       "                  <table class=\"tskit-table\">\n",
       "                    <thead>\n",
       "                      <tr>\n",
       "                        <th style=\"padding:0;line-height:21px;\">\n",
       "                          <img style=\"height: 32px;display: inline-block;padding: 3px 5px 3px 0;\" src=\"https://raw.githubusercontent.com/tskit-dev/administrative/main/tskit_logo.svg\"/>\n",
       "                          <a target=\"_blank\" href=\"https://tskit.dev/tskit/docs/latest/python-api.html#the-treesequence-class\"> Tree Sequence </a>\n",
       "                        </th>\n",
       "                      </tr>\n",
       "                    </thead>\n",
       "                    <tbody>\n",
       "                      <tr><td>Trees</td><td>1</td></tr>\n",
       "                      <tr><td>Sequence Length</td><td>1.0</td></tr>\n",
       "                      <tr><td>Time Units</td><td>generations</td></tr>\n",
       "                      <tr><td>Sample Nodes</td><td>2</td></tr>\n",
       "                      <tr><td>Total Size</td><td>1.5 KiB</td></tr>\n",
       "                      <tr>\n",
       "                        <td>Metadata</td><td style=\"text-align: left;\">No Metadata</td></tr>\n",
       "                    </tbody>\n",
       "                  </table>\n",
       "                </div>\n",
       "                <div class=\"tskit-table-set-table\">\n",
       "                  <table class=\"tskit-table\">\n",
       "                    <thead>\n",
       "                      <tr>\n",
       "                        <th style=\"line-height:21px;\">Table</th>\n",
       "                        <th>Rows</th>\n",
       "                        <th>Size</th>\n",
       "                        <th>Has Metadata</th>\n",
       "                      </tr>\n",
       "                    </thead>\n",
       "                    <tbody>\n",
       "                    \n",
       "                  <tr>\n",
       "                    <td>Edges</td>\n",
       "                      <td>2</td>\n",
       "                      <td>72 Bytes</td>\n",
       "                      <td style=\"text-align: center;\">\n",
       "                        \n",
       "                      </td>\n",
       "                    </tr>\n",
       "                \n",
       "                  <tr>\n",
       "                    <td>Individuals</td>\n",
       "                      <td>1</td>\n",
       "                      <td>52 Bytes</td>\n",
       "                      <td style=\"text-align: center;\">\n",
       "                        \n",
       "                      </td>\n",
       "                    </tr>\n",
       "                \n",
       "                  <tr>\n",
       "                    <td>Migrations</td>\n",
       "                      <td>0</td>\n",
       "                      <td>8 Bytes</td>\n",
       "                      <td style=\"text-align: center;\">\n",
       "                        \n",
       "                      </td>\n",
       "                    </tr>\n",
       "                \n",
       "                  <tr>\n",
       "                    <td>Mutations</td>\n",
       "                      <td>0</td>\n",
       "                      <td>16 Bytes</td>\n",
       "                      <td style=\"text-align: center;\">\n",
       "                        \n",
       "                      </td>\n",
       "                    </tr>\n",
       "                \n",
       "                  <tr>\n",
       "                    <td>Nodes</td>\n",
       "                      <td>3</td>\n",
       "                      <td>92 Bytes</td>\n",
       "                      <td style=\"text-align: center;\">\n",
       "                        \n",
       "                      </td>\n",
       "                    </tr>\n",
       "                \n",
       "                  <tr>\n",
       "                    <td>Populations</td>\n",
       "                      <td>1</td>\n",
       "                      <td>224 Bytes</td>\n",
       "                      <td style=\"text-align: center;\">\n",
       "                        ✅\n",
       "                      </td>\n",
       "                    </tr>\n",
       "                \n",
       "                  <tr>\n",
       "                    <td>Provenances</td>\n",
       "                      <td>1</td>\n",
       "                      <td>1015 Bytes</td>\n",
       "                      <td style=\"text-align: center;\">\n",
       "                        \n",
       "                      </td>\n",
       "                    </tr>\n",
       "                \n",
       "                  <tr>\n",
       "                    <td>Sites</td>\n",
       "                      <td>0</td>\n",
       "                      <td>16 Bytes</td>\n",
       "                      <td style=\"text-align: center;\">\n",
       "                        \n",
       "                      </td>\n",
       "                    </tr>\n",
       "                \n",
       "                    </tbody>\n",
       "                  </table>\n",
       "                </div>\n",
       "              </div>\n",
       "            </div>\n",
       "            "
      ],
      "text/plain": [
       "<tskit.trees.TreeSequence at 0x1103e59a0>"
      ]
     },
     "execution_count": 2,
     "metadata": {},
     "output_type": "execute_result"
    }
   ],
   "source": [
    "ts1 = msprime.sim_ancestry(1)\n",
    "ts1"
   ]
  },
  {
   "cell_type": "markdown",
   "id": "b79c657d",
   "metadata": {},
   "source": [
    "Let's draw the tree."
   ]
  },
  {
   "cell_type": "code",
   "execution_count": 3,
   "id": "7fb963e7",
   "metadata": {
    "scrolled": true
   },
   "outputs": [
    {
     "data": {
      "image/svg+xml": [
       "<svg xmlns=\"http://www.w3.org/2000/svg\" xmlns:ev=\"http://www.w3.org/2001/xml-events\" xmlns:xlink=\"http://www.w3.org/1999/xlink\" baseProfile=\"full\" height=\"200\" version=\"1.1\" width=\"200\"><defs><style type=\"text/css\"><![CDATA[.background path {fill: #808080; fill-opacity: 0}.background path:nth-child(odd) {fill-opacity: .1}.axes {font-size: 14px}.x-axis .tick .lab {font-weight: bold; dominant-baseline: hanging}.axes, .tree {font-size: 14px; text-anchor: middle}.axes line, .edge {stroke: black; fill: none}.y-axis .grid {stroke: #FAFAFA}.node > .sym {fill: black; stroke: none}.site > .sym {stroke: black}.mut text {fill: red; font-style: italic}.mut.extra text {fill: hotpink}.mut line {fill: none; stroke: none}.mut .sym {fill: none; stroke: red}.mut.extra .sym {stroke: hotpink}.node .mut .sym {stroke-width: 1.5px}.tree text, .tree-sequence text {dominant-baseline: central}.plotbox .lab.lft {text-anchor: end}.plotbox .lab.rgt {text-anchor: start}]]></style></defs><g class=\"tree-sequence\"><g class=\"background\"><path d=\"M56.8,0 l123.2,0 l0,138.2 l0,25 l0,5 l-123.2,0 l0,-5 l0,-25 l0,-138.2z\"/></g><g class=\"axes\"><g class=\"x-axis\"><g transform=\"translate(118.4 200)\"><text class=\"lab\" text-anchor=\"middle\" transform=\"translate(0 -11)\">Genome position</text></g><line x1=\"56.8\" x2=\"180\" y1=\"163.2\" y2=\"163.2\"/><g class=\"ticks\"><g class=\"tick\" transform=\"translate(56.8 163.2)\"><line x1=\"0\" x2=\"0\" y1=\"0\" y2=\"5\"/><g transform=\"translate(0 6)\"><text class=\"lab\">0</text></g></g><g class=\"tick\" transform=\"translate(180 163.2)\"><line x1=\"0\" x2=\"0\" y1=\"0\" y2=\"5\"/><g transform=\"translate(0 6)\"><text class=\"lab\">1</text></g></g></g></g><g class=\"y-axis\"><g transform=\"translate(0 65.7)\"><text class=\"lab\" text-anchor=\"middle\" transform=\"translate(11) rotate(-90)\">Time (generations)</text></g><line x1=\"56.8\" x2=\"56.8\" y1=\"121.4\" y2=\"10\"/><g class=\"ticks\"><g class=\"tick\" transform=\"translate(56.8 121.4)\"><line x1=\"0\" x2=\"-5\" y1=\"0\" y2=\"0\"/><g transform=\"translate(-6 0)\"><text class=\"lab\" text-anchor=\"end\">0.00</text></g></g><g class=\"tick\" transform=\"translate(56.8 26.8)\"><line x1=\"0\" x2=\"-5\" y1=\"0\" y2=\"0\"/><g transform=\"translate(-6 0)\"><text class=\"lab\" text-anchor=\"end\">1.65</text></g></g></g></g></g><g class=\"plotbox trees\"><g class=\"tree t0\" transform=\"translate(56.8 0)\"><g class=\"plotbox\"><g class=\"c2 node n2 p0 root\" transform=\"translate(61.6 26.8)\"><g class=\"a2 i0 leaf node n0 p0 sample\" transform=\"translate(-20.8 94.6)\"><path class=\"edge\" d=\"M 0 0 V -94.6 H 20.8\"/><rect class=\"sym\" height=\"6\" width=\"6\" x=\"-3\" y=\"-3\"/><text class=\"lab\" transform=\"translate(0 11)\">0</text></g><g class=\"a2 i0 leaf node n1 p0 sample\" transform=\"translate(20.8 94.6)\"><path class=\"edge\" d=\"M 0 0 V -94.6 H -20.8\"/><rect class=\"sym\" height=\"6\" width=\"6\" x=\"-3\" y=\"-3\"/><text class=\"lab\" transform=\"translate(0 11)\">1</text></g><circle class=\"sym\" cx=\"0\" cy=\"0\" r=\"3\"/><text class=\"lab\" transform=\"translate(0 -11)\">2</text></g></g></g></g></g></svg>"
      ],
      "text/plain": [
       "<IPython.core.display.SVG object>"
      ]
     },
     "execution_count": 3,
     "metadata": {},
     "output_type": "execute_result"
    }
   ],
   "source": [
    "SVG(ts1.draw_svg(y_axis = True))"
   ]
  },
  {
   "cell_type": "markdown",
   "id": "a37fdacb",
   "metadata": {},
   "source": [
    "We can call various attributes on this object as well."
   ]
  },
  {
   "cell_type": "markdown",
   "id": "884b670c",
   "metadata": {},
   "source": [
    "Sequence length."
   ]
  },
  {
   "cell_type": "code",
   "execution_count": 4,
   "id": "b57aba1f",
   "metadata": {
    "scrolled": true
   },
   "outputs": [
    {
     "data": {
      "text/plain": [
       "1.0"
      ]
     },
     "execution_count": 4,
     "metadata": {},
     "output_type": "execute_result"
    }
   ],
   "source": [
    "ts1.sequence_length"
   ]
  },
  {
   "cell_type": "markdown",
   "id": "24e220c3",
   "metadata": {},
   "source": [
    "The number of haploid samples."
   ]
  },
  {
   "cell_type": "code",
   "execution_count": 5,
   "id": "1392a380",
   "metadata": {
    "scrolled": true
   },
   "outputs": [
    {
     "data": {
      "text/plain": [
       "2"
      ]
     },
     "execution_count": 5,
     "metadata": {},
     "output_type": "execute_result"
    }
   ],
   "source": [
    "ts1.num_samples"
   ]
  },
  {
   "cell_type": "markdown",
   "id": "62dfb0ba",
   "metadata": {},
   "source": [
    "The number of trees."
   ]
  },
  {
   "cell_type": "code",
   "execution_count": 6,
   "id": "d280ef74",
   "metadata": {},
   "outputs": [
    {
     "data": {
      "text/plain": [
       "1"
      ]
     },
     "execution_count": 6,
     "metadata": {},
     "output_type": "execute_result"
    }
   ],
   "source": [
    "ts1.num_trees"
   ]
  },
  {
   "cell_type": "markdown",
   "id": "8c041fa7",
   "metadata": {},
   "source": [
    "The number of sites. This should be 0 because we have not added any mutations yet."
   ]
  },
  {
   "cell_type": "code",
   "execution_count": 7,
   "id": "cacc3e36",
   "metadata": {
    "scrolled": false
   },
   "outputs": [
    {
     "data": {
      "text/plain": [
       "0"
      ]
     },
     "execution_count": 7,
     "metadata": {},
     "output_type": "execute_result"
    }
   ],
   "source": [
    "ts1.num_sites"
   ]
  },
  {
   "cell_type": "markdown",
   "id": "04367c5f",
   "metadata": {},
   "source": [
    "What happens if we run the exact same simulation again?"
   ]
  },
  {
   "cell_type": "code",
   "execution_count": 8,
   "id": "71cd6ab9",
   "metadata": {
    "scrolled": true
   },
   "outputs": [
    {
     "data": {
      "text/html": [
       "\n",
       "            <div>\n",
       "              <style>\n",
       "                .tskit-table thead tr th {text-align: left;padding: 0.5em 0.5em;}\n",
       "                .tskit-table tbody tr td {padding: 0.5em 0.5em;}\n",
       "                .tskit-table tbody tr td:first-of-type {text-align: left;}\n",
       "                .tskit-details-label {vertical-align: top; padding-right:5px;}\n",
       "                .tskit-table-set {display: inline-flex;flex-wrap: wrap;margin: -12px 0 0 -12px;width: calc(100% + 12px);}\n",
       "                .tskit-table-set-table {margin: 12px 0 0 12px;}\n",
       "                details {display: inline-block;}\n",
       "                summary {cursor: pointer; outline: 0; display: list-item;}\n",
       "              </style>\n",
       "              <div class=\"tskit-table-set\">\n",
       "                <div class=\"tskit-table-set-table\">\n",
       "                  <table class=\"tskit-table\">\n",
       "                    <thead>\n",
       "                      <tr>\n",
       "                        <th style=\"padding:0;line-height:21px;\">\n",
       "                          <img style=\"height: 32px;display: inline-block;padding: 3px 5px 3px 0;\" src=\"https://raw.githubusercontent.com/tskit-dev/administrative/main/tskit_logo.svg\"/>\n",
       "                          <a target=\"_blank\" href=\"https://tskit.dev/tskit/docs/latest/python-api.html#the-treesequence-class\"> Tree Sequence </a>\n",
       "                        </th>\n",
       "                      </tr>\n",
       "                    </thead>\n",
       "                    <tbody>\n",
       "                      <tr><td>Trees</td><td>1</td></tr>\n",
       "                      <tr><td>Sequence Length</td><td>1.0</td></tr>\n",
       "                      <tr><td>Time Units</td><td>generations</td></tr>\n",
       "                      <tr><td>Sample Nodes</td><td>2</td></tr>\n",
       "                      <tr><td>Total Size</td><td>1.5 KiB</td></tr>\n",
       "                      <tr>\n",
       "                        <td>Metadata</td><td style=\"text-align: left;\">No Metadata</td></tr>\n",
       "                    </tbody>\n",
       "                  </table>\n",
       "                </div>\n",
       "                <div class=\"tskit-table-set-table\">\n",
       "                  <table class=\"tskit-table\">\n",
       "                    <thead>\n",
       "                      <tr>\n",
       "                        <th style=\"line-height:21px;\">Table</th>\n",
       "                        <th>Rows</th>\n",
       "                        <th>Size</th>\n",
       "                        <th>Has Metadata</th>\n",
       "                      </tr>\n",
       "                    </thead>\n",
       "                    <tbody>\n",
       "                    \n",
       "                  <tr>\n",
       "                    <td>Edges</td>\n",
       "                      <td>2</td>\n",
       "                      <td>72 Bytes</td>\n",
       "                      <td style=\"text-align: center;\">\n",
       "                        \n",
       "                      </td>\n",
       "                    </tr>\n",
       "                \n",
       "                  <tr>\n",
       "                    <td>Individuals</td>\n",
       "                      <td>1</td>\n",
       "                      <td>52 Bytes</td>\n",
       "                      <td style=\"text-align: center;\">\n",
       "                        \n",
       "                      </td>\n",
       "                    </tr>\n",
       "                \n",
       "                  <tr>\n",
       "                    <td>Migrations</td>\n",
       "                      <td>0</td>\n",
       "                      <td>8 Bytes</td>\n",
       "                      <td style=\"text-align: center;\">\n",
       "                        \n",
       "                      </td>\n",
       "                    </tr>\n",
       "                \n",
       "                  <tr>\n",
       "                    <td>Mutations</td>\n",
       "                      <td>0</td>\n",
       "                      <td>16 Bytes</td>\n",
       "                      <td style=\"text-align: center;\">\n",
       "                        \n",
       "                      </td>\n",
       "                    </tr>\n",
       "                \n",
       "                  <tr>\n",
       "                    <td>Nodes</td>\n",
       "                      <td>3</td>\n",
       "                      <td>92 Bytes</td>\n",
       "                      <td style=\"text-align: center;\">\n",
       "                        \n",
       "                      </td>\n",
       "                    </tr>\n",
       "                \n",
       "                  <tr>\n",
       "                    <td>Populations</td>\n",
       "                      <td>1</td>\n",
       "                      <td>224 Bytes</td>\n",
       "                      <td style=\"text-align: center;\">\n",
       "                        ✅\n",
       "                      </td>\n",
       "                    </tr>\n",
       "                \n",
       "                  <tr>\n",
       "                    <td>Provenances</td>\n",
       "                      <td>1</td>\n",
       "                      <td>1016 Bytes</td>\n",
       "                      <td style=\"text-align: center;\">\n",
       "                        \n",
       "                      </td>\n",
       "                    </tr>\n",
       "                \n",
       "                  <tr>\n",
       "                    <td>Sites</td>\n",
       "                      <td>0</td>\n",
       "                      <td>16 Bytes</td>\n",
       "                      <td style=\"text-align: center;\">\n",
       "                        \n",
       "                      </td>\n",
       "                    </tr>\n",
       "                \n",
       "                    </tbody>\n",
       "                  </table>\n",
       "                </div>\n",
       "              </div>\n",
       "            </div>\n",
       "            "
      ],
      "text/plain": [
       "<tskit.trees.TreeSequence at 0x110441e20>"
      ]
     },
     "execution_count": 8,
     "metadata": {},
     "output_type": "execute_result"
    }
   ],
   "source": [
    "ts2 = msprime.sim_ancestry(1)\n",
    "ts2"
   ]
  },
  {
   "cell_type": "markdown",
   "id": "aed55a54",
   "metadata": {},
   "source": [
    "**Question:** Has the table changed?"
   ]
  },
  {
   "cell_type": "code",
   "execution_count": 9,
   "id": "9ba19e6a",
   "metadata": {},
   "outputs": [
    {
     "data": {
      "image/svg+xml": [
       "<svg xmlns=\"http://www.w3.org/2000/svg\" xmlns:ev=\"http://www.w3.org/2001/xml-events\" xmlns:xlink=\"http://www.w3.org/1999/xlink\" baseProfile=\"full\" height=\"200\" version=\"1.1\" width=\"200\"><defs><style type=\"text/css\"><![CDATA[.background path {fill: #808080; fill-opacity: 0}.background path:nth-child(odd) {fill-opacity: .1}.axes {font-size: 14px}.x-axis .tick .lab {font-weight: bold; dominant-baseline: hanging}.axes, .tree {font-size: 14px; text-anchor: middle}.axes line, .edge {stroke: black; fill: none}.y-axis .grid {stroke: #FAFAFA}.node > .sym {fill: black; stroke: none}.site > .sym {stroke: black}.mut text {fill: red; font-style: italic}.mut.extra text {fill: hotpink}.mut line {fill: none; stroke: none}.mut .sym {fill: none; stroke: red}.mut.extra .sym {stroke: hotpink}.node .mut .sym {stroke-width: 1.5px}.tree text, .tree-sequence text {dominant-baseline: central}.plotbox .lab.lft {text-anchor: end}.plotbox .lab.rgt {text-anchor: start}]]></style></defs><g class=\"tree-sequence\"><g class=\"background\"><path d=\"M56.8,0 l123.2,0 l0,138.2 l0,25 l0,5 l-123.2,0 l0,-5 l0,-25 l0,-138.2z\"/></g><g class=\"axes\"><g class=\"x-axis\"><g transform=\"translate(118.4 200)\"><text class=\"lab\" text-anchor=\"middle\" transform=\"translate(0 -11)\">Genome position</text></g><line x1=\"56.8\" x2=\"180\" y1=\"163.2\" y2=\"163.2\"/><g class=\"ticks\"><g class=\"tick\" transform=\"translate(56.8 163.2)\"><line x1=\"0\" x2=\"0\" y1=\"0\" y2=\"5\"/><g transform=\"translate(0 6)\"><text class=\"lab\">0</text></g></g><g class=\"tick\" transform=\"translate(180 163.2)\"><line x1=\"0\" x2=\"0\" y1=\"0\" y2=\"5\"/><g transform=\"translate(0 6)\"><text class=\"lab\">1</text></g></g></g></g><g class=\"y-axis\"><g transform=\"translate(0 65.7)\"><text class=\"lab\" text-anchor=\"middle\" transform=\"translate(11) rotate(-90)\">Time (generations)</text></g><line x1=\"56.8\" x2=\"56.8\" y1=\"121.4\" y2=\"10\"/><g class=\"ticks\"><g class=\"tick\" transform=\"translate(56.8 121.4)\"><line x1=\"0\" x2=\"-5\" y1=\"0\" y2=\"0\"/><g transform=\"translate(-6 0)\"><text class=\"lab\" text-anchor=\"end\">0.00</text></g></g><g class=\"tick\" transform=\"translate(56.8 26.8)\"><line x1=\"0\" x2=\"-5\" y1=\"0\" y2=\"0\"/><g transform=\"translate(-6 0)\"><text class=\"lab\" text-anchor=\"end\">1.65</text></g></g></g></g></g><g class=\"plotbox trees\"><g class=\"tree t0\" transform=\"translate(56.8 0)\"><g class=\"plotbox\"><g class=\"c2 node n2 p0 root\" transform=\"translate(61.6 26.8)\"><g class=\"a2 i0 leaf node n0 p0 sample\" transform=\"translate(-20.8 94.6)\"><path class=\"edge\" d=\"M 0 0 V -94.6 H 20.8\"/><rect class=\"sym\" height=\"6\" width=\"6\" x=\"-3\" y=\"-3\"/><text class=\"lab\" transform=\"translate(0 11)\">0</text></g><g class=\"a2 i0 leaf node n1 p0 sample\" transform=\"translate(20.8 94.6)\"><path class=\"edge\" d=\"M 0 0 V -94.6 H -20.8\"/><rect class=\"sym\" height=\"6\" width=\"6\" x=\"-3\" y=\"-3\"/><text class=\"lab\" transform=\"translate(0 11)\">1</text></g><circle class=\"sym\" cx=\"0\" cy=\"0\" r=\"3\"/><text class=\"lab\" transform=\"translate(0 -11)\">2</text></g></g></g></g></g></svg>"
      ],
      "text/plain": [
       "<IPython.core.display.SVG object>"
      ]
     },
     "metadata": {},
     "output_type": "display_data"
    },
    {
     "data": {
      "image/svg+xml": [
       "<svg xmlns=\"http://www.w3.org/2000/svg\" xmlns:ev=\"http://www.w3.org/2001/xml-events\" xmlns:xlink=\"http://www.w3.org/1999/xlink\" baseProfile=\"full\" height=\"200\" version=\"1.1\" width=\"200\"><defs><style type=\"text/css\"><![CDATA[.background path {fill: #808080; fill-opacity: 0}.background path:nth-child(odd) {fill-opacity: .1}.axes {font-size: 14px}.x-axis .tick .lab {font-weight: bold; dominant-baseline: hanging}.axes, .tree {font-size: 14px; text-anchor: middle}.axes line, .edge {stroke: black; fill: none}.y-axis .grid {stroke: #FAFAFA}.node > .sym {fill: black; stroke: none}.site > .sym {stroke: black}.mut text {fill: red; font-style: italic}.mut.extra text {fill: hotpink}.mut line {fill: none; stroke: none}.mut .sym {fill: none; stroke: red}.mut.extra .sym {stroke: hotpink}.node .mut .sym {stroke-width: 1.5px}.tree text, .tree-sequence text {dominant-baseline: central}.plotbox .lab.lft {text-anchor: end}.plotbox .lab.rgt {text-anchor: start}]]></style></defs><g class=\"tree-sequence\"><g class=\"background\"><path d=\"M56.8,0 l123.2,0 l0,138.2 l0,25 l0,5 l-123.2,0 l0,-5 l0,-25 l0,-138.2z\"/></g><g class=\"axes\"><g class=\"x-axis\"><g transform=\"translate(118.4 200)\"><text class=\"lab\" text-anchor=\"middle\" transform=\"translate(0 -11)\">Genome position</text></g><line x1=\"56.8\" x2=\"180\" y1=\"163.2\" y2=\"163.2\"/><g class=\"ticks\"><g class=\"tick\" transform=\"translate(56.8 163.2)\"><line x1=\"0\" x2=\"0\" y1=\"0\" y2=\"5\"/><g transform=\"translate(0 6)\"><text class=\"lab\">0</text></g></g><g class=\"tick\" transform=\"translate(180 163.2)\"><line x1=\"0\" x2=\"0\" y1=\"0\" y2=\"5\"/><g transform=\"translate(0 6)\"><text class=\"lab\">1</text></g></g></g></g><g class=\"y-axis\"><g transform=\"translate(0 65.7)\"><text class=\"lab\" text-anchor=\"middle\" transform=\"translate(11) rotate(-90)\">Time (generations)</text></g><line x1=\"56.8\" x2=\"56.8\" y1=\"121.4\" y2=\"10\"/><g class=\"ticks\"><g class=\"tick\" transform=\"translate(56.8 121.4)\"><line x1=\"0\" x2=\"-5\" y1=\"0\" y2=\"0\"/><g transform=\"translate(-6 0)\"><text class=\"lab\" text-anchor=\"end\">0.00</text></g></g><g class=\"tick\" transform=\"translate(56.8 26.8)\"><line x1=\"0\" x2=\"-5\" y1=\"0\" y2=\"0\"/><g transform=\"translate(-6 0)\"><text class=\"lab\" text-anchor=\"end\">2.92</text></g></g></g></g></g><g class=\"plotbox trees\"><g class=\"tree t0\" transform=\"translate(56.8 0)\"><g class=\"plotbox\"><g class=\"c2 node n2 p0 root\" transform=\"translate(61.6 26.8)\"><g class=\"a2 i0 leaf node n0 p0 sample\" transform=\"translate(-20.8 94.6)\"><path class=\"edge\" d=\"M 0 0 V -94.6 H 20.8\"/><rect class=\"sym\" height=\"6\" width=\"6\" x=\"-3\" y=\"-3\"/><text class=\"lab\" transform=\"translate(0 11)\">0</text></g><g class=\"a2 i0 leaf node n1 p0 sample\" transform=\"translate(20.8 94.6)\"><path class=\"edge\" d=\"M 0 0 V -94.6 H -20.8\"/><rect class=\"sym\" height=\"6\" width=\"6\" x=\"-3\" y=\"-3\"/><text class=\"lab\" transform=\"translate(0 11)\">1</text></g><circle class=\"sym\" cx=\"0\" cy=\"0\" r=\"3\"/><text class=\"lab\" transform=\"translate(0 -11)\">2</text></g></g></g></g></g></svg>"
      ],
      "text/plain": [
       "<IPython.core.display.SVG object>"
      ]
     },
     "metadata": {},
     "output_type": "display_data"
    }
   ],
   "source": [
    "display(SVG(ts1.draw_svg(y_axis = True)), SVG(ts2.draw_svg(y_axis = True)))"
   ]
  },
  {
   "cell_type": "markdown",
   "id": "2dc94102",
   "metadata": {},
   "source": [
    "**Question:** What about the tree? What has changed?"
   ]
  },
  {
   "cell_type": "markdown",
   "id": "4bf4a51f",
   "metadata": {},
   "source": [
    "## Random Seeds"
   ]
  },
  {
   "cell_type": "markdown",
   "id": "f05858a3",
   "metadata": {},
   "source": [
    "We can use a random seed to make our analyses replicable. Briefly, this 'seed' is used as the starting point for a random number generator. The specific number does not matter so feel free to choose any value."
   ]
  },
  {
   "cell_type": "code",
   "execution_count": 10,
   "id": "a07a4d5b",
   "metadata": {
    "scrolled": true
   },
   "outputs": [
    {
     "data": {
      "image/svg+xml": [
       "<svg xmlns=\"http://www.w3.org/2000/svg\" xmlns:ev=\"http://www.w3.org/2001/xml-events\" xmlns:xlink=\"http://www.w3.org/1999/xlink\" baseProfile=\"full\" height=\"200\" version=\"1.1\" width=\"200\"><defs><style type=\"text/css\"><![CDATA[.background path {fill: #808080; fill-opacity: 0}.background path:nth-child(odd) {fill-opacity: .1}.axes {font-size: 14px}.x-axis .tick .lab {font-weight: bold; dominant-baseline: hanging}.axes, .tree {font-size: 14px; text-anchor: middle}.axes line, .edge {stroke: black; fill: none}.y-axis .grid {stroke: #FAFAFA}.node > .sym {fill: black; stroke: none}.site > .sym {stroke: black}.mut text {fill: red; font-style: italic}.mut.extra text {fill: hotpink}.mut line {fill: none; stroke: none}.mut .sym {fill: none; stroke: red}.mut.extra .sym {stroke: hotpink}.node .mut .sym {stroke-width: 1.5px}.tree text, .tree-sequence text {dominant-baseline: central}.plotbox .lab.lft {text-anchor: end}.plotbox .lab.rgt {text-anchor: start}]]></style></defs><g class=\"tree-sequence\"><g class=\"background\"><path d=\"M56.8,0 l123.2,0 l0,138.2 l0,25 l0,5 l-123.2,0 l0,-5 l0,-25 l0,-138.2z\"/></g><g class=\"axes\"><g class=\"x-axis\"><g transform=\"translate(118.4 200)\"><text class=\"lab\" text-anchor=\"middle\" transform=\"translate(0 -11)\">Genome position</text></g><line x1=\"56.8\" x2=\"180\" y1=\"163.2\" y2=\"163.2\"/><g class=\"ticks\"><g class=\"tick\" transform=\"translate(56.8 163.2)\"><line x1=\"0\" x2=\"0\" y1=\"0\" y2=\"5\"/><g transform=\"translate(0 6)\"><text class=\"lab\">0</text></g></g><g class=\"tick\" transform=\"translate(180 163.2)\"><line x1=\"0\" x2=\"0\" y1=\"0\" y2=\"5\"/><g transform=\"translate(0 6)\"><text class=\"lab\">1</text></g></g></g></g><g class=\"y-axis\"><g transform=\"translate(0 65.7)\"><text class=\"lab\" text-anchor=\"middle\" transform=\"translate(11) rotate(-90)\">Time (generations)</text></g><line x1=\"56.8\" x2=\"56.8\" y1=\"121.4\" y2=\"10\"/><g class=\"ticks\"><g class=\"tick\" transform=\"translate(56.8 121.4)\"><line x1=\"0\" x2=\"-5\" y1=\"0\" y2=\"0\"/><g transform=\"translate(-6 0)\"><text class=\"lab\" text-anchor=\"end\">0.00</text></g></g><g class=\"tick\" transform=\"translate(56.8 115.705)\"><line x1=\"0\" x2=\"-5\" y1=\"0\" y2=\"0\"/><g transform=\"translate(-6 0)\"><text class=\"lab\" text-anchor=\"end\">0.26</text></g></g><g class=\"tick\" transform=\"translate(56.8 107.99)\"><line x1=\"0\" x2=\"-5\" y1=\"0\" y2=\"0\"/><g transform=\"translate(-6 0)\"><text class=\"lab\" text-anchor=\"end\">0.62</text></g></g><g class=\"tick\" transform=\"translate(56.8 26.8)\"><line x1=\"0\" x2=\"-5\" y1=\"0\" y2=\"0\"/><g transform=\"translate(-6 0)\"><text class=\"lab\" text-anchor=\"end\">4.34</text></g></g></g></g></g><g class=\"plotbox trees\"><g class=\"tree t0\" transform=\"translate(56.8 0)\"><g class=\"plotbox\"><g class=\"c2 node n6 p0 root\" transform=\"translate(61.6 26.8)\"><g class=\"a6 c2 node n4 p0\" transform=\"translate(20.8 88.9055)\"><g class=\"a4 i0 leaf node n1 p0 sample\" transform=\"translate(-10.4 5.69451)\"><path class=\"edge\" d=\"M 0 0 V -5.69451 H 10.4\"/><rect class=\"sym\" height=\"6\" width=\"6\" x=\"-3\" y=\"-3\"/><text class=\"lab\" transform=\"translate(0 11)\">1</text></g><g class=\"a4 i1 leaf node n3 p0 sample\" transform=\"translate(10.4 5.69451)\"><path class=\"edge\" d=\"M 0 0 V -5.69451 H -10.4\"/><rect class=\"sym\" height=\"6\" width=\"6\" x=\"-3\" y=\"-3\"/><text class=\"lab\" transform=\"translate(0 11)\">3</text></g><path class=\"edge\" d=\"M 0 0 V -88.9055 H -20.8\"/><circle class=\"sym\" cx=\"0\" cy=\"0\" r=\"3\"/><text class=\"lab rgt\" transform=\"translate(3 -7.0)\">4</text></g><g class=\"a6 c2 node n5 p0\" transform=\"translate(-20.8 81.1898)\"><g class=\"a5 i0 leaf node n0 p0 sample\" transform=\"translate(-10.4 13.4102)\"><path class=\"edge\" d=\"M 0 0 V -13.4102 H 10.4\"/><rect class=\"sym\" height=\"6\" width=\"6\" x=\"-3\" y=\"-3\"/><text class=\"lab\" transform=\"translate(0 11)\">0</text></g><g class=\"a5 i1 leaf node n2 p0 sample\" transform=\"translate(10.4 13.4102)\"><path class=\"edge\" d=\"M 0 0 V -13.4102 H -10.4\"/><rect class=\"sym\" height=\"6\" width=\"6\" x=\"-3\" y=\"-3\"/><text class=\"lab\" transform=\"translate(0 11)\">2</text></g><path class=\"edge\" d=\"M 0 0 V -81.1898 H 20.8\"/><circle class=\"sym\" cx=\"0\" cy=\"0\" r=\"3\"/><text class=\"lab lft\" transform=\"translate(-3 -7.0)\">5</text></g><circle class=\"sym\" cx=\"0\" cy=\"0\" r=\"3\"/><text class=\"lab\" transform=\"translate(0 -11)\">6</text></g></g></g></g></g></svg>"
      ],
      "text/plain": [
       "<IPython.core.display.SVG object>"
      ]
     },
     "metadata": {},
     "output_type": "display_data"
    },
    {
     "data": {
      "image/svg+xml": [
       "<svg xmlns=\"http://www.w3.org/2000/svg\" xmlns:ev=\"http://www.w3.org/2001/xml-events\" xmlns:xlink=\"http://www.w3.org/1999/xlink\" baseProfile=\"full\" height=\"200\" version=\"1.1\" width=\"200\"><defs><style type=\"text/css\"><![CDATA[.background path {fill: #808080; fill-opacity: 0}.background path:nth-child(odd) {fill-opacity: .1}.axes {font-size: 14px}.x-axis .tick .lab {font-weight: bold; dominant-baseline: hanging}.axes, .tree {font-size: 14px; text-anchor: middle}.axes line, .edge {stroke: black; fill: none}.y-axis .grid {stroke: #FAFAFA}.node > .sym {fill: black; stroke: none}.site > .sym {stroke: black}.mut text {fill: red; font-style: italic}.mut.extra text {fill: hotpink}.mut line {fill: none; stroke: none}.mut .sym {fill: none; stroke: red}.mut.extra .sym {stroke: hotpink}.node .mut .sym {stroke-width: 1.5px}.tree text, .tree-sequence text {dominant-baseline: central}.plotbox .lab.lft {text-anchor: end}.plotbox .lab.rgt {text-anchor: start}]]></style></defs><g class=\"tree-sequence\"><g class=\"background\"><path d=\"M56.8,0 l123.2,0 l0,138.2 l0,25 l0,5 l-123.2,0 l0,-5 l0,-25 l0,-138.2z\"/></g><g class=\"axes\"><g class=\"x-axis\"><g transform=\"translate(118.4 200)\"><text class=\"lab\" text-anchor=\"middle\" transform=\"translate(0 -11)\">Genome position</text></g><line x1=\"56.8\" x2=\"180\" y1=\"163.2\" y2=\"163.2\"/><g class=\"ticks\"><g class=\"tick\" transform=\"translate(56.8 163.2)\"><line x1=\"0\" x2=\"0\" y1=\"0\" y2=\"5\"/><g transform=\"translate(0 6)\"><text class=\"lab\">0</text></g></g><g class=\"tick\" transform=\"translate(180 163.2)\"><line x1=\"0\" x2=\"0\" y1=\"0\" y2=\"5\"/><g transform=\"translate(0 6)\"><text class=\"lab\">1</text></g></g></g></g><g class=\"y-axis\"><g transform=\"translate(0 65.7)\"><text class=\"lab\" text-anchor=\"middle\" transform=\"translate(11) rotate(-90)\">Time (generations)</text></g><line x1=\"56.8\" x2=\"56.8\" y1=\"121.4\" y2=\"10\"/><g class=\"ticks\"><g class=\"tick\" transform=\"translate(56.8 121.4)\"><line x1=\"0\" x2=\"-5\" y1=\"0\" y2=\"0\"/><g transform=\"translate(-6 0)\"><text class=\"lab\" text-anchor=\"end\">0.00</text></g></g><g class=\"tick\" transform=\"translate(56.8 115.705)\"><line x1=\"0\" x2=\"-5\" y1=\"0\" y2=\"0\"/><g transform=\"translate(-6 0)\"><text class=\"lab\" text-anchor=\"end\">0.26</text></g></g><g class=\"tick\" transform=\"translate(56.8 107.99)\"><line x1=\"0\" x2=\"-5\" y1=\"0\" y2=\"0\"/><g transform=\"translate(-6 0)\"><text class=\"lab\" text-anchor=\"end\">0.62</text></g></g><g class=\"tick\" transform=\"translate(56.8 26.8)\"><line x1=\"0\" x2=\"-5\" y1=\"0\" y2=\"0\"/><g transform=\"translate(-6 0)\"><text class=\"lab\" text-anchor=\"end\">4.34</text></g></g></g></g></g><g class=\"plotbox trees\"><g class=\"tree t0\" transform=\"translate(56.8 0)\"><g class=\"plotbox\"><g class=\"c2 node n6 p0 root\" transform=\"translate(61.6 26.8)\"><g class=\"a6 c2 node n4 p0\" transform=\"translate(20.8 88.9055)\"><g class=\"a4 i0 leaf node n1 p0 sample\" transform=\"translate(-10.4 5.69451)\"><path class=\"edge\" d=\"M 0 0 V -5.69451 H 10.4\"/><rect class=\"sym\" height=\"6\" width=\"6\" x=\"-3\" y=\"-3\"/><text class=\"lab\" transform=\"translate(0 11)\">1</text></g><g class=\"a4 i1 leaf node n3 p0 sample\" transform=\"translate(10.4 5.69451)\"><path class=\"edge\" d=\"M 0 0 V -5.69451 H -10.4\"/><rect class=\"sym\" height=\"6\" width=\"6\" x=\"-3\" y=\"-3\"/><text class=\"lab\" transform=\"translate(0 11)\">3</text></g><path class=\"edge\" d=\"M 0 0 V -88.9055 H -20.8\"/><circle class=\"sym\" cx=\"0\" cy=\"0\" r=\"3\"/><text class=\"lab rgt\" transform=\"translate(3 -7.0)\">4</text></g><g class=\"a6 c2 node n5 p0\" transform=\"translate(-20.8 81.1898)\"><g class=\"a5 i0 leaf node n0 p0 sample\" transform=\"translate(-10.4 13.4102)\"><path class=\"edge\" d=\"M 0 0 V -13.4102 H 10.4\"/><rect class=\"sym\" height=\"6\" width=\"6\" x=\"-3\" y=\"-3\"/><text class=\"lab\" transform=\"translate(0 11)\">0</text></g><g class=\"a5 i1 leaf node n2 p0 sample\" transform=\"translate(10.4 13.4102)\"><path class=\"edge\" d=\"M 0 0 V -13.4102 H -10.4\"/><rect class=\"sym\" height=\"6\" width=\"6\" x=\"-3\" y=\"-3\"/><text class=\"lab\" transform=\"translate(0 11)\">2</text></g><path class=\"edge\" d=\"M 0 0 V -81.1898 H 20.8\"/><circle class=\"sym\" cx=\"0\" cy=\"0\" r=\"3\"/><text class=\"lab lft\" transform=\"translate(-3 -7.0)\">5</text></g><circle class=\"sym\" cx=\"0\" cy=\"0\" r=\"3\"/><text class=\"lab\" transform=\"translate(0 -11)\">6</text></g></g></g></g></g></svg>"
      ],
      "text/plain": [
       "<IPython.core.display.SVG object>"
      ]
     },
     "metadata": {},
     "output_type": "display_data"
    }
   ],
   "source": [
    "ts1 = msprime.sim_ancestry(2, random_seed=100)\n",
    "ts2 = msprime.sim_ancestry(2, random_seed=100)\n",
    "display(SVG(ts1.draw_svg(y_axis=True)), SVG(ts2.draw_svg(y_axis=True)))"
   ]
  },
  {
   "cell_type": "markdown",
   "id": "7ea03495",
   "metadata": {},
   "source": [
    "We'll come back to random seeds when we add mutations and implement more complex demographic models later! I'll start using random seeds in this notebook so that you can reproduce these results but please do tinker with these seeds to view different genealogies."
   ]
  },
  {
   "cell_type": "markdown",
   "id": "83ecc6e6",
   "metadata": {},
   "source": [
    "## Varying TMRCA"
   ]
  },
  {
   "cell_type": "markdown",
   "id": "94a66d0b",
   "metadata": {},
   "source": [
    "Using one of our ancestries, let's get the time to most recent common ancestor (TMRCA)."
   ]
  },
  {
   "cell_type": "markdown",
   "id": "cee2b7d2",
   "metadata": {},
   "source": [
    "We can access a specific tree in our tree sequence object using the following code. This may seem odd now but by the end of this module you will have ts objects with multiple trees."
   ]
  },
  {
   "cell_type": "code",
   "execution_count": 11,
   "id": "7c8c8fec",
   "metadata": {},
   "outputs": [],
   "source": [
    "ts = msprime.sim_ancestry(1, random_seed = 200)"
   ]
  },
  {
   "cell_type": "code",
   "execution_count": 12,
   "id": "1ca9ea14",
   "metadata": {
    "scrolled": true
   },
   "outputs": [
    {
     "data": {
      "text/html": [
       "\n",
       "            <div>\n",
       "              <style>\n",
       "                .tskit-table thead tr th {text-align: left;padding: 0.5em 0.5em;}\n",
       "                .tskit-table tbody tr td {padding: 0.5em 0.5em;}\n",
       "                .tskit-table tbody tr td:first-of-type {text-align: left;}\n",
       "                .tskit-details-label {vertical-align: top; padding-right:5px;}\n",
       "                .tskit-table-set {display: inline-flex;flex-wrap: wrap;margin: -12px 0 0 -12px;width: calc(100% + 12px);}\n",
       "                .tskit-table-set-table {margin: 12px 0 0 12px;}\n",
       "                details {display: inline-block;}\n",
       "                summary {cursor: pointer; outline: 0; display: list-item;}\n",
       "              </style>\n",
       "              <div class=\"tskit-table-set\">\n",
       "                <div class=\"tskit-table-set-table\">\n",
       "                  <table class=\"tskit-table\">\n",
       "                    <thead>\n",
       "                      <tr>\n",
       "                        <th style=\"padding:0;line-height:21px;\">\n",
       "                          <img style=\"height: 32px;display: inline-block;padding: 3px 5px 3px 0;\" src=\"https://raw.githubusercontent.com/tskit-dev/administrative/main/tskit_logo.svg\"/>\n",
       "                          <a target=\"_blank\" href=\"https://tskit.dev/tskit/docs/latest/python-api.html#the-tree-class\"> Tree </a>\n",
       "                        </th>\n",
       "                      </tr>\n",
       "                    </thead>\n",
       "                    <tbody>\n",
       "                      <tr><td>Index</td><td>0</td></tr>\n",
       "                      <tr><td>Interval</td><td>0-1 (1)</td></tr>\n",
       "                      <tr><td>Roots</td><td>1</td></tr>\n",
       "                      <tr><td>Nodes</td><td>3</td></tr>\n",
       "                      <tr><td>Sites</td><td>0</td></tr>\n",
       "                      <tr><td>Mutations</td><td>0</td></tr>\n",
       "                      <tr><td>Total Branch Length</td><td>11.797858</td></tr>\n",
       "                    </tbody>\n",
       "                  </table>\n",
       "                </div>\n",
       "              </div>\n",
       "            </div>\n",
       "            "
      ],
      "text/plain": [
       "<tskit.trees.Tree at 0x1104b4a90>"
      ]
     },
     "execution_count": 12,
     "metadata": {},
     "output_type": "execute_result"
    }
   ],
   "source": [
    "ts.first()"
   ]
  },
  {
   "cell_type": "markdown",
   "id": "97f47295",
   "metadata": {},
   "source": [
    "You may not be surprised to learn there is a .last() function as well. It should return the same tree because we have one tree."
   ]
  },
  {
   "cell_type": "code",
   "execution_count": 13,
   "id": "65b41840",
   "metadata": {},
   "outputs": [
    {
     "data": {
      "text/html": [
       "\n",
       "            <div>\n",
       "              <style>\n",
       "                .tskit-table thead tr th {text-align: left;padding: 0.5em 0.5em;}\n",
       "                .tskit-table tbody tr td {padding: 0.5em 0.5em;}\n",
       "                .tskit-table tbody tr td:first-of-type {text-align: left;}\n",
       "                .tskit-details-label {vertical-align: top; padding-right:5px;}\n",
       "                .tskit-table-set {display: inline-flex;flex-wrap: wrap;margin: -12px 0 0 -12px;width: calc(100% + 12px);}\n",
       "                .tskit-table-set-table {margin: 12px 0 0 12px;}\n",
       "                details {display: inline-block;}\n",
       "                summary {cursor: pointer; outline: 0; display: list-item;}\n",
       "              </style>\n",
       "              <div class=\"tskit-table-set\">\n",
       "                <div class=\"tskit-table-set-table\">\n",
       "                  <table class=\"tskit-table\">\n",
       "                    <thead>\n",
       "                      <tr>\n",
       "                        <th style=\"padding:0;line-height:21px;\">\n",
       "                          <img style=\"height: 32px;display: inline-block;padding: 3px 5px 3px 0;\" src=\"https://raw.githubusercontent.com/tskit-dev/administrative/main/tskit_logo.svg\"/>\n",
       "                          <a target=\"_blank\" href=\"https://tskit.dev/tskit/docs/latest/python-api.html#the-tree-class\"> Tree </a>\n",
       "                        </th>\n",
       "                      </tr>\n",
       "                    </thead>\n",
       "                    <tbody>\n",
       "                      <tr><td>Index</td><td>0</td></tr>\n",
       "                      <tr><td>Interval</td><td>0-1 (1)</td></tr>\n",
       "                      <tr><td>Roots</td><td>1</td></tr>\n",
       "                      <tr><td>Nodes</td><td>3</td></tr>\n",
       "                      <tr><td>Sites</td><td>0</td></tr>\n",
       "                      <tr><td>Mutations</td><td>0</td></tr>\n",
       "                      <tr><td>Total Branch Length</td><td>11.797858</td></tr>\n",
       "                    </tbody>\n",
       "                  </table>\n",
       "                </div>\n",
       "              </div>\n",
       "            </div>\n",
       "            "
      ],
      "text/plain": [
       "<tskit.trees.Tree at 0x11050b2b0>"
      ]
     },
     "execution_count": 13,
     "metadata": {},
     "output_type": "execute_result"
    }
   ],
   "source": [
    "ts.last()"
   ]
  },
  {
   "cell_type": "markdown",
   "id": "404f49ae",
   "metadata": {},
   "source": [
    "Alternatively, we can use the index. Remember that Python indexing starts at 0!"
   ]
  },
  {
   "cell_type": "code",
   "execution_count": 14,
   "id": "d39ab42d",
   "metadata": {
    "scrolled": false
   },
   "outputs": [
    {
     "data": {
      "text/html": [
       "\n",
       "            <div>\n",
       "              <style>\n",
       "                .tskit-table thead tr th {text-align: left;padding: 0.5em 0.5em;}\n",
       "                .tskit-table tbody tr td {padding: 0.5em 0.5em;}\n",
       "                .tskit-table tbody tr td:first-of-type {text-align: left;}\n",
       "                .tskit-details-label {vertical-align: top; padding-right:5px;}\n",
       "                .tskit-table-set {display: inline-flex;flex-wrap: wrap;margin: -12px 0 0 -12px;width: calc(100% + 12px);}\n",
       "                .tskit-table-set-table {margin: 12px 0 0 12px;}\n",
       "                details {display: inline-block;}\n",
       "                summary {cursor: pointer; outline: 0; display: list-item;}\n",
       "              </style>\n",
       "              <div class=\"tskit-table-set\">\n",
       "                <div class=\"tskit-table-set-table\">\n",
       "                  <table class=\"tskit-table\">\n",
       "                    <thead>\n",
       "                      <tr>\n",
       "                        <th style=\"padding:0;line-height:21px;\">\n",
       "                          <img style=\"height: 32px;display: inline-block;padding: 3px 5px 3px 0;\" src=\"https://raw.githubusercontent.com/tskit-dev/administrative/main/tskit_logo.svg\"/>\n",
       "                          <a target=\"_blank\" href=\"https://tskit.dev/tskit/docs/latest/python-api.html#the-tree-class\"> Tree </a>\n",
       "                        </th>\n",
       "                      </tr>\n",
       "                    </thead>\n",
       "                    <tbody>\n",
       "                      <tr><td>Index</td><td>0</td></tr>\n",
       "                      <tr><td>Interval</td><td>0-1 (1)</td></tr>\n",
       "                      <tr><td>Roots</td><td>1</td></tr>\n",
       "                      <tr><td>Nodes</td><td>3</td></tr>\n",
       "                      <tr><td>Sites</td><td>0</td></tr>\n",
       "                      <tr><td>Mutations</td><td>0</td></tr>\n",
       "                      <tr><td>Total Branch Length</td><td>11.797858</td></tr>\n",
       "                    </tbody>\n",
       "                  </table>\n",
       "                </div>\n",
       "              </div>\n",
       "            </div>\n",
       "            "
      ],
      "text/plain": [
       "<tskit.trees.Tree at 0x11050b610>"
      ]
     },
     "execution_count": 14,
     "metadata": {},
     "output_type": "execute_result"
    }
   ],
   "source": [
    "ts.at_index(0)"
   ]
  },
  {
   "cell_type": "markdown",
   "id": "f861ef92",
   "metadata": {},
   "source": [
    "Now call the .tmrca() function on the specific tree. Note that two positional argument are required: the nodes for which we want to know the TMRCA."
   ]
  },
  {
   "cell_type": "code",
   "execution_count": 15,
   "id": "f68ebbfe",
   "metadata": {
    "scrolled": true
   },
   "outputs": [
    {
     "data": {
      "text/plain": [
       "5.8989290225478985"
      ]
     },
     "execution_count": 15,
     "metadata": {},
     "output_type": "execute_result"
    }
   ],
   "source": [
    "ts.first().tmrca(0,1)"
   ]
  },
  {
   "cell_type": "markdown",
   "id": "0a1c059b",
   "metadata": {},
   "source": [
    "We can also get the identity of that node using the .mrca() function."
   ]
  },
  {
   "cell_type": "code",
   "execution_count": 16,
   "id": "a41bc03b",
   "metadata": {},
   "outputs": [
    {
     "data": {
      "text/plain": [
       "2"
      ]
     },
     "execution_count": 16,
     "metadata": {},
     "output_type": "execute_result"
    }
   ],
   "source": [
    "ts.first().mrca(0,1)"
   ]
  },
  {
   "cell_type": "markdown",
   "id": "dbcddb1e",
   "metadata": {},
   "source": [
    "**Question**: If the average pair of genes shared a common ancestor 2N generations ago, what should the TMRCA be for a sample with one diploid?"
   ]
  },
  {
   "cell_type": "markdown",
   "id": "066d3d27",
   "metadata": {},
   "source": [
    "Let's write a function to repeat this simulation a number of times and get the mean TMRCA across all our replicates."
   ]
  },
  {
   "cell_type": "code",
   "execution_count": 17,
   "id": "619e48d4",
   "metadata": {},
   "outputs": [],
   "source": [
    "def one_sample_generation_mean(num_reps):\n",
    "    N = num_reps\n",
    "    t_mrca = np.zeros(N)\n",
    "    replicates = msprime.sim_ancestry(1, num_replicates = N)\n",
    "    for i, ts in enumerate(replicates):\n",
    "        t_mrca[i] = ts.first().tmrca(0,1)\n",
    "    return np.mean(t_mrca)"
   ]
  },
  {
   "cell_type": "markdown",
   "id": "2194d34b",
   "metadata": {},
   "source": [
    "Functions are an essential part of bioinformatics and enable mass repitition of certain analyses. Here we define a function that will run an msprime simulation for one diploid N times. We will collect the TMRCA per replicate in a list."
   ]
  },
  {
   "cell_type": "code",
   "execution_count": 18,
   "id": "e1970b09",
   "metadata": {
    "scrolled": true
   },
   "outputs": [
    {
     "data": {
      "text/plain": [
       "3.4446084991078294"
      ]
     },
     "execution_count": 18,
     "metadata": {},
     "output_type": "execute_result"
    }
   ],
   "source": [
    "one_sample_generation_mean(10)"
   ]
  },
  {
   "cell_type": "code",
   "execution_count": 19,
   "id": "8e077032",
   "metadata": {},
   "outputs": [
    {
     "data": {
      "text/plain": [
       "1.7745553747624414"
      ]
     },
     "execution_count": 19,
     "metadata": {},
     "output_type": "execute_result"
    }
   ],
   "source": [
    "one_sample_generation_mean(100)"
   ]
  },
  {
   "cell_type": "code",
   "execution_count": 20,
   "id": "e1acd5e3",
   "metadata": {},
   "outputs": [
    {
     "data": {
      "text/plain": [
       "1.9512507229674165"
      ]
     },
     "execution_count": 20,
     "metadata": {},
     "output_type": "execute_result"
    }
   ],
   "source": [
    "one_sample_generation_mean(1000)"
   ]
  },
  {
   "cell_type": "code",
   "execution_count": 21,
   "id": "bb95c73c",
   "metadata": {
    "scrolled": true
   },
   "outputs": [
    {
     "data": {
      "text/plain": [
       "2.031839095909965"
      ]
     },
     "execution_count": 21,
     "metadata": {},
     "output_type": "execute_result"
    }
   ],
   "source": [
    "one_sample_generation_mean(10000)"
   ]
  },
  {
   "cell_type": "markdown",
   "id": "d9cd44a6",
   "metadata": {},
   "source": [
    "**Question**: What happened to the TMRCA as you add replicates? Why?"
   ]
  },
  {
   "cell_type": "markdown",
   "id": "e1741e55",
   "metadata": {},
   "source": [
    "**Question**: Given that TRMCA in generations = 2N, how many generations (on average) would you have to go back to find the MRCA in a population of 1200 individuals? 5000 individuals?"
   ]
  },
  {
   "cell_type": "markdown",
   "id": "a8b8af35",
   "metadata": {},
   "source": [
    "How much time does it take to run these simulations? Let modify our function to not only return us the mean TMRCA but the time needed to execute the function."
   ]
  },
  {
   "cell_type": "code",
   "execution_count": 22,
   "id": "250fbc7c",
   "metadata": {},
   "outputs": [],
   "source": [
    "import time"
   ]
  },
  {
   "cell_type": "code",
   "execution_count": 23,
   "id": "ca7a8bed",
   "metadata": {},
   "outputs": [],
   "source": [
    "def one_sample_generation_mean(num_reps):\n",
    "    time_start = time.time()\n",
    "    N = num_reps\n",
    "    t_mrca = np.zeros(N)\n",
    "    replicates = msprime.sim_ancestry(1, num_replicates = N)\n",
    "    for i, ts in enumerate(replicates):\n",
    "        t_mrca[i] = ts.first().tmrca(0,1)\n",
    "    time_end = time.time()\n",
    "    total_time = time_end - time_start\n",
    "    return np.mean(t_mrca), total_time"
   ]
  },
  {
   "cell_type": "markdown",
   "id": "4a91d71e",
   "metadata": {},
   "source": [
    "Run this with an increasing number of replicates."
   ]
  },
  {
   "cell_type": "code",
   "execution_count": 24,
   "id": "bb36a9e0",
   "metadata": {
    "scrolled": true
   },
   "outputs": [
    {
     "data": {
      "text/plain": [
       "(1.9326359263567763, 0.0033881664276123047)"
      ]
     },
     "execution_count": 24,
     "metadata": {},
     "output_type": "execute_result"
    }
   ],
   "source": [
    "one_sample_generation_mean(10)"
   ]
  },
  {
   "cell_type": "code",
   "execution_count": 25,
   "id": "cf952a5f",
   "metadata": {},
   "outputs": [
    {
     "data": {
      "text/plain": [
       "(1.8695394467467403, 0.007854223251342773)"
      ]
     },
     "execution_count": 25,
     "metadata": {},
     "output_type": "execute_result"
    }
   ],
   "source": [
    "one_sample_generation_mean(100)"
   ]
  },
  {
   "cell_type": "code",
   "execution_count": 26,
   "id": "23077ddc",
   "metadata": {},
   "outputs": [
    {
     "data": {
      "text/plain": [
       "(2.0365863846622396, 0.05294322967529297)"
      ]
     },
     "execution_count": 26,
     "metadata": {},
     "output_type": "execute_result"
    }
   ],
   "source": [
    "one_sample_generation_mean(1000)"
   ]
  },
  {
   "cell_type": "code",
   "execution_count": 27,
   "id": "0149e4d0",
   "metadata": {
    "scrolled": true
   },
   "outputs": [
    {
     "data": {
      "text/plain": [
       "(2.004546909953981, 0.4829528331756592)"
      ]
     },
     "execution_count": 27,
     "metadata": {},
     "output_type": "execute_result"
    }
   ],
   "source": [
    "one_sample_generation_mean(10000)"
   ]
  },
  {
   "cell_type": "markdown",
   "id": "58f74b03",
   "metadata": {},
   "source": [
    "**Question**: How is time scaling with the number of replicates?"
   ]
  },
  {
   "cell_type": "markdown",
   "id": "3973daa6",
   "metadata": {},
   "source": [
    "## Increased Sample Size"
   ]
  },
  {
   "cell_type": "markdown",
   "id": "eafa56d0",
   "metadata": {},
   "source": [
    "Let's increase the sample size."
   ]
  },
  {
   "cell_type": "markdown",
   "id": "f1eda756",
   "metadata": {},
   "source": [
    "Note that I'm going to add some arguments to the .draw_svg function to make viewing the tree a bit easier. "
   ]
  },
  {
   "cell_type": "code",
   "execution_count": 28,
   "id": "658dda1d",
   "metadata": {
    "scrolled": false
   },
   "outputs": [
    {
     "data": {
      "image/svg+xml": [
       "<svg xmlns=\"http://www.w3.org/2000/svg\" xmlns:ev=\"http://www.w3.org/2001/xml-events\" xmlns:xlink=\"http://www.w3.org/1999/xlink\" baseProfile=\"full\" height=\"200\" version=\"1.1\" width=\"300\"><defs><style type=\"text/css\"><![CDATA[.background path {fill: #808080; fill-opacity: 0}.background path:nth-child(odd) {fill-opacity: .1}.axes {font-size: 14px}.x-axis .tick .lab {font-weight: bold; dominant-baseline: hanging}.axes, .tree {font-size: 14px; text-anchor: middle}.axes line, .edge {stroke: black; fill: none}.y-axis .grid {stroke: #FAFAFA}.node > .sym {fill: black; stroke: none}.site > .sym {stroke: black}.mut text {fill: red; font-style: italic}.mut.extra text {fill: hotpink}.mut line {fill: none; stroke: none}.mut .sym {fill: none; stroke: red}.mut.extra .sym {stroke: hotpink}.node .mut .sym {stroke-width: 1.5px}.tree text, .tree-sequence text {dominant-baseline: central}.plotbox .lab.lft {text-anchor: end}.plotbox .lab.rgt {text-anchor: start}]]></style></defs><g class=\"tree-sequence\"><g class=\"background\"><path d=\"M56.8,0 l223.2,0 l0,138.2 l0,25 l0,5 l-223.2,0 l0,-5 l0,-25 l0,-138.2z\"/></g><g class=\"axes\"><g class=\"x-axis\"><g transform=\"translate(168.4 200)\"><text class=\"lab\" text-anchor=\"middle\" transform=\"translate(0 -11)\">Genome position</text></g><line x1=\"56.8\" x2=\"280\" y1=\"163.2\" y2=\"163.2\"/><g class=\"ticks\"><g class=\"tick\" transform=\"translate(56.8 163.2)\"><line x1=\"0\" x2=\"0\" y1=\"0\" y2=\"5\"/><g transform=\"translate(0 6)\"><text class=\"lab\">0</text></g></g><g class=\"tick\" transform=\"translate(280 163.2)\"><line x1=\"0\" x2=\"0\" y1=\"0\" y2=\"5\"/><g transform=\"translate(0 6)\"><text class=\"lab\">1</text></g></g></g></g><g class=\"y-axis\"><g transform=\"translate(0 65.7)\"><text class=\"lab\" text-anchor=\"middle\" transform=\"translate(11) rotate(-90)\">Time (generations)</text></g><line x1=\"56.8\" x2=\"56.8\" y1=\"121.4\" y2=\"10\"/><g class=\"ticks\"><g class=\"tick\" transform=\"translate(56.8 121.4)\"><line x1=\"0\" x2=\"-5\" y1=\"0\" y2=\"0\"/><g transform=\"translate(-6 0)\"><text class=\"lab\" text-anchor=\"end\">0</text></g></g><g class=\"tick\" transform=\"translate(56.8 77.2324)\"><line x1=\"0\" x2=\"-5\" y1=\"0\" y2=\"0\"/><g transform=\"translate(-6 0)\"><text class=\"lab\" text-anchor=\"end\">2</text></g></g><g class=\"tick\" transform=\"translate(56.8 33.0647)\"><line x1=\"0\" x2=\"-5\" y1=\"0\" y2=\"0\"/><g transform=\"translate(-6 0)\"><text class=\"lab\" text-anchor=\"end\">4</text></g></g></g></g></g><g class=\"plotbox trees\"><g class=\"tree t0\" transform=\"translate(56.8 0)\"><g class=\"plotbox\"><g class=\"c2 node n6 p0 root\" transform=\"translate(111.6 26.8)\"><g class=\"a6 c2 node n4 p0\" transform=\"translate(45.8 93.035)\"><g class=\"a4 i0 leaf node n1 p0 sample\" transform=\"translate(-22.9 1.565)\"><path class=\"edge\" d=\"M 0 0 V -1.565 H 22.9\"/><rect class=\"sym\" height=\"6\" width=\"6\" x=\"-3\" y=\"-3\"/><text class=\"lab\" transform=\"translate(0 11)\">1</text></g><g class=\"a4 i1 leaf node n2 p0 sample\" transform=\"translate(22.9 1.565)\"><path class=\"edge\" d=\"M 0 0 V -1.565 H -22.9\"/><rect class=\"sym\" height=\"6\" width=\"6\" x=\"-3\" y=\"-3\"/><text class=\"lab\" transform=\"translate(0 11)\">2</text></g><path class=\"edge\" d=\"M 0 0 V -93.035 H -45.8\"/><circle class=\"sym\" cx=\"0\" cy=\"0\" r=\"3\"/><text class=\"lab rgt\" transform=\"translate(3 -7.0)\">4</text></g><g class=\"a6 c2 node n5 p0\" transform=\"translate(-45.8 67.9646)\"><g class=\"a5 i0 leaf node n0 p0 sample\" transform=\"translate(-22.9 26.6354)\"><path class=\"edge\" d=\"M 0 0 V -26.6354 H 22.9\"/><rect class=\"sym\" height=\"6\" width=\"6\" x=\"-3\" y=\"-3\"/><text class=\"lab\" transform=\"translate(0 11)\">0</text></g><g class=\"a5 i1 leaf node n3 p0 sample\" transform=\"translate(22.9 26.6354)\"><path class=\"edge\" d=\"M 0 0 V -26.6354 H -22.9\"/><rect class=\"sym\" height=\"6\" width=\"6\" x=\"-3\" y=\"-3\"/><text class=\"lab\" transform=\"translate(0 11)\">3</text></g><path class=\"edge\" d=\"M 0 0 V -67.9646 H 45.8\"/><circle class=\"sym\" cx=\"0\" cy=\"0\" r=\"3\"/><text class=\"lab lft\" transform=\"translate(-3 -7.0)\">5</text></g><circle class=\"sym\" cx=\"0\" cy=\"0\" r=\"3\"/><text class=\"lab\" transform=\"translate(0 -11)\">6</text></g></g></g></g></g></svg>"
      ],
      "text/plain": [
       "<IPython.core.display.SVG object>"
      ]
     },
     "execution_count": 28,
     "metadata": {},
     "output_type": "execute_result"
    }
   ],
   "source": [
    "ts = msprime.sim_ancestry(2, random_seed = 1234)\n",
    "SVG(ts.draw_svg(size=(300,200), y_axis = True, y_ticks=[0,2,4]))"
   ]
  },
  {
   "cell_type": "markdown",
   "id": "517a45a5",
   "metadata": {},
   "source": [
    "## Saving Tree Plots"
   ]
  },
  {
   "cell_type": "markdown",
   "id": "e52c69e3",
   "metadata": {},
   "source": [
    "Increase the sample size again and save the drawing as an object. Then call SVG() on the object. Let's learn how to save these plots."
   ]
  },
  {
   "cell_type": "code",
   "execution_count": 29,
   "id": "904f39e2",
   "metadata": {
    "scrolled": false
   },
   "outputs": [
    {
     "data": {
      "image/svg+xml": [
       "<svg xmlns=\"http://www.w3.org/2000/svg\" xmlns:ev=\"http://www.w3.org/2001/xml-events\" xmlns:xlink=\"http://www.w3.org/1999/xlink\" baseProfile=\"full\" height=\"400\" version=\"1.1\" width=\"600\"><defs><style type=\"text/css\"><![CDATA[.background path {fill: #808080; fill-opacity: 0}.background path:nth-child(odd) {fill-opacity: .1}.axes {font-size: 14px}.x-axis .tick .lab {font-weight: bold; dominant-baseline: hanging}.axes, .tree {font-size: 14px; text-anchor: middle}.axes line, .edge {stroke: black; fill: none}.y-axis .grid {stroke: #FAFAFA}.node > .sym {fill: black; stroke: none}.site > .sym {stroke: black}.mut text {fill: red; font-style: italic}.mut.extra text {fill: hotpink}.mut line {fill: none; stroke: none}.mut .sym {fill: none; stroke: red}.mut.extra .sym {stroke: hotpink}.node .mut .sym {stroke-width: 1.5px}.tree text, .tree-sequence text {dominant-baseline: central}.plotbox .lab.lft {text-anchor: end}.plotbox .lab.rgt {text-anchor: start}]]></style></defs><g class=\"tree-sequence\"><g class=\"background\"><path d=\"M56.8,0 l523.2,0 l0,338.2 l0,25 l0,5 l-523.2,0 l0,-5 l0,-25 l0,-338.2z\"/></g><g class=\"axes\"><g class=\"x-axis\"><g transform=\"translate(318.4 400)\"><text class=\"lab\" text-anchor=\"middle\" transform=\"translate(0 -11)\">Genome position</text></g><line x1=\"56.8\" x2=\"580\" y1=\"363.2\" y2=\"363.2\"/><g class=\"ticks\"><g class=\"tick\" transform=\"translate(56.8 363.2)\"><line x1=\"0\" x2=\"0\" y1=\"0\" y2=\"5\"/><g transform=\"translate(0 6)\"><text class=\"lab\">0</text></g></g><g class=\"tick\" transform=\"translate(580 363.2)\"><line x1=\"0\" x2=\"0\" y1=\"0\" y2=\"5\"/><g transform=\"translate(0 6)\"><text class=\"lab\">1</text></g></g></g></g><g class=\"y-axis\"><g transform=\"translate(0 165.7)\"><text class=\"lab\" text-anchor=\"middle\" transform=\"translate(11) rotate(-90)\">Time (generations)</text></g><line x1=\"56.8\" x2=\"56.8\" y1=\"321.4\" y2=\"10\"/><g class=\"ticks\"><g class=\"tick\" transform=\"translate(56.8 321.4)\"><line x1=\"0\" x2=\"-5\" y1=\"0\" y2=\"0\"/><g transform=\"translate(-6 0)\"><text class=\"lab\" text-anchor=\"end\">0</text></g></g><g class=\"tick\" transform=\"translate(56.8 148.817)\"><line x1=\"0\" x2=\"-5\" y1=\"0\" y2=\"0\"/><g transform=\"translate(-6 0)\"><text class=\"lab\" text-anchor=\"end\">2</text></g></g><g class=\"tick\" transform=\"translate(56.8 -23.7662)\"><line x1=\"0\" x2=\"-5\" y1=\"0\" y2=\"0\"/><g transform=\"translate(-6 0)\"><text class=\"lab\" text-anchor=\"end\">4</text></g></g></g></g></g><g class=\"plotbox trees\"><g class=\"tree t0\" transform=\"translate(56.8 0)\"><g class=\"plotbox\"><g class=\"c2 node n38 p0 root\" transform=\"translate(251.596 26.8)\"><g class=\"a38 c2 node n35 p0\" transform=\"translate(-159.116 223.876)\"><g class=\"a35 c2 node n25 p0\" transform=\"translate(-42.28 65.535)\"><g class=\"a25 i0 leaf node n0 p0 sample\" transform=\"translate(-18.12 5.18901)\"><path class=\"edge\" d=\"M 0 0 V -5.18901 H 18.12\"/><rect class=\"sym\" height=\"6\" width=\"6\" x=\"-3\" y=\"-3\"/><text class=\"lab\" transform=\"translate(0 11)\">0</text></g><g class=\"a25 c2 node n23 p0\" transform=\"translate(18.12 0.359385)\"><g class=\"a23 i0 leaf node n1 p0 sample\" transform=\"translate(-12.08 4.82962)\"><path class=\"edge\" d=\"M 0 0 V -4.82962 H 12.08\"/><rect class=\"sym\" height=\"6\" width=\"6\" x=\"-3\" y=\"-3\"/><text class=\"lab\" transform=\"translate(0 11)\">1</text></g><g class=\"a23 i6 leaf node n12 p0 sample\" transform=\"translate(12.08 4.82962)\"><path class=\"edge\" d=\"M 0 0 V -4.82962 H -12.08\"/><rect class=\"sym\" height=\"6\" width=\"6\" x=\"-3\" y=\"-3\"/><text class=\"lab\" transform=\"translate(0 11)\">12</text></g><path class=\"edge\" d=\"M 0 0 V -0.359385 H -18.12\"/><circle class=\"sym\" cx=\"0\" cy=\"0\" r=\"3\"/><text class=\"lab rgt\" transform=\"translate(3 -7.0)\">23</text></g><path class=\"edge\" d=\"M 0 0 V -65.535 H 42.28\"/><circle class=\"sym\" cx=\"0\" cy=\"0\" r=\"3\"/><text class=\"lab lft\" transform=\"translate(-3 -7.0)\">25</text></g><g class=\"a35 c2 node n31 p0\" transform=\"translate(42.28 34.3067)\"><g class=\"a31 i7 leaf node n15 p0 sample\" transform=\"translate(18.12 36.4174)\"><path class=\"edge\" d=\"M 0 0 V -36.4174 H -18.12\"/><rect class=\"sym\" height=\"6\" width=\"6\" x=\"-3\" y=\"-3\"/><text class=\"lab\" transform=\"translate(0 11)\">15</text></g><g class=\"a31 c2 node n29 p0\" transform=\"translate(-18.12 27.4892)\"><g class=\"a29 i3 leaf node n7 p0 sample\" transform=\"translate(-12.08 8.9282)\"><path class=\"edge\" d=\"M 0 0 V -8.9282 H 12.08\"/><rect class=\"sym\" height=\"6\" width=\"6\" x=\"-3\" y=\"-3\"/><text class=\"lab\" transform=\"translate(0 11)\">7</text></g><g class=\"a29 i8 leaf node n17 p0 sample\" transform=\"translate(12.08 8.9282)\"><path class=\"edge\" d=\"M 0 0 V -8.9282 H -12.08\"/><rect class=\"sym\" height=\"6\" width=\"6\" x=\"-3\" y=\"-3\"/><text class=\"lab\" transform=\"translate(0 11)\">17</text></g><path class=\"edge\" d=\"M 0 0 V -27.4892 H 18.12\"/><circle class=\"sym\" cx=\"0\" cy=\"0\" r=\"3\"/><text class=\"lab lft\" transform=\"translate(-3 -7.0)\">29</text></g><path class=\"edge\" d=\"M 0 0 V -34.3067 H -42.28\"/><circle class=\"sym\" cx=\"0\" cy=\"0\" r=\"3\"/><text class=\"lab rgt\" transform=\"translate(3 -7.0)\">31</text></g><path class=\"edge\" d=\"M 0 0 V -223.876 H 159.116\"/><circle class=\"sym\" cx=\"0\" cy=\"0\" r=\"3\"/><text class=\"lab lft\" transform=\"translate(-3 -7.0)\">35</text></g><g class=\"a38 c2 node n37 p0\" transform=\"translate(159.116 171.895)\"><g class=\"a37 i7 leaf node n14 p0 sample\" transform=\"translate(80.4075 122.705)\"><path class=\"edge\" d=\"M 0 0 V -122.705 H -80.4075\"/><rect class=\"sym\" height=\"6\" width=\"6\" x=\"-3\" y=\"-3\"/><text class=\"lab\" transform=\"translate(0 11)\">14</text></g><g class=\"a37 c2 node n36 p0\" transform=\"translate(-80.4075 10.199)\"><g class=\"a36 c2 node n32 p0\" transform=\"translate(80.785 66.5089)\"><g class=\"a32 c2 node n20 p0\" transform=\"translate(43.79 45.3866)\"><g class=\"a20 i4 leaf node n9 p0 sample\" transform=\"translate(-12.08 0.610423)\"><path class=\"edge\" d=\"M 0 0 V -0.610423 H 12.08\"/><rect class=\"sym\" height=\"6\" width=\"6\" x=\"-3\" y=\"-3\"/><text class=\"lab\" transform=\"translate(0 11)\">9</text></g><g class=\"a20 i9 leaf node n18 p0 sample\" transform=\"translate(12.08 0.610423)\"><path class=\"edge\" d=\"M 0 0 V -0.610423 H -12.08\"/><rect class=\"sym\" height=\"6\" width=\"6\" x=\"-3\" y=\"-3\"/><text class=\"lab\" transform=\"translate(0 11)\">18</text></g><path class=\"edge\" d=\"M 0 0 V -45.3866 H -43.79\"/><circle class=\"sym\" cx=\"0\" cy=\"0\" r=\"3\"/><text class=\"lab rgt\" transform=\"translate(3 -7.0)\">20</text></g><g class=\"a32 c2 node n28 p0\" transform=\"translate(-43.79 39.1189)\"><g class=\"a28 c2 node n26 p0\" transform=\"translate(33.22 1.30178)\"><g class=\"a26 i9 leaf node n19 p0 sample\" transform=\"translate(18.12 5.57631)\"><path class=\"edge\" d=\"M 0 0 V -5.57631 H -18.12\"/><rect class=\"sym\" height=\"6\" width=\"6\" x=\"-3\" y=\"-3\"/><text class=\"lab\" transform=\"translate(0 11)\">19</text></g><g class=\"a26 c2 node n21 p0\" transform=\"translate(-18.12 3.90808)\"><g class=\"a21 i4 leaf node n8 p0 sample\" transform=\"translate(-12.08 1.66823)\"><path class=\"edge\" d=\"M 0 0 V -1.66823 H 12.08\"/><rect class=\"sym\" height=\"6\" width=\"6\" x=\"-3\" y=\"-3\"/><text class=\"lab\" transform=\"translate(0 11)\">8</text></g><g class=\"a21 i6 leaf node n13 p0 sample\" transform=\"translate(12.08 1.66823)\"><path class=\"edge\" d=\"M 0 0 V -1.66823 H -12.08\"/><rect class=\"sym\" height=\"6\" width=\"6\" x=\"-3\" y=\"-3\"/><text class=\"lab\" transform=\"translate(0 11)\">13</text></g><path class=\"edge\" d=\"M 0 0 V -3.90808 H 18.12\"/><circle class=\"sym\" cx=\"0\" cy=\"0\" r=\"3\"/><text class=\"lab lft\" transform=\"translate(-3 -7.0)\">21</text></g><path class=\"edge\" d=\"M 0 0 V -1.30178 H -33.22\"/><circle class=\"sym\" cx=\"0\" cy=\"0\" r=\"3\"/><text class=\"lab rgt\" transform=\"translate(3 -7.0)\">26</text></g><g class=\"a28 c2 node n27 p0\" transform=\"translate(-33.22 0.570191)\"><g class=\"a27 i1 leaf node n3 p0 sample\" transform=\"translate(-12.08 6.30789)\"><path class=\"edge\" d=\"M 0 0 V -6.30789 H 12.08\"/><rect class=\"sym\" height=\"6\" width=\"6\" x=\"-3\" y=\"-3\"/><text class=\"lab\" transform=\"translate(0 11)\">3</text></g><g class=\"a27 i2 leaf node n4 p0 sample\" transform=\"translate(12.08 6.30789)\"><path class=\"edge\" d=\"M 0 0 V -6.30789 H -12.08\"/><rect class=\"sym\" height=\"6\" width=\"6\" x=\"-3\" y=\"-3\"/><text class=\"lab\" transform=\"translate(0 11)\">4</text></g><path class=\"edge\" d=\"M 0 0 V -0.570191 H 33.22\"/><circle class=\"sym\" cx=\"0\" cy=\"0\" r=\"3\"/><text class=\"lab lft\" transform=\"translate(-3 -7.0)\">27</text></g><path class=\"edge\" d=\"M 0 0 V -39.1189 H 43.79\"/><circle class=\"sym\" cx=\"0\" cy=\"0\" r=\"3\"/><text class=\"lab lft\" transform=\"translate(-3 -7.0)\">28</text></g><path class=\"edge\" d=\"M 0 0 V -66.5089 H -80.785\"/><circle class=\"sym\" cx=\"0\" cy=\"0\" r=\"3\"/><text class=\"lab rgt\" transform=\"translate(3 -7.0)\">32</text></g><g class=\"a36 c2 node n34 p0\" transform=\"translate(-80.785 50.7538)\"><g class=\"a34 c2 node n22 p0\" transform=\"translate(36.24 59.2586)\"><g class=\"a22 i3 leaf node n6 p0 sample\" transform=\"translate(-12.08 2.49348)\"><path class=\"edge\" d=\"M 0 0 V -2.49348 H 12.08\"/><rect class=\"sym\" height=\"6\" width=\"6\" x=\"-3\" y=\"-3\"/><text class=\"lab\" transform=\"translate(0 11)\">6</text></g><g class=\"a22 i5 leaf node n11 p0 sample\" transform=\"translate(12.08 2.49348)\"><path class=\"edge\" d=\"M 0 0 V -2.49348 H -12.08\"/><rect class=\"sym\" height=\"6\" width=\"6\" x=\"-3\" y=\"-3\"/><text class=\"lab\" transform=\"translate(0 11)\">11</text></g><path class=\"edge\" d=\"M 0 0 V -59.2586 H -36.24\"/><circle class=\"sym\" cx=\"0\" cy=\"0\" r=\"3\"/><text class=\"lab rgt\" transform=\"translate(3 -7.0)\">22</text></g><g class=\"a34 c2 node n33 p0\" transform=\"translate(-36.24 1.69342)\"><g class=\"a33 c2 node n24 p0\" transform=\"translate(24.16 54.946)\"><g class=\"a24 i2 leaf node n5 p0 sample\" transform=\"translate(-12.08 5.11264)\"><path class=\"edge\" d=\"M 0 0 V -5.11264 H 12.08\"/><rect class=\"sym\" height=\"6\" width=\"6\" x=\"-3\" y=\"-3\"/><text class=\"lab\" transform=\"translate(0 11)\">5</text></g><g class=\"a24 i8 leaf node n16 p0 sample\" transform=\"translate(12.08 5.11264)\"><path class=\"edge\" d=\"M 0 0 V -5.11264 H -12.08\"/><rect class=\"sym\" height=\"6\" width=\"6\" x=\"-3\" y=\"-3\"/><text class=\"lab\" transform=\"translate(0 11)\">16</text></g><path class=\"edge\" d=\"M 0 0 V -54.946 H -24.16\"/><circle class=\"sym\" cx=\"0\" cy=\"0\" r=\"3\"/><text class=\"lab rgt\" transform=\"translate(3 -7.0)\">24</text></g><g class=\"a33 c2 node n30 p0\" transform=\"translate(-24.16 45.0263)\"><g class=\"a30 i1 leaf node n2 p0 sample\" transform=\"translate(-12.08 15.0324)\"><path class=\"edge\" d=\"M 0 0 V -15.0324 H 12.08\"/><rect class=\"sym\" height=\"6\" width=\"6\" x=\"-3\" y=\"-3\"/><text class=\"lab\" transform=\"translate(0 11)\">2</text></g><g class=\"a30 i5 leaf node n10 p0 sample\" transform=\"translate(12.08 15.0324)\"><path class=\"edge\" d=\"M 0 0 V -15.0324 H -12.08\"/><rect class=\"sym\" height=\"6\" width=\"6\" x=\"-3\" y=\"-3\"/><text class=\"lab\" transform=\"translate(0 11)\">10</text></g><path class=\"edge\" d=\"M 0 0 V -45.0263 H 24.16\"/><circle class=\"sym\" cx=\"0\" cy=\"0\" r=\"3\"/><text class=\"lab lft\" transform=\"translate(-3 -7.0)\">30</text></g><path class=\"edge\" d=\"M 0 0 V -1.69342 H 36.24\"/><circle class=\"sym\" cx=\"0\" cy=\"0\" r=\"3\"/><text class=\"lab lft\" transform=\"translate(-3 -7.0)\">33</text></g><path class=\"edge\" d=\"M 0 0 V -50.7538 H 80.785\"/><circle class=\"sym\" cx=\"0\" cy=\"0\" r=\"3\"/><text class=\"lab lft\" transform=\"translate(-3 -7.0)\">34</text></g><path class=\"edge\" d=\"M 0 0 V -10.199 H 80.4075\"/><circle class=\"sym\" cx=\"0\" cy=\"0\" r=\"3\"/><text class=\"lab lft\" transform=\"translate(-3 -7.0)\">36</text></g><path class=\"edge\" d=\"M 0 0 V -171.895 H -159.116\"/><circle class=\"sym\" cx=\"0\" cy=\"0\" r=\"3\"/><text class=\"lab rgt\" transform=\"translate(3 -7.0)\">37</text></g><circle class=\"sym\" cx=\"0\" cy=\"0\" r=\"3\"/><text class=\"lab\" transform=\"translate(0 -11)\">38</text></g></g></g></g></g></svg>"
      ],
      "text/plain": [
       "<IPython.core.display.SVG object>"
      ]
     },
     "execution_count": 29,
     "metadata": {},
     "output_type": "execute_result"
    }
   ],
   "source": [
    "ts = msprime.sim_ancestry(10, random_seed = 5678)\n",
    "ts_plot = ts.draw_svg(size=(600,400), y_axis = True, y_ticks=[0,2,4])\n",
    "SVG(ts_plot)"
   ]
  },
  {
   "cell_type": "markdown",
   "id": "4b0672e1",
   "metadata": {},
   "source": [
    "What a beautiful simulation. It's unlikely that such simulations will be a main figure in a manuscript but they may be useful in a presentation or in the supplement."
   ]
  },
  {
   "cell_type": "markdown",
   "id": "97fd9393",
   "metadata": {},
   "source": [
    "We save the same way we would in any general Pythonic sense."
   ]
  },
  {
   "cell_type": "code",
   "execution_count": 30,
   "id": "ccf1fedb",
   "metadata": {},
   "outputs": [],
   "source": [
    "with open('msprime_ts_plot.svg', 'w') as svg_file:\n",
    "        svg_file.write(ts_plot)"
   ]
  },
  {
   "cell_type": "markdown",
   "id": "5a158acd",
   "metadata": {},
   "source": [
    "## Ploidy"
   ]
  },
  {
   "cell_type": "markdown",
   "id": "7317ecba",
   "metadata": {},
   "source": [
    "msprime defaults to diploid but one can specify the ploidy with the ploidy argument in ancestry simulations. If we increase from 2 to 3 there should be 50% more nodes in our simulation."
   ]
  },
  {
   "cell_type": "code",
   "execution_count": 31,
   "id": "d0ff0585",
   "metadata": {
    "scrolled": true
   },
   "outputs": [
    {
     "data": {
      "text/html": [
       "\n",
       "            <div>\n",
       "              <style>\n",
       "                .tskit-table thead tr th {text-align: left;padding: 0.5em 0.5em;}\n",
       "                .tskit-table tbody tr td {padding: 0.5em 0.5em;}\n",
       "                .tskit-table tbody tr td:first-of-type {text-align: left;}\n",
       "                .tskit-details-label {vertical-align: top; padding-right:5px;}\n",
       "                .tskit-table-set {display: inline-flex;flex-wrap: wrap;margin: -12px 0 0 -12px;width: calc(100% + 12px);}\n",
       "                .tskit-table-set-table {margin: 12px 0 0 12px;}\n",
       "                details {display: inline-block;}\n",
       "                summary {cursor: pointer; outline: 0; display: list-item;}\n",
       "              </style>\n",
       "              <div class=\"tskit-table-set\">\n",
       "                <div class=\"tskit-table-set-table\">\n",
       "                  <table class=\"tskit-table\">\n",
       "                    <thead>\n",
       "                      <tr>\n",
       "                        <th style=\"padding:0;line-height:21px;\">\n",
       "                          <img style=\"height: 32px;display: inline-block;padding: 3px 5px 3px 0;\" src=\"https://raw.githubusercontent.com/tskit-dev/administrative/main/tskit_logo.svg\"/>\n",
       "                          <a target=\"_blank\" href=\"https://tskit.dev/tskit/docs/latest/python-api.html#the-treesequence-class\"> Tree Sequence </a>\n",
       "                        </th>\n",
       "                      </tr>\n",
       "                    </thead>\n",
       "                    <tbody>\n",
       "                      <tr><td>Trees</td><td>1</td></tr>\n",
       "                      <tr><td>Sequence Length</td><td>1.0</td></tr>\n",
       "                      <tr><td>Time Units</td><td>generations</td></tr>\n",
       "                      <tr><td>Sample Nodes</td><td>30</td></tr>\n",
       "                      <tr><td>Total Size</td><td>5.5 KiB</td></tr>\n",
       "                      <tr>\n",
       "                        <td>Metadata</td><td style=\"text-align: left;\">No Metadata</td></tr>\n",
       "                    </tbody>\n",
       "                  </table>\n",
       "                </div>\n",
       "                <div class=\"tskit-table-set-table\">\n",
       "                  <table class=\"tskit-table\">\n",
       "                    <thead>\n",
       "                      <tr>\n",
       "                        <th style=\"line-height:21px;\">Table</th>\n",
       "                        <th>Rows</th>\n",
       "                        <th>Size</th>\n",
       "                        <th>Has Metadata</th>\n",
       "                      </tr>\n",
       "                    </thead>\n",
       "                    <tbody>\n",
       "                    \n",
       "                  <tr>\n",
       "                    <td>Edges</td>\n",
       "                      <td>58</td>\n",
       "                      <td>1.8 KiB</td>\n",
       "                      <td style=\"text-align: center;\">\n",
       "                        \n",
       "                      </td>\n",
       "                    </tr>\n",
       "                \n",
       "                  <tr>\n",
       "                    <td>Individuals</td>\n",
       "                      <td>10</td>\n",
       "                      <td>304 Bytes</td>\n",
       "                      <td style=\"text-align: center;\">\n",
       "                        \n",
       "                      </td>\n",
       "                    </tr>\n",
       "                \n",
       "                  <tr>\n",
       "                    <td>Migrations</td>\n",
       "                      <td>0</td>\n",
       "                      <td>8 Bytes</td>\n",
       "                      <td style=\"text-align: center;\">\n",
       "                        \n",
       "                      </td>\n",
       "                    </tr>\n",
       "                \n",
       "                  <tr>\n",
       "                    <td>Mutations</td>\n",
       "                      <td>0</td>\n",
       "                      <td>16 Bytes</td>\n",
       "                      <td style=\"text-align: center;\">\n",
       "                        \n",
       "                      </td>\n",
       "                    </tr>\n",
       "                \n",
       "                  <tr>\n",
       "                    <td>Nodes</td>\n",
       "                      <td>59</td>\n",
       "                      <td>1.6 KiB</td>\n",
       "                      <td style=\"text-align: center;\">\n",
       "                        \n",
       "                      </td>\n",
       "                    </tr>\n",
       "                \n",
       "                  <tr>\n",
       "                    <td>Populations</td>\n",
       "                      <td>1</td>\n",
       "                      <td>224 Bytes</td>\n",
       "                      <td style=\"text-align: center;\">\n",
       "                        ✅\n",
       "                      </td>\n",
       "                    </tr>\n",
       "                \n",
       "                  <tr>\n",
       "                    <td>Provenances</td>\n",
       "                      <td>1</td>\n",
       "                      <td>1007 Bytes</td>\n",
       "                      <td style=\"text-align: center;\">\n",
       "                        \n",
       "                      </td>\n",
       "                    </tr>\n",
       "                \n",
       "                  <tr>\n",
       "                    <td>Sites</td>\n",
       "                      <td>0</td>\n",
       "                      <td>16 Bytes</td>\n",
       "                      <td style=\"text-align: center;\">\n",
       "                        \n",
       "                      </td>\n",
       "                    </tr>\n",
       "                \n",
       "                    </tbody>\n",
       "                  </table>\n",
       "                </div>\n",
       "              </div>\n",
       "            </div>\n",
       "            "
      ],
      "text/plain": [
       "<tskit.trees.TreeSequence at 0x1104b4100>"
      ]
     },
     "execution_count": 31,
     "metadata": {},
     "output_type": "execute_result"
    }
   ],
   "source": [
    "ts = msprime.sim_ancestry(10, ploidy = 3, random_seed = 787)\n",
    "ts"
   ]
  },
  {
   "cell_type": "code",
   "execution_count": 32,
   "id": "d12bfd1d",
   "metadata": {},
   "outputs": [
    {
     "data": {
      "image/svg+xml": [
       "<svg xmlns=\"http://www.w3.org/2000/svg\" xmlns:ev=\"http://www.w3.org/2001/xml-events\" xmlns:xlink=\"http://www.w3.org/1999/xlink\" baseProfile=\"full\" height=\"400\" version=\"1.1\" width=\"600\"><defs><style type=\"text/css\"><![CDATA[.background path {fill: #808080; fill-opacity: 0}.background path:nth-child(odd) {fill-opacity: .1}.axes {font-size: 14px}.x-axis .tick .lab {font-weight: bold; dominant-baseline: hanging}.axes, .tree {font-size: 14px; text-anchor: middle}.axes line, .edge {stroke: black; fill: none}.y-axis .grid {stroke: #FAFAFA}.node > .sym {fill: black; stroke: none}.site > .sym {stroke: black}.mut text {fill: red; font-style: italic}.mut.extra text {fill: hotpink}.mut line {fill: none; stroke: none}.mut .sym {fill: none; stroke: red}.mut.extra .sym {stroke: hotpink}.node .mut .sym {stroke-width: 1.5px}.tree text, .tree-sequence text {dominant-baseline: central}.plotbox .lab.lft {text-anchor: end}.plotbox .lab.rgt {text-anchor: start}]]></style></defs><g class=\"tree-sequence\"><g class=\"background\"><path d=\"M56.8,0 l523.2,0 l0,338.2 l0,25 l0,5 l-523.2,0 l0,-5 l0,-25 l0,-338.2z\"/></g><g class=\"axes\"><g class=\"x-axis\"><g transform=\"translate(318.4 400)\"><text class=\"lab\" text-anchor=\"middle\" transform=\"translate(0 -11)\">Genome position</text></g><line x1=\"56.8\" x2=\"580\" y1=\"363.2\" y2=\"363.2\"/><g class=\"ticks\"><g class=\"tick\" transform=\"translate(56.8 363.2)\"><line x1=\"0\" x2=\"0\" y1=\"0\" y2=\"5\"/><g transform=\"translate(0 6)\"><text class=\"lab\">0</text></g></g><g class=\"tick\" transform=\"translate(580 363.2)\"><line x1=\"0\" x2=\"0\" y1=\"0\" y2=\"5\"/><g transform=\"translate(0 6)\"><text class=\"lab\">1</text></g></g></g></g><g class=\"y-axis\"><g transform=\"translate(0 165.7)\"><text class=\"lab\" text-anchor=\"middle\" transform=\"translate(11) rotate(-90)\">Time (generations)</text></g><line x1=\"56.8\" x2=\"56.8\" y1=\"321.4\" y2=\"10\"/><g class=\"ticks\"><g class=\"tick\" transform=\"translate(56.8 321.4)\"><line x1=\"0\" x2=\"-5\" y1=\"0\" y2=\"0\"/><g transform=\"translate(-6 0)\"><text class=\"lab\" text-anchor=\"end\">0</text></g></g><g class=\"tick\" transform=\"translate(56.8 221.022)\"><line x1=\"0\" x2=\"-5\" y1=\"0\" y2=\"0\"/><g transform=\"translate(-6 0)\"><text class=\"lab\" text-anchor=\"end\">2</text></g></g><g class=\"tick\" transform=\"translate(56.8 120.643)\"><line x1=\"0\" x2=\"-5\" y1=\"0\" y2=\"0\"/><g transform=\"translate(-6 0)\"><text class=\"lab\" text-anchor=\"end\">4</text></g></g></g></g></g><g class=\"plotbox trees\"><g class=\"tree t0\" transform=\"translate(56.8 0)\"><g class=\"plotbox\"><g class=\"c2 node n58 p0 root\" transform=\"translate(158.499 26.8)\"><g class=\"a58 c2 node n51 p0\" transform=\"translate(-118.366 260.415)\"><g class=\"a51 i0 leaf node n0 p0 sample\" transform=\"translate(-12.08 34.1846)\"><path class=\"edge\" d=\"M 0 0 V -34.1846 H 12.08\"/><rect class=\"sym\" height=\"6\" width=\"6\" x=\"-3\" y=\"-3\"/><text class=\"lab\" transform=\"translate(0 11)\">0</text></g><g class=\"a51 c2 node n39 p0\" transform=\"translate(12.08 29.8101)\"><g class=\"a39 i2 leaf node n8 p0 sample\" transform=\"translate(-8.05333 4.37452)\"><path class=\"edge\" d=\"M 0 0 V -4.37452 H 8.05333\"/><rect class=\"sym\" height=\"6\" width=\"6\" x=\"-3\" y=\"-3\"/><text class=\"lab\" transform=\"translate(0 11)\">8</text></g><g class=\"a39 i6 leaf node n20 p0 sample\" transform=\"translate(8.05333 4.37452)\"><path class=\"edge\" d=\"M 0 0 V -4.37452 H -8.05333\"/><rect class=\"sym\" height=\"6\" width=\"6\" x=\"-3\" y=\"-3\"/><text class=\"lab\" transform=\"translate(0 11)\">20</text></g><path class=\"edge\" d=\"M 0 0 V -29.8101 H -12.08\"/><circle class=\"sym\" cx=\"0\" cy=\"0\" r=\"3\"/><text class=\"lab rgt\" transform=\"translate(3 -7.0)\">39</text></g><path class=\"edge\" d=\"M 0 0 V -260.415 H 118.366\"/><circle class=\"sym\" cx=\"0\" cy=\"0\" r=\"3\"/><text class=\"lab lft\" transform=\"translate(-3 -7.0)\">51</text></g><g class=\"a58 c2 node n57 p0\" transform=\"translate(118.366 134.059)\"><g class=\"a57 c2 node n50 p0\" transform=\"translate(-170.292 133.283)\"><g class=\"a50 c2 node n31 p0\" transform=\"translate(-22.1467 26.8615)\"><g class=\"a31 i0 leaf node n1 p0 sample\" transform=\"translate(-8.05333 0.396779)\"><path class=\"edge\" d=\"M 0 0 V -0.396779 H 8.05333\"/><rect class=\"sym\" height=\"6\" width=\"6\" x=\"-3\" y=\"-3\"/><text class=\"lab\" transform=\"translate(0 11)\">1</text></g><g class=\"a31 i3 leaf node n10 p0 sample\" transform=\"translate(8.05333 0.396779)\"><path class=\"edge\" d=\"M 0 0 V -0.396779 H -8.05333\"/><rect class=\"sym\" height=\"6\" width=\"6\" x=\"-3\" y=\"-3\"/><text class=\"lab\" transform=\"translate(0 11)\">10</text></g><path class=\"edge\" d=\"M 0 0 V -26.8615 H 22.1467\"/><circle class=\"sym\" cx=\"0\" cy=\"0\" r=\"3\"/><text class=\"lab lft\" transform=\"translate(-3 -7.0)\">31</text></g><g class=\"a50 c2 node n38 p0\" transform=\"translate(22.1467 23.7895)\"><g class=\"a38 i5 leaf node n15 p0 sample\" transform=\"translate(12.08 3.46881)\"><path class=\"edge\" d=\"M 0 0 V -3.46881 H -12.08\"/><rect class=\"sym\" height=\"6\" width=\"6\" x=\"-3\" y=\"-3\"/><text class=\"lab\" transform=\"translate(0 11)\">15</text></g><g class=\"a38 c2 node n36 p0\" transform=\"translate(-12.08 0.841836)\"><g class=\"a36 i1 leaf node n3 p0 sample\" transform=\"translate(-8.05333 2.62698)\"><path class=\"edge\" d=\"M 0 0 V -2.62698 H 8.05333\"/><rect class=\"sym\" height=\"6\" width=\"6\" x=\"-3\" y=\"-3\"/><text class=\"lab\" transform=\"translate(0 11)\">3</text></g><g class=\"a36 i1 leaf node n4 p0 sample\" transform=\"translate(8.05333 2.62698)\"><path class=\"edge\" d=\"M 0 0 V -2.62698 H -8.05333\"/><rect class=\"sym\" height=\"6\" width=\"6\" x=\"-3\" y=\"-3\"/><text class=\"lab\" transform=\"translate(0 11)\">4</text></g><path class=\"edge\" d=\"M 0 0 V -0.841836 H 12.08\"/><circle class=\"sym\" cx=\"0\" cy=\"0\" r=\"3\"/><text class=\"lab lft\" transform=\"translate(-3 -7.0)\">36</text></g><path class=\"edge\" d=\"M 0 0 V -23.7895 H -22.1467\"/><circle class=\"sym\" cx=\"0\" cy=\"0\" r=\"3\"/><text class=\"lab rgt\" transform=\"translate(3 -7.0)\">38</text></g><path class=\"edge\" d=\"M 0 0 V -133.283 H 170.292\"/><circle class=\"sym\" cx=\"0\" cy=\"0\" r=\"3\"/><text class=\"lab lft\" transform=\"translate(-3 -7.0)\">50</text></g><g class=\"a57 c2 node n56 p0\" transform=\"translate(170.292 73.616)\"><g class=\"a56 c2 node n32 p0\" transform=\"translate(39.9364 86.4877)\"><g class=\"a32 i2 leaf node n6 p0 sample\" transform=\"translate(-8.05333 0.437459)\"><path class=\"edge\" d=\"M 0 0 V -0.437459 H 8.05333\"/><rect class=\"sym\" height=\"6\" width=\"6\" x=\"-3\" y=\"-3\"/><text class=\"lab\" transform=\"translate(0 11)\">6</text></g><g class=\"a32 i8 leaf node n24 p0 sample\" transform=\"translate(8.05333 0.437459)\"><path class=\"edge\" d=\"M 0 0 V -0.437459 H -8.05333\"/><rect class=\"sym\" height=\"6\" width=\"6\" x=\"-3\" y=\"-3\"/><text class=\"lab\" transform=\"translate(0 11)\">24</text></g><path class=\"edge\" d=\"M 0 0 V -86.4877 H -39.9364\"/><circle class=\"sym\" cx=\"0\" cy=\"0\" r=\"3\"/><text class=\"lab rgt\" transform=\"translate(3 -7.0)\">32</text></g><g class=\"a56 c2 node n55 p0\" transform=\"translate(-39.9364 17.3036)\"><g class=\"a55 i1 leaf node n5 p0 sample\" transform=\"translate(55.7127 69.6216)\"><path class=\"edge\" d=\"M 0 0 V -69.6216 H -55.7127\"/><rect class=\"sym\" height=\"6\" width=\"6\" x=\"-3\" y=\"-3\"/><text class=\"lab\" transform=\"translate(0 11)\">5</text></g><g class=\"a55 c2 node n54 p0\" transform=\"translate(-55.7127 0.235553)\"><g class=\"a54 c2 node n48 p0\" transform=\"translate(81.2254 50.1135)\"><g class=\"a48 i8 leaf node n26 p0 sample\" transform=\"translate(14.0933 19.2726)\"><path class=\"edge\" d=\"M 0 0 V -19.2726 H -14.0933\"/><rect class=\"sym\" height=\"6\" width=\"6\" x=\"-3\" y=\"-3\"/><text class=\"lab\" transform=\"translate(0 11)\">26</text></g><g class=\"a48 c2 node n47 p0\" transform=\"translate(-14.0933 0.987385)\"><g class=\"a47 i9 leaf node n29 p0 sample\" transform=\"translate(12.08 18.2852)\"><path class=\"edge\" d=\"M 0 0 V -18.2852 H -12.08\"/><rect class=\"sym\" height=\"6\" width=\"6\" x=\"-3\" y=\"-3\"/><text class=\"lab\" transform=\"translate(0 11)\">29</text></g><g class=\"a47 c2 node n45 p0\" transform=\"translate(-12.08 3.59672)\"><g class=\"a45 i4 leaf node n14 p0 sample\" transform=\"translate(-8.05333 14.6885)\"><path class=\"edge\" d=\"M 0 0 V -14.6885 H 8.05333\"/><rect class=\"sym\" height=\"6\" width=\"6\" x=\"-3\" y=\"-3\"/><text class=\"lab\" transform=\"translate(0 11)\">14</text></g><g class=\"a45 i7 leaf node n22 p0 sample\" transform=\"translate(8.05333 14.6885)\"><path class=\"edge\" d=\"M 0 0 V -14.6885 H -8.05333\"/><rect class=\"sym\" height=\"6\" width=\"6\" x=\"-3\" y=\"-3\"/><text class=\"lab\" transform=\"translate(0 11)\">22</text></g><path class=\"edge\" d=\"M 0 0 V -3.59672 H 12.08\"/><circle class=\"sym\" cx=\"0\" cy=\"0\" r=\"3\"/><text class=\"lab lft\" transform=\"translate(-3 -7.0)\">45</text></g><path class=\"edge\" d=\"M 0 0 V -0.987385 H 14.0933\"/><circle class=\"sym\" cx=\"0\" cy=\"0\" r=\"3\"/><text class=\"lab lft\" transform=\"translate(-3 -7.0)\">47</text></g><path class=\"edge\" d=\"M 0 0 V -50.1135 H -81.2254\"/><circle class=\"sym\" cx=\"0\" cy=\"0\" r=\"3\"/><text class=\"lab rgt\" transform=\"translate(3 -7.0)\">48</text></g><g class=\"a54 c2 node n53 p0\" transform=\"translate(-81.2254 20.4734)\"><g class=\"a53 c2 node n49 p0\" transform=\"translate(75.1225 26.2653)\"><g class=\"a49 c2 node n30 p0\" transform=\"translate(28.9417 22.3253)\"><g class=\"a30 i3 leaf node n9 p0 sample\" transform=\"translate(-8.05333 0.322033)\"><path class=\"edge\" d=\"M 0 0 V -0.322033 H 8.05333\"/><rect class=\"sym\" height=\"6\" width=\"6\" x=\"-3\" y=\"-3\"/><text class=\"lab\" transform=\"translate(0 11)\">9</text></g><g class=\"a30 i8 leaf node n25 p0 sample\" transform=\"translate(8.05333 0.322033)\"><path class=\"edge\" d=\"M 0 0 V -0.322033 H -8.05333\"/><rect class=\"sym\" height=\"6\" width=\"6\" x=\"-3\" y=\"-3\"/><text class=\"lab\" transform=\"translate(0 11)\">25</text></g><path class=\"edge\" d=\"M 0 0 V -22.3253 H -28.9417\"/><circle class=\"sym\" cx=\"0\" cy=\"0\" r=\"3\"/><text class=\"lab rgt\" transform=\"translate(3 -7.0)\">30</text></g><g class=\"a49 c2 node n46 p0\" transform=\"translate(-28.9417 7.8447)\"><g class=\"a46 c2 node n33 p0\" transform=\"translate(25.67 14.3024)\"><g class=\"a33 i4 leaf node n12 p0 sample\" transform=\"translate(-8.05333 0.500228)\"><path class=\"edge\" d=\"M 0 0 V -0.500228 H 8.05333\"/><rect class=\"sym\" height=\"6\" width=\"6\" x=\"-3\" y=\"-3\"/><text class=\"lab\" transform=\"translate(0 11)\">12</text></g><g class=\"a33 i5 leaf node n16 p0 sample\" transform=\"translate(8.05333 0.500228)\"><path class=\"edge\" d=\"M 0 0 V -0.500228 H -8.05333\"/><rect class=\"sym\" height=\"6\" width=\"6\" x=\"-3\" y=\"-3\"/><text class=\"lab\" transform=\"translate(0 11)\">16</text></g><path class=\"edge\" d=\"M 0 0 V -14.3024 H -25.67\"/><circle class=\"sym\" cx=\"0\" cy=\"0\" r=\"3\"/><text class=\"lab rgt\" transform=\"translate(3 -7.0)\">33</text></g><g class=\"a46 c2 node n43 p0\" transform=\"translate(-25.67 2.95021)\"><g class=\"a43 c2 node n35 p0\" transform=\"translate(19.1267 9.25442)\"><g class=\"a35 i3 leaf node n11 p0 sample\" transform=\"translate(-8.05333 2.59798)\"><path class=\"edge\" d=\"M 0 0 V -2.59798 H 8.05333\"/><rect class=\"sym\" height=\"6\" width=\"6\" x=\"-3\" y=\"-3\"/><text class=\"lab\" transform=\"translate(0 11)\">11</text></g><g class=\"a35 i7 leaf node n23 p0 sample\" transform=\"translate(8.05333 2.59798)\"><path class=\"edge\" d=\"M 0 0 V -2.59798 H -8.05333\"/><rect class=\"sym\" height=\"6\" width=\"6\" x=\"-3\" y=\"-3\"/><text class=\"lab\" transform=\"translate(0 11)\">23</text></g><path class=\"edge\" d=\"M 0 0 V -9.25442 H -19.1267\"/><circle class=\"sym\" cx=\"0\" cy=\"0\" r=\"3\"/><text class=\"lab rgt\" transform=\"translate(3 -7.0)\">35</text></g><g class=\"a43 c2 node n42 p0\" transform=\"translate(-19.1267 4.49724)\"><g class=\"a42 i9 leaf node n28 p0 sample\" transform=\"translate(14.0933 7.35516)\"><path class=\"edge\" d=\"M 0 0 V -7.35516 H -14.0933\"/><rect class=\"sym\" height=\"6\" width=\"6\" x=\"-3\" y=\"-3\"/><text class=\"lab\" transform=\"translate(0 11)\">28</text></g><g class=\"a42 c2 node n41 p0\" transform=\"translate(-14.0933 0.126528)\"><g class=\"a41 i4 leaf node n13 p0 sample\" transform=\"translate(12.08 7.22863)\"><path class=\"edge\" d=\"M 0 0 V -7.22863 H -12.08\"/><rect class=\"sym\" height=\"6\" width=\"6\" x=\"-3\" y=\"-3\"/><text class=\"lab\" transform=\"translate(0 11)\">13</text></g><g class=\"a41 c2 node n40 p0\" transform=\"translate(-12.08 2.2473)\"><g class=\"a40 i2 leaf node n7 p0 sample\" transform=\"translate(-8.05333 4.98133)\"><path class=\"edge\" d=\"M 0 0 V -4.98133 H 8.05333\"/><rect class=\"sym\" height=\"6\" width=\"6\" x=\"-3\" y=\"-3\"/><text class=\"lab\" transform=\"translate(0 11)\">7</text></g><g class=\"a40 i6 leaf node n19 p0 sample\" transform=\"translate(8.05333 4.98133)\"><path class=\"edge\" d=\"M 0 0 V -4.98133 H -8.05333\"/><rect class=\"sym\" height=\"6\" width=\"6\" x=\"-3\" y=\"-3\"/><text class=\"lab\" transform=\"translate(0 11)\">19</text></g><path class=\"edge\" d=\"M 0 0 V -2.2473 H 12.08\"/><circle class=\"sym\" cx=\"0\" cy=\"0\" r=\"3\"/><text class=\"lab lft\" transform=\"translate(-3 -7.0)\">40</text></g><path class=\"edge\" d=\"M 0 0 V -0.126528 H 14.0933\"/><circle class=\"sym\" cx=\"0\" cy=\"0\" r=\"3\"/><text class=\"lab lft\" transform=\"translate(-3 -7.0)\">41</text></g><path class=\"edge\" d=\"M 0 0 V -4.49724 H 19.1267\"/><circle class=\"sym\" cx=\"0\" cy=\"0\" r=\"3\"/><text class=\"lab lft\" transform=\"translate(-3 -7.0)\">42</text></g><path class=\"edge\" d=\"M 0 0 V -2.95021 H 25.67\"/><circle class=\"sym\" cx=\"0\" cy=\"0\" r=\"3\"/><text class=\"lab lft\" transform=\"translate(-3 -7.0)\">43</text></g><path class=\"edge\" d=\"M 0 0 V -7.8447 H 28.9417\"/><circle class=\"sym\" cx=\"0\" cy=\"0\" r=\"3\"/><text class=\"lab lft\" transform=\"translate(-3 -7.0)\">46</text></g><path class=\"edge\" d=\"M 0 0 V -26.2653 H -75.1225\"/><circle class=\"sym\" cx=\"0\" cy=\"0\" r=\"3\"/><text class=\"lab rgt\" transform=\"translate(3 -7.0)\">49</text></g><g class=\"a53 c2 node n52 p0\" transform=\"translate(-75.1225 3.08796)\"><g class=\"a52 c2 node n37 p0\" transform=\"translate(-18.12 42.919)\"><g class=\"a37 i6 leaf node n18 p0 sample\" transform=\"translate(12.08 2.90566)\"><path class=\"edge\" d=\"M 0 0 V -2.90566 H -12.08\"/><rect class=\"sym\" height=\"6\" width=\"6\" x=\"-3\" y=\"-3\"/><text class=\"lab\" transform=\"translate(0 11)\">18</text></g><g class=\"a37 c2 node n34 p0\" transform=\"translate(-12.08 0.971533)\"><g class=\"a34 i0 leaf node n2 p0 sample\" transform=\"translate(-8.05333 1.93413)\"><path class=\"edge\" d=\"M 0 0 V -1.93413 H 8.05333\"/><rect class=\"sym\" height=\"6\" width=\"6\" x=\"-3\" y=\"-3\"/><text class=\"lab\" transform=\"translate(0 11)\">2</text></g><g class=\"a34 i5 leaf node n17 p0 sample\" transform=\"translate(8.05333 1.93413)\"><path class=\"edge\" d=\"M 0 0 V -1.93413 H -8.05333\"/><rect class=\"sym\" height=\"6\" width=\"6\" x=\"-3\" y=\"-3\"/><text class=\"lab\" transform=\"translate(0 11)\">17</text></g><path class=\"edge\" d=\"M 0 0 V -0.971533 H 12.08\"/><circle class=\"sym\" cx=\"0\" cy=\"0\" r=\"3\"/><text class=\"lab lft\" transform=\"translate(-3 -7.0)\">34</text></g><path class=\"edge\" d=\"M 0 0 V -42.919 H 18.12\"/><circle class=\"sym\" cx=\"0\" cy=\"0\" r=\"3\"/><text class=\"lab lft\" transform=\"translate(-3 -7.0)\">37</text></g><g class=\"a52 c2 node n44 p0\" transform=\"translate(18.12 32.5678)\"><g class=\"a44 i7 leaf node n21 p0 sample\" transform=\"translate(-8.05333 13.2569)\"><path class=\"edge\" d=\"M 0 0 V -13.2569 H 8.05333\"/><rect class=\"sym\" height=\"6\" width=\"6\" x=\"-3\" y=\"-3\"/><text class=\"lab\" transform=\"translate(0 11)\">21</text></g><g class=\"a44 i9 leaf node n27 p0 sample\" transform=\"translate(8.05333 13.2569)\"><path class=\"edge\" d=\"M 0 0 V -13.2569 H -8.05333\"/><rect class=\"sym\" height=\"6\" width=\"6\" x=\"-3\" y=\"-3\"/><text class=\"lab\" transform=\"translate(0 11)\">27</text></g><path class=\"edge\" d=\"M 0 0 V -32.5678 H -18.12\"/><circle class=\"sym\" cx=\"0\" cy=\"0\" r=\"3\"/><text class=\"lab rgt\" transform=\"translate(3 -7.0)\">44</text></g><path class=\"edge\" d=\"M 0 0 V -3.08796 H 75.1225\"/><circle class=\"sym\" cx=\"0\" cy=\"0\" r=\"3\"/><text class=\"lab lft\" transform=\"translate(-3 -7.0)\">52</text></g><path class=\"edge\" d=\"M 0 0 V -20.4734 H 81.2254\"/><circle class=\"sym\" cx=\"0\" cy=\"0\" r=\"3\"/><text class=\"lab lft\" transform=\"translate(-3 -7.0)\">53</text></g><path class=\"edge\" d=\"M 0 0 V -0.235553 H 55.7127\"/><circle class=\"sym\" cx=\"0\" cy=\"0\" r=\"3\"/><text class=\"lab lft\" transform=\"translate(-3 -7.0)\">54</text></g><path class=\"edge\" d=\"M 0 0 V -17.3036 H 39.9364\"/><circle class=\"sym\" cx=\"0\" cy=\"0\" r=\"3\"/><text class=\"lab lft\" transform=\"translate(-3 -7.0)\">55</text></g><path class=\"edge\" d=\"M 0 0 V -73.616 H -170.292\"/><circle class=\"sym\" cx=\"0\" cy=\"0\" r=\"3\"/><text class=\"lab rgt\" transform=\"translate(3 -7.0)\">56</text></g><path class=\"edge\" d=\"M 0 0 V -134.059 H -118.366\"/><circle class=\"sym\" cx=\"0\" cy=\"0\" r=\"3\"/><text class=\"lab rgt\" transform=\"translate(3 -7.0)\">57</text></g><circle class=\"sym\" cx=\"0\" cy=\"0\" r=\"3\"/><text class=\"lab\" transform=\"translate(0 -11)\">58</text></g></g></g></g></g></svg>"
      ],
      "text/plain": [
       "<IPython.core.display.SVG object>"
      ]
     },
     "execution_count": 32,
     "metadata": {},
     "output_type": "execute_result"
    }
   ],
   "source": [
    "SVG(ts.draw_svg(size=(600,400), y_axis = True, y_ticks=[0,2,4]))"
   ]
  },
  {
   "cell_type": "markdown",
   "id": "8682e6d2",
   "metadata": {},
   "source": [
    "## Population Size"
   ]
  },
  {
   "cell_type": "markdown",
   "id": "10da6cc4",
   "metadata": {},
   "source": [
    "We can also specify the size of the population from which samples are drawn. We code this using the population size argument."
   ]
  },
  {
   "cell_type": "markdown",
   "id": "50ce436b",
   "metadata": {},
   "source": [
    "**Question:** What effect should this have on generation time if the population size increases?"
   ]
  },
  {
   "cell_type": "code",
   "execution_count": 33,
   "id": "da4ed3b3",
   "metadata": {},
   "outputs": [
    {
     "data": {
      "image/svg+xml": [
       "<svg xmlns=\"http://www.w3.org/2000/svg\" xmlns:ev=\"http://www.w3.org/2001/xml-events\" xmlns:xlink=\"http://www.w3.org/1999/xlink\" baseProfile=\"full\" height=\"400\" version=\"1.1\" width=\"600\"><defs><style type=\"text/css\"><![CDATA[.background path {fill: #808080; fill-opacity: 0}.background path:nth-child(odd) {fill-opacity: .1}.axes {font-size: 14px}.x-axis .tick .lab {font-weight: bold; dominant-baseline: hanging}.axes, .tree {font-size: 14px; text-anchor: middle}.axes line, .edge {stroke: black; fill: none}.y-axis .grid {stroke: #FAFAFA}.node > .sym {fill: black; stroke: none}.site > .sym {stroke: black}.mut text {fill: red; font-style: italic}.mut.extra text {fill: hotpink}.mut line {fill: none; stroke: none}.mut .sym {fill: none; stroke: red}.mut.extra .sym {stroke: hotpink}.node .mut .sym {stroke-width: 1.5px}.tree text, .tree-sequence text {dominant-baseline: central}.plotbox .lab.lft {text-anchor: end}.plotbox .lab.rgt {text-anchor: start}]]></style></defs><g class=\"tree-sequence\"><g class=\"background\"><path d=\"M56.8,0 l523.2,0 l0,338.2 l0,25 l0,5 l-523.2,0 l0,-5 l0,-25 l0,-338.2z\"/></g><g class=\"axes\"><g class=\"x-axis\"><g transform=\"translate(318.4 400)\"><text class=\"lab\" text-anchor=\"middle\" transform=\"translate(0 -11)\">Genome position</text></g><line x1=\"56.8\" x2=\"580\" y1=\"363.2\" y2=\"363.2\"/><g class=\"ticks\"><g class=\"tick\" transform=\"translate(56.8 363.2)\"><line x1=\"0\" x2=\"0\" y1=\"0\" y2=\"5\"/><g transform=\"translate(0 6)\"><text class=\"lab\">0</text></g></g><g class=\"tick\" transform=\"translate(580 363.2)\"><line x1=\"0\" x2=\"0\" y1=\"0\" y2=\"5\"/><g transform=\"translate(0 6)\"><text class=\"lab\">1</text></g></g></g></g><g class=\"y-axis\"><g transform=\"translate(0 165.7)\"><text class=\"lab\" text-anchor=\"middle\" transform=\"translate(11) rotate(-90)\">Time (generations)</text></g><line x1=\"56.8\" x2=\"56.8\" y1=\"321.4\" y2=\"10\"/><g class=\"ticks\"><g class=\"tick\" transform=\"translate(56.8 321.4)\"><line x1=\"0\" x2=\"-5\" y1=\"0\" y2=\"0\"/><g transform=\"translate(-6 0)\"><text class=\"lab\" text-anchor=\"end\">0</text></g></g><g class=\"tick\" transform=\"translate(56.8 303.028)\"><line x1=\"0\" x2=\"-5\" y1=\"0\" y2=\"0\"/><g transform=\"translate(-6 0)\"><text class=\"lab\" text-anchor=\"end\">30</text></g></g><g class=\"tick\" transform=\"translate(56.8 284.656)\"><line x1=\"0\" x2=\"-5\" y1=\"0\" y2=\"0\"/><g transform=\"translate(-6 0)\"><text class=\"lab\" text-anchor=\"end\">60</text></g></g><g class=\"tick\" transform=\"translate(56.8 266.284)\"><line x1=\"0\" x2=\"-5\" y1=\"0\" y2=\"0\"/><g transform=\"translate(-6 0)\"><text class=\"lab\" text-anchor=\"end\">90</text></g></g><g class=\"tick\" transform=\"translate(56.8 247.913)\"><line x1=\"0\" x2=\"-5\" y1=\"0\" y2=\"0\"/><g transform=\"translate(-6 0)\"><text class=\"lab\" text-anchor=\"end\">120</text></g></g><g class=\"tick\" transform=\"translate(56.8 229.541)\"><line x1=\"0\" x2=\"-5\" y1=\"0\" y2=\"0\"/><g transform=\"translate(-6 0)\"><text class=\"lab\" text-anchor=\"end\">150</text></g></g><g class=\"tick\" transform=\"translate(56.8 211.169)\"><line x1=\"0\" x2=\"-5\" y1=\"0\" y2=\"0\"/><g transform=\"translate(-6 0)\"><text class=\"lab\" text-anchor=\"end\">180</text></g></g><g class=\"tick\" transform=\"translate(56.8 192.797)\"><line x1=\"0\" x2=\"-5\" y1=\"0\" y2=\"0\"/><g transform=\"translate(-6 0)\"><text class=\"lab\" text-anchor=\"end\">210</text></g></g><g class=\"tick\" transform=\"translate(56.8 174.425)\"><line x1=\"0\" x2=\"-5\" y1=\"0\" y2=\"0\"/><g transform=\"translate(-6 0)\"><text class=\"lab\" text-anchor=\"end\">240</text></g></g></g></g></g><g class=\"plotbox trees\"><g class=\"tree t0\" transform=\"translate(56.8 0)\"><g class=\"plotbox\"><g class=\"c2 node n38 p0 root\" transform=\"translate(206.013 26.8)\"><g class=\"a38 c2 node n35 p0\" transform=\"translate(-76.5381 259.056)\"><g class=\"a35 i1 leaf node n3 p0 sample\" transform=\"translate(23.405 35.5437)\"><path class=\"edge\" d=\"M 0 0 V -35.5437 H -23.405\"/><rect class=\"sym\" height=\"6\" width=\"6\" x=\"-3\" y=\"-3\"/><text class=\"lab\" transform=\"translate(0 11)\">3</text></g><g class=\"a35 c2 node n30 p0\" transform=\"translate(-23.405 25.1894)\"><g class=\"a30 i3 leaf node n7 p0 sample\" transform=\"translate(22.65 10.3543)\"><path class=\"edge\" d=\"M 0 0 V -10.3543 H -22.65\"/><rect class=\"sym\" height=\"6\" width=\"6\" x=\"-3\" y=\"-3\"/><text class=\"lab\" transform=\"translate(0 11)\">7</text></g><g class=\"a30 c2 node n27 p0\" transform=\"translate(-22.65 3.52755)\"><g class=\"a27 i6 leaf node n12 p0 sample\" transform=\"translate(21.14 6.82672)\"><path class=\"edge\" d=\"M 0 0 V -6.82672 H -21.14\"/><rect class=\"sym\" height=\"6\" width=\"6\" x=\"-3\" y=\"-3\"/><text class=\"lab\" transform=\"translate(0 11)\">12</text></g><g class=\"a27 c2 node n25 p0\" transform=\"translate(-21.14 0.851165)\"><g class=\"a25 i8 leaf node n17 p0 sample\" transform=\"translate(18.12 5.97556)\"><path class=\"edge\" d=\"M 0 0 V -5.97556 H -18.12\"/><rect class=\"sym\" height=\"6\" width=\"6\" x=\"-3\" y=\"-3\"/><text class=\"lab\" transform=\"translate(0 11)\">17</text></g><g class=\"a25 c2 node n24 p0\" transform=\"translate(-18.12 1.98517)\"><g class=\"a24 i0 leaf node n0 p0 sample\" transform=\"translate(-12.08 3.99039)\"><path class=\"edge\" d=\"M 0 0 V -3.99039 H 12.08\"/><rect class=\"sym\" height=\"6\" width=\"6\" x=\"-3\" y=\"-3\"/><text class=\"lab\" transform=\"translate(0 11)\">0</text></g><g class=\"a24 i2 leaf node n4 p0 sample\" transform=\"translate(12.08 3.99039)\"><path class=\"edge\" d=\"M 0 0 V -3.99039 H -12.08\"/><rect class=\"sym\" height=\"6\" width=\"6\" x=\"-3\" y=\"-3\"/><text class=\"lab\" transform=\"translate(0 11)\">4</text></g><path class=\"edge\" d=\"M 0 0 V -1.98517 H 18.12\"/><circle class=\"sym\" cx=\"0\" cy=\"0\" r=\"3\"/><text class=\"lab lft\" transform=\"translate(-3 -7.0)\">24</text></g><path class=\"edge\" d=\"M 0 0 V -0.851165 H 21.14\"/><circle class=\"sym\" cx=\"0\" cy=\"0\" r=\"3\"/><text class=\"lab lft\" transform=\"translate(-3 -7.0)\">25</text></g><path class=\"edge\" d=\"M 0 0 V -3.52755 H 22.65\"/><circle class=\"sym\" cx=\"0\" cy=\"0\" r=\"3\"/><text class=\"lab lft\" transform=\"translate(-3 -7.0)\">27</text></g><path class=\"edge\" d=\"M 0 0 V -25.1894 H 23.405\"/><circle class=\"sym\" cx=\"0\" cy=\"0\" r=\"3\"/><text class=\"lab lft\" transform=\"translate(-3 -7.0)\">30</text></g><path class=\"edge\" d=\"M 0 0 V -259.056 H 76.5381\"/><circle class=\"sym\" cx=\"0\" cy=\"0\" r=\"3\"/><text class=\"lab lft\" transform=\"translate(-3 -7.0)\">35</text></g><g class=\"a38 c2 node n37 p0\" transform=\"translate(76.5381 238.3)\"><g class=\"a37 i0 leaf node n1 p0 sample\" transform=\"translate(-105.511 56.3003)\"><path class=\"edge\" d=\"M 0 0 V -56.3003 H 105.511\"/><rect class=\"sym\" height=\"6\" width=\"6\" x=\"-3\" y=\"-3\"/><text class=\"lab\" transform=\"translate(0 11)\">1</text></g><g class=\"a37 c2 node n36 p0\" transform=\"translate(105.511 11.6443)\"><g class=\"a36 c2 node n33 p0\" transform=\"translate(-66.8175 11.1082)\"><g class=\"a33 i7 leaf node n14 p0 sample\" transform=\"translate(73.235 33.5478)\"><path class=\"edge\" d=\"M 0 0 V -33.5478 H -73.235\"/><rect class=\"sym\" height=\"6\" width=\"6\" x=\"-3\" y=\"-3\"/><text class=\"lab\" transform=\"translate(0 11)\">14</text></g><g class=\"a33 c2 node n32 p0\" transform=\"translate(-73.235 14.7667)\"><g class=\"a32 i1 leaf node n2 p0 sample\" transform=\"translate(-46.81 18.7811)\"><path class=\"edge\" d=\"M 0 0 V -18.7811 H 46.81\"/><rect class=\"sym\" height=\"6\" width=\"6\" x=\"-3\" y=\"-3\"/><text class=\"lab\" transform=\"translate(0 11)\">2</text></g><g class=\"a32 c2 node n31 p0\" transform=\"translate(46.81 5.62078)\"><g class=\"a31 c2 node n23 p0\" transform=\"translate(-39.26 11.3837)\"><g class=\"a23 i4 leaf node n9 p0 sample\" transform=\"translate(18.12 1.77664)\"><path class=\"edge\" d=\"M 0 0 V -1.77664 H -18.12\"/><rect class=\"sym\" height=\"6\" width=\"6\" x=\"-3\" y=\"-3\"/><text class=\"lab\" transform=\"translate(0 11)\">9</text></g><g class=\"a23 c2 node n21 p0\" transform=\"translate(-18.12 1.47455)\"><g class=\"a21 i2 leaf node n5 p0 sample\" transform=\"translate(-12.08 0.302084)\"><path class=\"edge\" d=\"M 0 0 V -0.302084 H 12.08\"/><rect class=\"sym\" height=\"6\" width=\"6\" x=\"-3\" y=\"-3\"/><text class=\"lab\" transform=\"translate(0 11)\">5</text></g><g class=\"a21 i6 leaf node n13 p0 sample\" transform=\"translate(12.08 0.302084)\"><path class=\"edge\" d=\"M 0 0 V -0.302084 H -12.08\"/><rect class=\"sym\" height=\"6\" width=\"6\" x=\"-3\" y=\"-3\"/><text class=\"lab\" transform=\"translate(0 11)\">13</text></g><path class=\"edge\" d=\"M 0 0 V -1.47455 H 18.12\"/><circle class=\"sym\" cx=\"0\" cy=\"0\" r=\"3\"/><text class=\"lab lft\" transform=\"translate(-3 -7.0)\">21</text></g><path class=\"edge\" d=\"M 0 0 V -11.3837 H 39.26\"/><circle class=\"sym\" cx=\"0\" cy=\"0\" r=\"3\"/><text class=\"lab lft\" transform=\"translate(-3 -7.0)\">23</text></g><g class=\"a31 c2 node n29 p0\" transform=\"translate(39.26 4.52787)\"><g class=\"a29 c2 node n20 p0\" transform=\"translate(24.16 8.44805)\"><g class=\"a20 i8 leaf node n16 p0 sample\" transform=\"translate(-12.08 0.184379)\"><path class=\"edge\" d=\"M 0 0 V -0.184379 H 12.08\"/><rect class=\"sym\" height=\"6\" width=\"6\" x=\"-3\" y=\"-3\"/><text class=\"lab\" transform=\"translate(0 11)\">16</text></g><g class=\"a20 i9 leaf node n19 p0 sample\" transform=\"translate(12.08 0.184379)\"><path class=\"edge\" d=\"M 0 0 V -0.184379 H -12.08\"/><rect class=\"sym\" height=\"6\" width=\"6\" x=\"-3\" y=\"-3\"/><text class=\"lab\" transform=\"translate(0 11)\">19</text></g><path class=\"edge\" d=\"M 0 0 V -8.44805 H -24.16\"/><circle class=\"sym\" cx=\"0\" cy=\"0\" r=\"3\"/><text class=\"lab rgt\" transform=\"translate(3 -7.0)\">20</text></g><g class=\"a29 c2 node n28 p0\" transform=\"translate(-24.16 0.214703)\"><g class=\"a28 i3 leaf node n6 p0 sample\" transform=\"translate(-12.08 8.41772)\"><path class=\"edge\" d=\"M 0 0 V -8.41772 H 12.08\"/><rect class=\"sym\" height=\"6\" width=\"6\" x=\"-3\" y=\"-3\"/><text class=\"lab\" transform=\"translate(0 11)\">6</text></g><g class=\"a28 i9 leaf node n18 p0 sample\" transform=\"translate(12.08 8.41772)\"><path class=\"edge\" d=\"M 0 0 V -8.41772 H -12.08\"/><rect class=\"sym\" height=\"6\" width=\"6\" x=\"-3\" y=\"-3\"/><text class=\"lab\" transform=\"translate(0 11)\">18</text></g><path class=\"edge\" d=\"M 0 0 V -0.214703 H 24.16\"/><circle class=\"sym\" cx=\"0\" cy=\"0\" r=\"3\"/><text class=\"lab lft\" transform=\"translate(-3 -7.0)\">28</text></g><path class=\"edge\" d=\"M 0 0 V -4.52787 H -39.26\"/><circle class=\"sym\" cx=\"0\" cy=\"0\" r=\"3\"/><text class=\"lab rgt\" transform=\"translate(3 -7.0)\">29</text></g><path class=\"edge\" d=\"M 0 0 V -5.62078 H -46.81\"/><circle class=\"sym\" cx=\"0\" cy=\"0\" r=\"3\"/><text class=\"lab rgt\" transform=\"translate(3 -7.0)\">31</text></g><path class=\"edge\" d=\"M 0 0 V -14.7667 H 73.235\"/><circle class=\"sym\" cx=\"0\" cy=\"0\" r=\"3\"/><text class=\"lab lft\" transform=\"translate(-3 -7.0)\">32</text></g><path class=\"edge\" d=\"M 0 0 V -11.1082 H 66.8175\"/><circle class=\"sym\" cx=\"0\" cy=\"0\" r=\"3\"/><text class=\"lab lft\" transform=\"translate(-3 -7.0)\">33</text></g><g class=\"a36 c2 node n34 p0\" transform=\"translate(66.8175 10.0815)\"><g class=\"a34 c2 node n22 p0\" transform=\"translate(-24.16 32.9492)\"><g class=\"a22 i4 leaf node n8 p0 sample\" transform=\"translate(-12.08 1.62533)\"><path class=\"edge\" d=\"M 0 0 V -1.62533 H 12.08\"/><rect class=\"sym\" height=\"6\" width=\"6\" x=\"-3\" y=\"-3\"/><text class=\"lab\" transform=\"translate(0 11)\">8</text></g><g class=\"a22 i7 leaf node n15 p0 sample\" transform=\"translate(12.08 1.62533)\"><path class=\"edge\" d=\"M 0 0 V -1.62533 H -12.08\"/><rect class=\"sym\" height=\"6\" width=\"6\" x=\"-3\" y=\"-3\"/><text class=\"lab\" transform=\"translate(0 11)\">15</text></g><path class=\"edge\" d=\"M 0 0 V -32.9492 H 24.16\"/><circle class=\"sym\" cx=\"0\" cy=\"0\" r=\"3\"/><text class=\"lab lft\" transform=\"translate(-3 -7.0)\">22</text></g><g class=\"a34 c2 node n26 p0\" transform=\"translate(24.16 28.38)\"><g class=\"a26 i5 leaf node n10 p0 sample\" transform=\"translate(-12.08 6.19457)\"><path class=\"edge\" d=\"M 0 0 V -6.19457 H 12.08\"/><rect class=\"sym\" height=\"6\" width=\"6\" x=\"-3\" y=\"-3\"/><text class=\"lab\" transform=\"translate(0 11)\">10</text></g><g class=\"a26 i5 leaf node n11 p0 sample\" transform=\"translate(12.08 6.19457)\"><path class=\"edge\" d=\"M 0 0 V -6.19457 H -12.08\"/><rect class=\"sym\" height=\"6\" width=\"6\" x=\"-3\" y=\"-3\"/><text class=\"lab\" transform=\"translate(0 11)\">11</text></g><path class=\"edge\" d=\"M 0 0 V -28.38 H -24.16\"/><circle class=\"sym\" cx=\"0\" cy=\"0\" r=\"3\"/><text class=\"lab rgt\" transform=\"translate(3 -7.0)\">26</text></g><path class=\"edge\" d=\"M 0 0 V -10.0815 H -66.8175\"/><circle class=\"sym\" cx=\"0\" cy=\"0\" r=\"3\"/><text class=\"lab rgt\" transform=\"translate(3 -7.0)\">34</text></g><path class=\"edge\" d=\"M 0 0 V -11.6443 H -105.511\"/><circle class=\"sym\" cx=\"0\" cy=\"0\" r=\"3\"/><text class=\"lab rgt\" transform=\"translate(3 -7.0)\">36</text></g><path class=\"edge\" d=\"M 0 0 V -238.3 H -76.5381\"/><circle class=\"sym\" cx=\"0\" cy=\"0\" r=\"3\"/><text class=\"lab rgt\" transform=\"translate(3 -7.0)\">37</text></g><circle class=\"sym\" cx=\"0\" cy=\"0\" r=\"3\"/><text class=\"lab\" transform=\"translate(0 -11)\">38</text></g></g></g></g></g></svg>"
      ],
      "text/plain": [
       "<IPython.core.display.SVG object>"
      ]
     },
     "execution_count": 33,
     "metadata": {},
     "output_type": "execute_result"
    }
   ],
   "source": [
    "ts = msprime.sim_ancestry(10, population_size = 100, random_seed = 456)\n",
    "SVG(ts.draw_svg(size=(600,400), y_axis = True, y_ticks=[0,30,60,90,120,150,180,210,240]))"
   ]
  },
  {
   "cell_type": "markdown",
   "id": "89bf5442",
   "metadata": {},
   "source": [
    "## Genome Properties"
   ]
  },
  {
   "cell_type": "markdown",
   "id": "8271657b",
   "metadata": {},
   "source": [
    "Thus far we have not defined the sequence length nor needed to. But this is easily added."
   ]
  },
  {
   "cell_type": "code",
   "execution_count": 34,
   "id": "a7a4dbff",
   "metadata": {},
   "outputs": [
    {
     "data": {
      "image/svg+xml": [
       "<svg xmlns=\"http://www.w3.org/2000/svg\" xmlns:ev=\"http://www.w3.org/2001/xml-events\" xmlns:xlink=\"http://www.w3.org/1999/xlink\" baseProfile=\"full\" height=\"400\" version=\"1.1\" width=\"600\"><defs><style type=\"text/css\"><![CDATA[.background path {fill: #808080; fill-opacity: 0}.background path:nth-child(odd) {fill-opacity: .1}.axes {font-size: 14px}.x-axis .tick .lab {font-weight: bold; dominant-baseline: hanging}.axes, .tree {font-size: 14px; text-anchor: middle}.axes line, .edge {stroke: black; fill: none}.y-axis .grid {stroke: #FAFAFA}.node > .sym {fill: black; stroke: none}.site > .sym {stroke: black}.mut text {fill: red; font-style: italic}.mut.extra text {fill: hotpink}.mut line {fill: none; stroke: none}.mut .sym {fill: none; stroke: red}.mut.extra .sym {stroke: hotpink}.node .mut .sym {stroke-width: 1.5px}.tree text, .tree-sequence text {dominant-baseline: central}.plotbox .lab.lft {text-anchor: end}.plotbox .lab.rgt {text-anchor: start}]]></style></defs><g class=\"tree-sequence\"><g class=\"background\"><path d=\"M56.8,0 l523.2,0 l0,338.2 l0,25 l0,5 l-523.2,0 l0,-5 l0,-25 l0,-338.2z\"/></g><g class=\"axes\"><g class=\"x-axis\"><g transform=\"translate(318.4 400)\"><text class=\"lab\" text-anchor=\"middle\" transform=\"translate(0 -11)\">Genome position</text></g><line x1=\"56.8\" x2=\"580\" y1=\"363.2\" y2=\"363.2\"/><g class=\"ticks\"><g class=\"tick\" transform=\"translate(56.8 363.2)\"><line x1=\"0\" x2=\"0\" y1=\"0\" y2=\"5\"/><g transform=\"translate(0 6)\"><text class=\"lab\">0</text></g></g><g class=\"tick\" transform=\"translate(580 363.2)\"><line x1=\"0\" x2=\"0\" y1=\"0\" y2=\"5\"/><g transform=\"translate(0 6)\"><text class=\"lab\">1000</text></g></g></g></g><g class=\"y-axis\"><g transform=\"translate(0 165.7)\"><text class=\"lab\" text-anchor=\"middle\" transform=\"translate(11) rotate(-90)\">Time (generations)</text></g><line x1=\"56.8\" x2=\"56.8\" y1=\"321.4\" y2=\"10\"/><g class=\"ticks\"><g class=\"tick\" transform=\"translate(56.8 321.4)\"><line x1=\"0\" x2=\"-5\" y1=\"0\" y2=\"0\"/><g transform=\"translate(-6 0)\"><text class=\"lab\" text-anchor=\"end\">0</text></g></g><g class=\"tick\" transform=\"translate(56.8 153.375)\"><line x1=\"0\" x2=\"-5\" y1=\"0\" y2=\"0\"/><g transform=\"translate(-6 0)\"><text class=\"lab\" text-anchor=\"end\">2</text></g></g><g class=\"tick\" transform=\"translate(56.8 -14.6497)\"><line x1=\"0\" x2=\"-5\" y1=\"0\" y2=\"0\"/><g transform=\"translate(-6 0)\"><text class=\"lab\" text-anchor=\"end\">4</text></g></g></g></g></g><g class=\"plotbox trees\"><g class=\"tree t0\" transform=\"translate(56.8 0)\"><g class=\"plotbox\"><g class=\"c2 node n38 p0 root\" transform=\"translate(357.863 26.8)\"><g class=\"a38 c2 node n34 p0\" transform=\"translate(92.4875 228.091)\"><g class=\"a34 c2 node n31 p0\" transform=\"translate(28.69 41.0079)\"><g class=\"a31 i1 leaf node n2 p0 sample\" transform=\"translate(-12.08 25.5008)\"><path class=\"edge\" d=\"M 0 0 V -25.5008 H 12.08\"/><rect class=\"sym\" height=\"6\" width=\"6\" x=\"-3\" y=\"-3\"/><text class=\"lab\" transform=\"translate(0 11)\">2</text></g><g class=\"a31 i3 leaf node n6 p0 sample\" transform=\"translate(12.08 25.5008)\"><path class=\"edge\" d=\"M 0 0 V -25.5008 H -12.08\"/><rect class=\"sym\" height=\"6\" width=\"6\" x=\"-3\" y=\"-3\"/><text class=\"lab\" transform=\"translate(0 11)\">6</text></g><path class=\"edge\" d=\"M 0 0 V -41.0079 H -28.69\"/><circle class=\"sym\" cx=\"0\" cy=\"0\" r=\"3\"/><text class=\"lab rgt\" transform=\"translate(3 -7.0)\">31</text></g><g class=\"a34 c2 node n33 p0\" transform=\"translate(-28.69 13.2807)\"><g class=\"a33 i6 leaf node n13 p0 sample\" transform=\"translate(21.14 53.228)\"><path class=\"edge\" d=\"M 0 0 V -53.228 H -21.14\"/><rect class=\"sym\" height=\"6\" width=\"6\" x=\"-3\" y=\"-3\"/><text class=\"lab\" transform=\"translate(0 11)\">13</text></g><g class=\"a33 c2 node n30 p0\" transform=\"translate(-21.14 28.4095)\"><g class=\"a30 i9 leaf node n19 p0 sample\" transform=\"translate(18.12 24.8185)\"><path class=\"edge\" d=\"M 0 0 V -24.8185 H -18.12\"/><rect class=\"sym\" height=\"6\" width=\"6\" x=\"-3\" y=\"-3\"/><text class=\"lab\" transform=\"translate(0 11)\">19</text></g><g class=\"a30 c2 node n23 p0\" transform=\"translate(-18.12 23.9555)\"><g class=\"a23 i0 leaf node n1 p0 sample\" transform=\"translate(-12.08 0.862954)\"><path class=\"edge\" d=\"M 0 0 V -0.862954 H 12.08\"/><rect class=\"sym\" height=\"6\" width=\"6\" x=\"-3\" y=\"-3\"/><text class=\"lab\" transform=\"translate(0 11)\">1</text></g><g class=\"a23 i8 leaf node n16 p0 sample\" transform=\"translate(12.08 0.862954)\"><path class=\"edge\" d=\"M 0 0 V -0.862954 H -12.08\"/><rect class=\"sym\" height=\"6\" width=\"6\" x=\"-3\" y=\"-3\"/><text class=\"lab\" transform=\"translate(0 11)\">16</text></g><path class=\"edge\" d=\"M 0 0 V -23.9555 H 18.12\"/><circle class=\"sym\" cx=\"0\" cy=\"0\" r=\"3\"/><text class=\"lab lft\" transform=\"translate(-3 -7.0)\">23</text></g><path class=\"edge\" d=\"M 0 0 V -28.4095 H 21.14\"/><circle class=\"sym\" cx=\"0\" cy=\"0\" r=\"3\"/><text class=\"lab lft\" transform=\"translate(-3 -7.0)\">30</text></g><path class=\"edge\" d=\"M 0 0 V -13.2807 H 28.69\"/><circle class=\"sym\" cx=\"0\" cy=\"0\" r=\"3\"/><text class=\"lab lft\" transform=\"translate(-3 -7.0)\">33</text></g><path class=\"edge\" d=\"M 0 0 V -228.091 H -92.4875\"/><circle class=\"sym\" cx=\"0\" cy=\"0\" r=\"3\"/><text class=\"lab rgt\" transform=\"translate(3 -7.0)\">34</text></g><g class=\"a38 c2 node n37 p0\" transform=\"translate(-92.4875 31.2344)\"><g class=\"a37 c2 node n29 p0\" transform=\"translate(68.705 241.722)\"><g class=\"a29 i1 leaf node n3 p0 sample\" transform=\"translate(-12.08 21.6432)\"><path class=\"edge\" d=\"M 0 0 V -21.6432 H 12.08\"/><rect class=\"sym\" height=\"6\" width=\"6\" x=\"-3\" y=\"-3\"/><text class=\"lab\" transform=\"translate(0 11)\">3</text></g><g class=\"a29 i2 leaf node n5 p0 sample\" transform=\"translate(12.08 21.6432)\"><path class=\"edge\" d=\"M 0 0 V -21.6432 H -12.08\"/><rect class=\"sym\" height=\"6\" width=\"6\" x=\"-3\" y=\"-3\"/><text class=\"lab\" transform=\"translate(0 11)\">5</text></g><path class=\"edge\" d=\"M 0 0 V -241.722 H -68.705\"/><circle class=\"sym\" cx=\"0\" cy=\"0\" r=\"3\"/><text class=\"lab rgt\" transform=\"translate(3 -7.0)\">29</text></g><g class=\"a37 c2 node n36 p0\" transform=\"translate(-68.705 100.678)\"><g class=\"a36 c2 node n27 p0\" transform=\"translate(61.91 159.227)\"><g class=\"a27 c2 node n21 p0\" transform=\"translate(-27.18 2.77216)\"><g class=\"a21 i5 leaf node n10 p0 sample\" transform=\"translate(18.12 0.688602)\"><path class=\"edge\" d=\"M 0 0 V -0.688602 H -18.12\"/><rect class=\"sym\" height=\"6\" width=\"6\" x=\"-3\" y=\"-3\"/><text class=\"lab\" transform=\"translate(0 11)\">10</text></g><g class=\"a21 c2 node n20 p0\" transform=\"translate(-18.12 0.67938)\"><g class=\"a20 i4 leaf node n9 p0 sample\" transform=\"translate(-12.08 0.00922222)\"><path class=\"edge\" d=\"M 0 0 V -0.00922222 H 12.08\"/><rect class=\"sym\" height=\"6\" width=\"6\" x=\"-3\" y=\"-3\"/><text class=\"lab\" transform=\"translate(0 11)\">9</text></g><g class=\"a20 i6 leaf node n12 p0 sample\" transform=\"translate(12.08 0.00922222)\"><path class=\"edge\" d=\"M 0 0 V -0.00922222 H -12.08\"/><rect class=\"sym\" height=\"6\" width=\"6\" x=\"-3\" y=\"-3\"/><text class=\"lab\" transform=\"translate(0 11)\">12</text></g><path class=\"edge\" d=\"M 0 0 V -0.67938 H 18.12\"/><circle class=\"sym\" cx=\"0\" cy=\"0\" r=\"3\"/><text class=\"lab lft\" transform=\"translate(-3 -7.0)\">20</text></g><path class=\"edge\" d=\"M 0 0 V -2.77216 H 27.18\"/><circle class=\"sym\" cx=\"0\" cy=\"0\" r=\"3\"/><text class=\"lab lft\" transform=\"translate(-3 -7.0)\">21</text></g><g class=\"a27 c2 node n24 p0\" transform=\"translate(27.18 1.83867)\"><g class=\"a24 i7 leaf node n15 p0 sample\" transform=\"translate(-12.08 1.62209)\"><path class=\"edge\" d=\"M 0 0 V -1.62209 H 12.08\"/><rect class=\"sym\" height=\"6\" width=\"6\" x=\"-3\" y=\"-3\"/><text class=\"lab\" transform=\"translate(0 11)\">15</text></g><g class=\"a24 i9 leaf node n18 p0 sample\" transform=\"translate(12.08 1.62209)\"><path class=\"edge\" d=\"M 0 0 V -1.62209 H -12.08\"/><rect class=\"sym\" height=\"6\" width=\"6\" x=\"-3\" y=\"-3\"/><text class=\"lab\" transform=\"translate(0 11)\">18</text></g><path class=\"edge\" d=\"M 0 0 V -1.83867 H -27.18\"/><circle class=\"sym\" cx=\"0\" cy=\"0\" r=\"3\"/><text class=\"lab rgt\" transform=\"translate(3 -7.0)\">24</text></g><path class=\"edge\" d=\"M 0 0 V -159.227 H -61.91\"/><circle class=\"sym\" cx=\"0\" cy=\"0\" r=\"3\"/><text class=\"lab rgt\" transform=\"translate(3 -7.0)\">27</text></g><g class=\"a36 c2 node n35 p0\" transform=\"translate(-61.91 79.033)\"><g class=\"a35 i5 leaf node n11 p0 sample\" transform=\"translate(42.28 83.6549)\"><path class=\"edge\" d=\"M 0 0 V -83.6549 H -42.28\"/><rect class=\"sym\" height=\"6\" width=\"6\" x=\"-3\" y=\"-3\"/><text class=\"lab\" transform=\"translate(0 11)\">11</text></g><g class=\"a35 c2 node n32 p0\" transform=\"translate(-42.28 53.3911)\"><g class=\"a32 c2 node n26 p0\" transform=\"translate(-30.2 27.6203)\"><g class=\"a26 i3 leaf node n7 p0 sample\" transform=\"translate(18.12 2.64353)\"><path class=\"edge\" d=\"M 0 0 V -2.64353 H -18.12\"/><rect class=\"sym\" height=\"6\" width=\"6\" x=\"-3\" y=\"-3\"/><text class=\"lab\" transform=\"translate(0 11)\">7</text></g><g class=\"a26 c2 node n25 p0\" transform=\"translate(-18.12 0.782666)\"><g class=\"a25 i0 leaf node n0 p0 sample\" transform=\"translate(-12.08 1.86086)\"><path class=\"edge\" d=\"M 0 0 V -1.86086 H 12.08\"/><rect class=\"sym\" height=\"6\" width=\"6\" x=\"-3\" y=\"-3\"/><text class=\"lab\" transform=\"translate(0 11)\">0</text></g><g class=\"a25 i4 leaf node n8 p0 sample\" transform=\"translate(12.08 1.86086)\"><path class=\"edge\" d=\"M 0 0 V -1.86086 H -12.08\"/><rect class=\"sym\" height=\"6\" width=\"6\" x=\"-3\" y=\"-3\"/><text class=\"lab\" transform=\"translate(0 11)\">8</text></g><path class=\"edge\" d=\"M 0 0 V -0.782666 H 18.12\"/><circle class=\"sym\" cx=\"0\" cy=\"0\" r=\"3\"/><text class=\"lab lft\" transform=\"translate(-3 -7.0)\">25</text></g><path class=\"edge\" d=\"M 0 0 V -27.6203 H 30.2\"/><circle class=\"sym\" cx=\"0\" cy=\"0\" r=\"3\"/><text class=\"lab lft\" transform=\"translate(-3 -7.0)\">26</text></g><g class=\"a32 c2 node n28 p0\" transform=\"translate(30.2 19.1269)\"><g class=\"a28 i2 leaf node n4 p0 sample\" transform=\"translate(-18.12 11.1369)\"><path class=\"edge\" d=\"M 0 0 V -11.1369 H 18.12\"/><rect class=\"sym\" height=\"6\" width=\"6\" x=\"-3\" y=\"-3\"/><text class=\"lab\" transform=\"translate(0 11)\">4</text></g><g class=\"a28 c2 node n22 p0\" transform=\"translate(18.12 10.2906)\"><g class=\"a22 i7 leaf node n14 p0 sample\" transform=\"translate(-12.08 0.846385)\"><path class=\"edge\" d=\"M 0 0 V -0.846385 H 12.08\"/><rect class=\"sym\" height=\"6\" width=\"6\" x=\"-3\" y=\"-3\"/><text class=\"lab\" transform=\"translate(0 11)\">14</text></g><g class=\"a22 i8 leaf node n17 p0 sample\" transform=\"translate(12.08 0.846385)\"><path class=\"edge\" d=\"M 0 0 V -0.846385 H -12.08\"/><rect class=\"sym\" height=\"6\" width=\"6\" x=\"-3\" y=\"-3\"/><text class=\"lab\" transform=\"translate(0 11)\">17</text></g><path class=\"edge\" d=\"M 0 0 V -10.2906 H -18.12\"/><circle class=\"sym\" cx=\"0\" cy=\"0\" r=\"3\"/><text class=\"lab rgt\" transform=\"translate(3 -7.0)\">22</text></g><path class=\"edge\" d=\"M 0 0 V -19.1269 H -30.2\"/><circle class=\"sym\" cx=\"0\" cy=\"0\" r=\"3\"/><text class=\"lab rgt\" transform=\"translate(3 -7.0)\">28</text></g><path class=\"edge\" d=\"M 0 0 V -53.3911 H 42.28\"/><circle class=\"sym\" cx=\"0\" cy=\"0\" r=\"3\"/><text class=\"lab lft\" transform=\"translate(-3 -7.0)\">32</text></g><path class=\"edge\" d=\"M 0 0 V -79.033 H 61.91\"/><circle class=\"sym\" cx=\"0\" cy=\"0\" r=\"3\"/><text class=\"lab lft\" transform=\"translate(-3 -7.0)\">35</text></g><path class=\"edge\" d=\"M 0 0 V -100.678 H 68.705\"/><circle class=\"sym\" cx=\"0\" cy=\"0\" r=\"3\"/><text class=\"lab lft\" transform=\"translate(-3 -7.0)\">36</text></g><path class=\"edge\" d=\"M 0 0 V -31.2344 H 92.4875\"/><circle class=\"sym\" cx=\"0\" cy=\"0\" r=\"3\"/><text class=\"lab lft\" transform=\"translate(-3 -7.0)\">37</text></g><circle class=\"sym\" cx=\"0\" cy=\"0\" r=\"3\"/><text class=\"lab\" transform=\"translate(0 -11)\">38</text></g></g></g></g></g></svg>"
      ],
      "text/plain": [
       "<IPython.core.display.SVG object>"
      ]
     },
     "execution_count": 34,
     "metadata": {},
     "output_type": "execute_result"
    }
   ],
   "source": [
    "ts = msprime.sim_ancestry(10, sequence_length = 1000, random_seed = 9)\n",
    "SVG(ts.draw_svg(size=(600,400), y_axis = True, y_ticks=[0,2,4]))"
   ]
  },
  {
   "cell_type": "markdown",
   "id": "103ce663",
   "metadata": {},
   "source": [
    "Sequence length does not matter to a genealogy in the absence of two forces: 1) recombination and 2) mutation. We'll tackle recombination first and dedicate an entire section to mutation."
   ]
  },
  {
   "cell_type": "markdown",
   "id": "a2bb191f",
   "metadata": {},
   "source": [
    "We add the recombination_rate argument to our ancestry simulation. Let's downsize our sample a bit too to fit everything in one plot."
   ]
  },
  {
   "cell_type": "code",
   "execution_count": 35,
   "id": "73b1df2a",
   "metadata": {},
   "outputs": [
    {
     "data": {
      "image/svg+xml": [
       "<svg xmlns=\"http://www.w3.org/2000/svg\" xmlns:ev=\"http://www.w3.org/2001/xml-events\" xmlns:xlink=\"http://www.w3.org/1999/xlink\" baseProfile=\"full\" height=\"400\" version=\"1.1\" width=\"600\"><defs><style type=\"text/css\"><![CDATA[.background path {fill: #808080; fill-opacity: 0}.background path:nth-child(odd) {fill-opacity: .1}.axes {font-size: 14px}.x-axis .tick .lab {font-weight: bold; dominant-baseline: hanging}.axes, .tree {font-size: 14px; text-anchor: middle}.axes line, .edge {stroke: black; fill: none}.y-axis .grid {stroke: #FAFAFA}.node > .sym {fill: black; stroke: none}.site > .sym {stroke: black}.mut text {fill: red; font-style: italic}.mut.extra text {fill: hotpink}.mut line {fill: none; stroke: none}.mut .sym {fill: none; stroke: red}.mut.extra .sym {stroke: hotpink}.node .mut .sym {stroke-width: 1.5px}.tree text, .tree-sequence text {dominant-baseline: central}.plotbox .lab.lft {text-anchor: end}.plotbox .lab.rgt {text-anchor: start}]]></style></defs><g class=\"tree-sequence\"><g class=\"background\"><path d=\"M56.8,0 l174.4,0 l0,338.2 l-90.1648,25 l0,5 l-84.2352,0 l0,-5 l0,-25 l0,-338.2z\"/><path d=\"M231.2,0 l174.4,0 l0,338.2 l143.531,25 l0,5 l-408.096,0 l0,-5 l90.1648,-25 l0,-338.2z\"/><path d=\"M405.6,0 l174.4,0 l0,338.2 l0,25 l0,5 l-30.8688,0 l0,-5 l-143.531,-25 l0,-338.2z\"/></g><g class=\"axes\"><g class=\"x-axis\"><g transform=\"translate(318.4 400)\"><text class=\"lab\" text-anchor=\"middle\" transform=\"translate(0 -11)\">Genome position</text></g><line x1=\"56.8\" x2=\"580\" y1=\"363.2\" y2=\"363.2\"/><g class=\"ticks\"><g class=\"tick\" transform=\"translate(56.8 363.2)\"><line x1=\"0\" x2=\"0\" y1=\"0\" y2=\"5\"/><g transform=\"translate(0 6)\"><text class=\"lab\">0</text></g></g><g class=\"tick\" transform=\"translate(141.035 363.2)\"><line x1=\"0\" x2=\"0\" y1=\"0\" y2=\"5\"/><g transform=\"translate(0 6)\"><text class=\"lab\">161</text></g></g><g class=\"tick\" transform=\"translate(549.131 363.2)\"><line x1=\"0\" x2=\"0\" y1=\"0\" y2=\"5\"/><g transform=\"translate(0 6)\"><text class=\"lab\">941</text></g></g><g class=\"tick\" transform=\"translate(580 363.2)\"><line x1=\"0\" x2=\"0\" y1=\"0\" y2=\"5\"/><g transform=\"translate(0 6)\"><text class=\"lab\">1000</text></g></g></g></g><g class=\"y-axis\"><g transform=\"translate(0 165.7)\"><text class=\"lab\" text-anchor=\"middle\" transform=\"translate(11) rotate(-90)\">Time (generations)</text></g><line x1=\"56.8\" x2=\"56.8\" y1=\"321.4\" y2=\"10\"/><g class=\"ticks\"><g class=\"tick\" transform=\"translate(56.8 321.4)\"><line x1=\"0\" x2=\"-5\" y1=\"0\" y2=\"0\"/><g transform=\"translate(-6 0)\"><text class=\"lab\" text-anchor=\"end\">0</text></g></g><g class=\"tick\" transform=\"translate(56.8 241.481)\"><line x1=\"0\" x2=\"-5\" y1=\"0\" y2=\"0\"/><g transform=\"translate(-6 0)\"><text class=\"lab\" text-anchor=\"end\">2</text></g></g><g class=\"tick\" transform=\"translate(56.8 161.562)\"><line x1=\"0\" x2=\"-5\" y1=\"0\" y2=\"0\"/><g transform=\"translate(-6 0)\"><text class=\"lab\" text-anchor=\"end\">4</text></g></g></g></g></g><g class=\"plotbox trees\"><g class=\"tree t0\" transform=\"translate(56.8 0)\"><g class=\"plotbox\"><g class=\"c2 node n18 p0 root\" transform=\"translate(109.88 202.068)\"><g class=\"a18 c2 node n16 p0\" transform=\"translate(27.72 80.1158)\"><g class=\"a16 i4 leaf node n8 p0 sample\" transform=\"translate(10.08 39.2163)\"><path class=\"edge\" d=\"M 0 0 V -39.2163 H -10.08\"/><rect class=\"sym\" height=\"6\" width=\"6\" x=\"-3\" y=\"-3\"/><text class=\"lab\" transform=\"translate(0 11)\">8</text></g><g class=\"a16 c2 node n10 p0\" transform=\"translate(-10.08 36.2998)\"><g class=\"a10 i1 leaf node n2 p0 sample\" transform=\"translate(-6.72 2.9165)\"><path class=\"edge\" d=\"M 0 0 V -2.9165 H 6.72\"/><rect class=\"sym\" height=\"6\" width=\"6\" x=\"-3\" y=\"-3\"/><text class=\"lab\" transform=\"translate(0 11)\">2</text></g><g class=\"a10 i3 leaf node n7 p0 sample\" transform=\"translate(6.72 2.9165)\"><path class=\"edge\" d=\"M 0 0 V -2.9165 H -6.72\"/><rect class=\"sym\" height=\"6\" width=\"6\" x=\"-3\" y=\"-3\"/><text class=\"lab\" transform=\"translate(0 11)\">7</text></g><path class=\"edge\" d=\"M 0 0 V -36.2998 H 10.08\"/><circle class=\"sym\" cx=\"0\" cy=\"0\" r=\"3\"/><text class=\"lab lft\" transform=\"translate(-3 -7.0)\">10</text></g><path class=\"edge\" d=\"M 0 0 V -80.1158 H -27.72\"/><circle class=\"sym\" cx=\"0\" cy=\"0\" r=\"3\"/><text class=\"lab rgt\" transform=\"translate(3 -7.0)\">16</text></g><g class=\"a18 c2 node n17 p0\" transform=\"translate(-27.72 78.0421)\"><g class=\"a17 c2 node n14 p0\" transform=\"translate(18.48 26.9289)\"><g class=\"a14 i2 leaf node n4 p0 sample\" transform=\"translate(-6.72 14.361)\"><path class=\"edge\" d=\"M 0 0 V -14.361 H 6.72\"/><rect class=\"sym\" height=\"6\" width=\"6\" x=\"-3\" y=\"-3\"/><text class=\"lab\" transform=\"translate(0 11)\">4</text></g><g class=\"a14 i4 leaf node n9 p0 sample\" transform=\"translate(6.72 14.361)\"><path class=\"edge\" d=\"M 0 0 V -14.361 H -6.72\"/><rect class=\"sym\" height=\"6\" width=\"6\" x=\"-3\" y=\"-3\"/><text class=\"lab\" transform=\"translate(0 11)\">9</text></g><path class=\"edge\" d=\"M 0 0 V -26.9289 H -18.48\"/><circle class=\"sym\" cx=\"0\" cy=\"0\" r=\"3\"/><text class=\"lab rgt\" transform=\"translate(3 -7.0)\">14</text></g><g class=\"a17 c2 node n15 p0\" transform=\"translate(-18.48 18.6194)\"><g class=\"a15 i1 leaf node n3 p0 sample\" transform=\"translate(16.8 22.6705)\"><path class=\"edge\" d=\"M 0 0 V -22.6705 H -16.8\"/><rect class=\"sym\" height=\"6\" width=\"6\" x=\"-3\" y=\"-3\"/><text class=\"lab\" transform=\"translate(0 11)\">3</text></g><g class=\"a15 c2 node n13 p0\" transform=\"translate(-16.8 10.0977)\"><g class=\"a13 c2 node n11 p0\" transform=\"translate(13.44 9.33337)\"><g class=\"a11 i0 leaf node n1 p0 sample\" transform=\"translate(-6.72 3.23939)\"><path class=\"edge\" d=\"M 0 0 V -3.23939 H 6.72\"/><rect class=\"sym\" height=\"6\" width=\"6\" x=\"-3\" y=\"-3\"/><text class=\"lab\" transform=\"translate(0 11)\">1</text></g><g class=\"a11 i2 leaf node n5 p0 sample\" transform=\"translate(6.72 3.23939)\"><path class=\"edge\" d=\"M 0 0 V -3.23939 H -6.72\"/><rect class=\"sym\" height=\"6\" width=\"6\" x=\"-3\" y=\"-3\"/><text class=\"lab\" transform=\"translate(0 11)\">5</text></g><path class=\"edge\" d=\"M 0 0 V -9.33337 H -13.44\"/><circle class=\"sym\" cx=\"0\" cy=\"0\" r=\"3\"/><text class=\"lab rgt\" transform=\"translate(3 -7.0)\">11</text></g><g class=\"a13 c2 node n12 p0\" transform=\"translate(-13.44 7.60422)\"><g class=\"a12 i0 leaf node n0 p0 sample\" transform=\"translate(-6.72 4.96854)\"><path class=\"edge\" d=\"M 0 0 V -4.96854 H 6.72\"/><rect class=\"sym\" height=\"6\" width=\"6\" x=\"-3\" y=\"-3\"/><text class=\"lab\" transform=\"translate(0 11)\">0</text></g><g class=\"a12 i3 leaf node n6 p0 sample\" transform=\"translate(6.72 4.96854)\"><path class=\"edge\" d=\"M 0 0 V -4.96854 H -6.72\"/><rect class=\"sym\" height=\"6\" width=\"6\" x=\"-3\" y=\"-3\"/><text class=\"lab\" transform=\"translate(0 11)\">6</text></g><path class=\"edge\" d=\"M 0 0 V -7.60422 H 13.44\"/><circle class=\"sym\" cx=\"0\" cy=\"0\" r=\"3\"/><text class=\"lab lft\" transform=\"translate(-3 -7.0)\">12</text></g><path class=\"edge\" d=\"M 0 0 V -10.0977 H 16.8\"/><circle class=\"sym\" cx=\"0\" cy=\"0\" r=\"3\"/><text class=\"lab lft\" transform=\"translate(-3 -7.0)\">13</text></g><path class=\"edge\" d=\"M 0 0 V -18.6194 H 18.48\"/><circle class=\"sym\" cx=\"0\" cy=\"0\" r=\"3\"/><text class=\"lab lft\" transform=\"translate(-3 -7.0)\">15</text></g><path class=\"edge\" d=\"M 0 0 V -78.0421 H 27.72\"/><circle class=\"sym\" cx=\"0\" cy=\"0\" r=\"3\"/><text class=\"lab lft\" transform=\"translate(-3 -7.0)\">17</text></g><circle class=\"sym\" cx=\"0\" cy=\"0\" r=\"3\"/><text class=\"lab\" transform=\"translate(0 -11)\">18</text></g></g></g><g class=\"tree t1\" transform=\"translate(231.2 0)\"><g class=\"plotbox\"><g class=\"c2 node n20 p0 root\" transform=\"translate(109.88 26.8)\"><g class=\"a20 c2 node n16 p0\" transform=\"translate(27.72 255.384)\"><g class=\"a16 i4 leaf node n8 p0 sample\" transform=\"translate(10.08 39.2163)\"><path class=\"edge\" d=\"M 0 0 V -39.2163 H -10.08\"/><rect class=\"sym\" height=\"6\" width=\"6\" x=\"-3\" y=\"-3\"/><text class=\"lab\" transform=\"translate(0 11)\">8</text></g><g class=\"a16 c2 node n10 p0\" transform=\"translate(-10.08 36.2998)\"><g class=\"a10 i1 leaf node n2 p0 sample\" transform=\"translate(-6.72 2.9165)\"><path class=\"edge\" d=\"M 0 0 V -2.9165 H 6.72\"/><rect class=\"sym\" height=\"6\" width=\"6\" x=\"-3\" y=\"-3\"/><text class=\"lab\" transform=\"translate(0 11)\">2</text></g><g class=\"a10 i3 leaf node n7 p0 sample\" transform=\"translate(6.72 2.9165)\"><path class=\"edge\" d=\"M 0 0 V -2.9165 H -6.72\"/><rect class=\"sym\" height=\"6\" width=\"6\" x=\"-3\" y=\"-3\"/><text class=\"lab\" transform=\"translate(0 11)\">7</text></g><path class=\"edge\" d=\"M 0 0 V -36.2998 H 10.08\"/><circle class=\"sym\" cx=\"0\" cy=\"0\" r=\"3\"/><text class=\"lab lft\" transform=\"translate(-3 -7.0)\">10</text></g><path class=\"edge\" d=\"M 0 0 V -255.384 H -27.72\"/><circle class=\"sym\" cx=\"0\" cy=\"0\" r=\"3\"/><text class=\"lab rgt\" transform=\"translate(3 -7.0)\">16</text></g><g class=\"a20 c2 node n17 p0\" transform=\"translate(-27.72 253.31)\"><g class=\"a17 c2 node n14 p0\" transform=\"translate(18.48 26.9289)\"><g class=\"a14 i2 leaf node n4 p0 sample\" transform=\"translate(-6.72 14.361)\"><path class=\"edge\" d=\"M 0 0 V -14.361 H 6.72\"/><rect class=\"sym\" height=\"6\" width=\"6\" x=\"-3\" y=\"-3\"/><text class=\"lab\" transform=\"translate(0 11)\">4</text></g><g class=\"a14 i4 leaf node n9 p0 sample\" transform=\"translate(6.72 14.361)\"><path class=\"edge\" d=\"M 0 0 V -14.361 H -6.72\"/><rect class=\"sym\" height=\"6\" width=\"6\" x=\"-3\" y=\"-3\"/><text class=\"lab\" transform=\"translate(0 11)\">9</text></g><path class=\"edge\" d=\"M 0 0 V -26.9289 H -18.48\"/><circle class=\"sym\" cx=\"0\" cy=\"0\" r=\"3\"/><text class=\"lab rgt\" transform=\"translate(3 -7.0)\">14</text></g><g class=\"a17 c2 node n15 p0\" transform=\"translate(-18.48 18.6194)\"><g class=\"a15 i1 leaf node n3 p0 sample\" transform=\"translate(16.8 22.6705)\"><path class=\"edge\" d=\"M 0 0 V -22.6705 H -16.8\"/><rect class=\"sym\" height=\"6\" width=\"6\" x=\"-3\" y=\"-3\"/><text class=\"lab\" transform=\"translate(0 11)\">3</text></g><g class=\"a15 c2 node n13 p0\" transform=\"translate(-16.8 10.0977)\"><g class=\"a13 c2 node n11 p0\" transform=\"translate(13.44 9.33337)\"><g class=\"a11 i0 leaf node n1 p0 sample\" transform=\"translate(-6.72 3.23939)\"><path class=\"edge\" d=\"M 0 0 V -3.23939 H 6.72\"/><rect class=\"sym\" height=\"6\" width=\"6\" x=\"-3\" y=\"-3\"/><text class=\"lab\" transform=\"translate(0 11)\">1</text></g><g class=\"a11 i2 leaf node n5 p0 sample\" transform=\"translate(6.72 3.23939)\"><path class=\"edge\" d=\"M 0 0 V -3.23939 H -6.72\"/><rect class=\"sym\" height=\"6\" width=\"6\" x=\"-3\" y=\"-3\"/><text class=\"lab\" transform=\"translate(0 11)\">5</text></g><path class=\"edge\" d=\"M 0 0 V -9.33337 H -13.44\"/><circle class=\"sym\" cx=\"0\" cy=\"0\" r=\"3\"/><text class=\"lab rgt\" transform=\"translate(3 -7.0)\">11</text></g><g class=\"a13 c2 node n12 p0\" transform=\"translate(-13.44 7.60422)\"><g class=\"a12 i0 leaf node n0 p0 sample\" transform=\"translate(-6.72 4.96854)\"><path class=\"edge\" d=\"M 0 0 V -4.96854 H 6.72\"/><rect class=\"sym\" height=\"6\" width=\"6\" x=\"-3\" y=\"-3\"/><text class=\"lab\" transform=\"translate(0 11)\">0</text></g><g class=\"a12 i3 leaf node n6 p0 sample\" transform=\"translate(6.72 4.96854)\"><path class=\"edge\" d=\"M 0 0 V -4.96854 H -6.72\"/><rect class=\"sym\" height=\"6\" width=\"6\" x=\"-3\" y=\"-3\"/><text class=\"lab\" transform=\"translate(0 11)\">6</text></g><path class=\"edge\" d=\"M 0 0 V -7.60422 H 13.44\"/><circle class=\"sym\" cx=\"0\" cy=\"0\" r=\"3\"/><text class=\"lab lft\" transform=\"translate(-3 -7.0)\">12</text></g><path class=\"edge\" d=\"M 0 0 V -10.0977 H 16.8\"/><circle class=\"sym\" cx=\"0\" cy=\"0\" r=\"3\"/><text class=\"lab lft\" transform=\"translate(-3 -7.0)\">13</text></g><path class=\"edge\" d=\"M 0 0 V -18.6194 H 18.48\"/><circle class=\"sym\" cx=\"0\" cy=\"0\" r=\"3\"/><text class=\"lab lft\" transform=\"translate(-3 -7.0)\">15</text></g><path class=\"edge\" d=\"M 0 0 V -253.31 H 27.72\"/><circle class=\"sym\" cx=\"0\" cy=\"0\" r=\"3\"/><text class=\"lab lft\" transform=\"translate(-3 -7.0)\">17</text></g><circle class=\"sym\" cx=\"0\" cy=\"0\" r=\"3\"/><text class=\"lab\" transform=\"translate(0 -11)\">20</text></g></g></g><g class=\"tree t2\" transform=\"translate(405.6 0)\"><g class=\"plotbox\"><g class=\"c2 node n19 p0 root\" transform=\"translate(109.88 126.066)\"><g class=\"a19 c2 node n16 p0\" transform=\"translate(27.72 156.118)\"><g class=\"a16 i4 leaf node n8 p0 sample\" transform=\"translate(10.08 39.2163)\"><path class=\"edge\" d=\"M 0 0 V -39.2163 H -10.08\"/><rect class=\"sym\" height=\"6\" width=\"6\" x=\"-3\" y=\"-3\"/><text class=\"lab\" transform=\"translate(0 11)\">8</text></g><g class=\"a16 c2 node n10 p0\" transform=\"translate(-10.08 36.2998)\"><g class=\"a10 i1 leaf node n2 p0 sample\" transform=\"translate(-6.72 2.9165)\"><path class=\"edge\" d=\"M 0 0 V -2.9165 H 6.72\"/><rect class=\"sym\" height=\"6\" width=\"6\" x=\"-3\" y=\"-3\"/><text class=\"lab\" transform=\"translate(0 11)\">2</text></g><g class=\"a10 i3 leaf node n7 p0 sample\" transform=\"translate(6.72 2.9165)\"><path class=\"edge\" d=\"M 0 0 V -2.9165 H -6.72\"/><rect class=\"sym\" height=\"6\" width=\"6\" x=\"-3\" y=\"-3\"/><text class=\"lab\" transform=\"translate(0 11)\">7</text></g><path class=\"edge\" d=\"M 0 0 V -36.2998 H 10.08\"/><circle class=\"sym\" cx=\"0\" cy=\"0\" r=\"3\"/><text class=\"lab lft\" transform=\"translate(-3 -7.0)\">10</text></g><path class=\"edge\" d=\"M 0 0 V -156.118 H -27.72\"/><circle class=\"sym\" cx=\"0\" cy=\"0\" r=\"3\"/><text class=\"lab rgt\" transform=\"translate(3 -7.0)\">16</text></g><g class=\"a19 c2 node n17 p0\" transform=\"translate(-27.72 154.044)\"><g class=\"a17 c2 node n14 p0\" transform=\"translate(18.48 26.9289)\"><g class=\"a14 i2 leaf node n4 p0 sample\" transform=\"translate(-6.72 14.361)\"><path class=\"edge\" d=\"M 0 0 V -14.361 H 6.72\"/><rect class=\"sym\" height=\"6\" width=\"6\" x=\"-3\" y=\"-3\"/><text class=\"lab\" transform=\"translate(0 11)\">4</text></g><g class=\"a14 i4 leaf node n9 p0 sample\" transform=\"translate(6.72 14.361)\"><path class=\"edge\" d=\"M 0 0 V -14.361 H -6.72\"/><rect class=\"sym\" height=\"6\" width=\"6\" x=\"-3\" y=\"-3\"/><text class=\"lab\" transform=\"translate(0 11)\">9</text></g><path class=\"edge\" d=\"M 0 0 V -26.9289 H -18.48\"/><circle class=\"sym\" cx=\"0\" cy=\"0\" r=\"3\"/><text class=\"lab rgt\" transform=\"translate(3 -7.0)\">14</text></g><g class=\"a17 c2 node n15 p0\" transform=\"translate(-18.48 18.6194)\"><g class=\"a15 i1 leaf node n3 p0 sample\" transform=\"translate(16.8 22.6705)\"><path class=\"edge\" d=\"M 0 0 V -22.6705 H -16.8\"/><rect class=\"sym\" height=\"6\" width=\"6\" x=\"-3\" y=\"-3\"/><text class=\"lab\" transform=\"translate(0 11)\">3</text></g><g class=\"a15 c2 node n13 p0\" transform=\"translate(-16.8 10.0977)\"><g class=\"a13 c2 node n11 p0\" transform=\"translate(13.44 9.33337)\"><g class=\"a11 i0 leaf node n1 p0 sample\" transform=\"translate(-6.72 3.23939)\"><path class=\"edge\" d=\"M 0 0 V -3.23939 H 6.72\"/><rect class=\"sym\" height=\"6\" width=\"6\" x=\"-3\" y=\"-3\"/><text class=\"lab\" transform=\"translate(0 11)\">1</text></g><g class=\"a11 i2 leaf node n5 p0 sample\" transform=\"translate(6.72 3.23939)\"><path class=\"edge\" d=\"M 0 0 V -3.23939 H -6.72\"/><rect class=\"sym\" height=\"6\" width=\"6\" x=\"-3\" y=\"-3\"/><text class=\"lab\" transform=\"translate(0 11)\">5</text></g><path class=\"edge\" d=\"M 0 0 V -9.33337 H -13.44\"/><circle class=\"sym\" cx=\"0\" cy=\"0\" r=\"3\"/><text class=\"lab rgt\" transform=\"translate(3 -7.0)\">11</text></g><g class=\"a13 c2 node n12 p0\" transform=\"translate(-13.44 7.60422)\"><g class=\"a12 i0 leaf node n0 p0 sample\" transform=\"translate(-6.72 4.96854)\"><path class=\"edge\" d=\"M 0 0 V -4.96854 H 6.72\"/><rect class=\"sym\" height=\"6\" width=\"6\" x=\"-3\" y=\"-3\"/><text class=\"lab\" transform=\"translate(0 11)\">0</text></g><g class=\"a12 i3 leaf node n6 p0 sample\" transform=\"translate(6.72 4.96854)\"><path class=\"edge\" d=\"M 0 0 V -4.96854 H -6.72\"/><rect class=\"sym\" height=\"6\" width=\"6\" x=\"-3\" y=\"-3\"/><text class=\"lab\" transform=\"translate(0 11)\">6</text></g><path class=\"edge\" d=\"M 0 0 V -7.60422 H 13.44\"/><circle class=\"sym\" cx=\"0\" cy=\"0\" r=\"3\"/><text class=\"lab lft\" transform=\"translate(-3 -7.0)\">12</text></g><path class=\"edge\" d=\"M 0 0 V -10.0977 H 16.8\"/><circle class=\"sym\" cx=\"0\" cy=\"0\" r=\"3\"/><text class=\"lab lft\" transform=\"translate(-3 -7.0)\">13</text></g><path class=\"edge\" d=\"M 0 0 V -18.6194 H 18.48\"/><circle class=\"sym\" cx=\"0\" cy=\"0\" r=\"3\"/><text class=\"lab lft\" transform=\"translate(-3 -7.0)\">15</text></g><path class=\"edge\" d=\"M 0 0 V -154.044 H 27.72\"/><circle class=\"sym\" cx=\"0\" cy=\"0\" r=\"3\"/><text class=\"lab lft\" transform=\"translate(-3 -7.0)\">17</text></g><circle class=\"sym\" cx=\"0\" cy=\"0\" r=\"3\"/><text class=\"lab\" transform=\"translate(0 -11)\">19</text></g></g></g></g></g></svg>"
      ],
      "text/plain": [
       "<IPython.core.display.SVG object>"
      ]
     },
     "execution_count": 35,
     "metadata": {},
     "output_type": "execute_result"
    }
   ],
   "source": [
    "ts = msprime.sim_ancestry(5, recombination_rate = 0.0001, sequence_length = 1000, random_seed = 9999)\n",
    "SVG(ts.draw_svg(size=(600,400), y_axis = True, y_ticks=[0,2,4]))"
   ]
  },
  {
   "cell_type": "markdown",
   "id": "2b5af488",
   "metadata": {},
   "source": [
    "Decrease the sample size again and increase the rate."
   ]
  },
  {
   "cell_type": "code",
   "execution_count": 36,
   "id": "44970867",
   "metadata": {
    "scrolled": true
   },
   "outputs": [
    {
     "data": {
      "image/svg+xml": [
       "<svg xmlns=\"http://www.w3.org/2000/svg\" xmlns:ev=\"http://www.w3.org/2001/xml-events\" xmlns:xlink=\"http://www.w3.org/1999/xlink\" baseProfile=\"full\" height=\"400\" version=\"1.1\" width=\"1000\"><defs><style type=\"text/css\"><![CDATA[.background path {fill: #808080; fill-opacity: 0}.background path:nth-child(odd) {fill-opacity: .1}.axes {font-size: 14px}.x-axis .tick .lab {font-weight: bold; dominant-baseline: hanging}.axes, .tree {font-size: 14px; text-anchor: middle}.axes line, .edge {stroke: black; fill: none}.y-axis .grid {stroke: #FAFAFA}.node > .sym {fill: black; stroke: none}.site > .sym {stroke: black}.mut text {fill: red; font-style: italic}.mut.extra text {fill: hotpink}.mut line {fill: none; stroke: none}.mut .sym {fill: none; stroke: red}.mut.extra .sym {stroke: hotpink}.node .mut .sym {stroke-width: 1.5px}.tree text, .tree-sequence text {dominant-baseline: central}.plotbox .lab.lft {text-anchor: end}.plotbox .lab.rgt {text-anchor: start}]]></style></defs><g class=\"tree-sequence\"><g class=\"background\"><path d=\"M56.8,0 l461.6,0 l0,338.2 l332.352,25 l0,5 l-793.952,0 l0,-5 l0,-25 l0,-338.2z\"/><path d=\"M518.4,0 l461.6,0 l0,338.2 l0,25 l0,5 l-129.248,0 l0,-5 l-332.352,-25 l0,-338.2z\"/></g><g class=\"axes\"><g class=\"x-axis\"><g transform=\"translate(518.4 400)\"><text class=\"lab\" text-anchor=\"middle\" transform=\"translate(0 -11)\">Genome position</text></g><line x1=\"56.8\" x2=\"980\" y1=\"363.2\" y2=\"363.2\"/><g class=\"ticks\"><g class=\"tick\" transform=\"translate(56.8 363.2)\"><line x1=\"0\" x2=\"0\" y1=\"0\" y2=\"5\"/><g transform=\"translate(0 6)\"><text class=\"lab\">0</text></g></g><g class=\"tick\" transform=\"translate(850.752 363.2)\"><line x1=\"0\" x2=\"0\" y1=\"0\" y2=\"5\"/><g transform=\"translate(0 6)\"><text class=\"lab\">860</text></g></g><g class=\"tick\" transform=\"translate(980 363.2)\"><line x1=\"0\" x2=\"0\" y1=\"0\" y2=\"5\"/><g transform=\"translate(0 6)\"><text class=\"lab\">1000</text></g></g></g></g><g class=\"y-axis\"><g transform=\"translate(0 165.7)\"><text class=\"lab\" text-anchor=\"middle\" transform=\"translate(11) rotate(-90)\">Time (generations)</text></g><line x1=\"56.8\" x2=\"56.8\" y1=\"321.4\" y2=\"10\"/><g class=\"ticks\"><g class=\"tick\" transform=\"translate(56.8 321.4)\"><line x1=\"0\" x2=\"-5\" y1=\"0\" y2=\"0\"/><g transform=\"translate(-6 0)\"><text class=\"lab\" text-anchor=\"end\">0</text></g></g><g class=\"tick\" transform=\"translate(56.8 102.285)\"><line x1=\"0\" x2=\"-5\" y1=\"0\" y2=\"0\"/><g transform=\"translate(-6 0)\"><text class=\"lab\" text-anchor=\"end\">2</text></g></g><g class=\"tick\" transform=\"translate(56.8 -116.83)\"><line x1=\"0\" x2=\"-5\" y1=\"0\" y2=\"0\"/><g transform=\"translate(-6 0)\"><text class=\"lab\" text-anchor=\"end\">4</text></g></g></g></g></g><g class=\"plotbox trees\"><g class=\"tree t0\" transform=\"translate(56.8 0)\"><g class=\"plotbox\"><g class=\"c2 node n6 p0 root\" transform=\"translate(230.8 218.178)\"><g class=\"a6 c2 node n4 p0\" transform=\"translate(105.4 90.8314)\"><g class=\"a4 i0 leaf node n1 p0 sample\" transform=\"translate(-52.7 12.3908)\"><path class=\"edge\" d=\"M 0 0 V -12.3908 H 52.7\"/><rect class=\"sym\" height=\"6\" width=\"6\" x=\"-3\" y=\"-3\"/><text class=\"lab\" transform=\"translate(0 11)\">1</text></g><g class=\"a4 i1 leaf node n2 p0 sample\" transform=\"translate(52.7 12.3908)\"><path class=\"edge\" d=\"M 0 0 V -12.3908 H -52.7\"/><rect class=\"sym\" height=\"6\" width=\"6\" x=\"-3\" y=\"-3\"/><text class=\"lab\" transform=\"translate(0 11)\">2</text></g><path class=\"edge\" d=\"M 0 0 V -90.8314 H -105.4\"/><circle class=\"sym\" cx=\"0\" cy=\"0\" r=\"3\"/><text class=\"lab rgt\" transform=\"translate(3 -7.0)\">4</text></g><g class=\"a6 c2 node n5 p0\" transform=\"translate(-105.4 65.6196)\"><g class=\"a5 i0 leaf node n0 p0 sample\" transform=\"translate(-52.7 37.6025)\"><path class=\"edge\" d=\"M 0 0 V -37.6025 H 52.7\"/><rect class=\"sym\" height=\"6\" width=\"6\" x=\"-3\" y=\"-3\"/><text class=\"lab\" transform=\"translate(0 11)\">0</text></g><g class=\"a5 i1 leaf node n3 p0 sample\" transform=\"translate(52.7 37.6025)\"><path class=\"edge\" d=\"M 0 0 V -37.6025 H -52.7\"/><rect class=\"sym\" height=\"6\" width=\"6\" x=\"-3\" y=\"-3\"/><text class=\"lab\" transform=\"translate(0 11)\">3</text></g><path class=\"edge\" d=\"M 0 0 V -65.6196 H 105.4\"/><circle class=\"sym\" cx=\"0\" cy=\"0\" r=\"3\"/><text class=\"lab lft\" transform=\"translate(-3 -7.0)\">5</text></g><circle class=\"sym\" cx=\"0\" cy=\"0\" r=\"3\"/><text class=\"lab\" transform=\"translate(0 -11)\">6</text></g></g></g><g class=\"tree t1\" transform=\"translate(518.4 0)\"><g class=\"plotbox\"><g class=\"c2 node n7 p0 root\" transform=\"translate(230.8 26.8)\"><g class=\"a7 c2 node n4 p0\" transform=\"translate(105.4 282.209)\"><g class=\"a4 i0 leaf node n1 p0 sample\" transform=\"translate(-52.7 12.3908)\"><path class=\"edge\" d=\"M 0 0 V -12.3908 H 52.7\"/><rect class=\"sym\" height=\"6\" width=\"6\" x=\"-3\" y=\"-3\"/><text class=\"lab\" transform=\"translate(0 11)\">1</text></g><g class=\"a4 i1 leaf node n2 p0 sample\" transform=\"translate(52.7 12.3908)\"><path class=\"edge\" d=\"M 0 0 V -12.3908 H -52.7\"/><rect class=\"sym\" height=\"6\" width=\"6\" x=\"-3\" y=\"-3\"/><text class=\"lab\" transform=\"translate(0 11)\">2</text></g><path class=\"edge\" d=\"M 0 0 V -282.209 H -105.4\"/><circle class=\"sym\" cx=\"0\" cy=\"0\" r=\"3\"/><text class=\"lab rgt\" transform=\"translate(3 -7.0)\">4</text></g><g class=\"a7 c2 node n5 p0\" transform=\"translate(-105.4 256.998)\"><g class=\"a5 i0 leaf node n0 p0 sample\" transform=\"translate(-52.7 37.6025)\"><path class=\"edge\" d=\"M 0 0 V -37.6025 H 52.7\"/><rect class=\"sym\" height=\"6\" width=\"6\" x=\"-3\" y=\"-3\"/><text class=\"lab\" transform=\"translate(0 11)\">0</text></g><g class=\"a5 i1 leaf node n3 p0 sample\" transform=\"translate(52.7 37.6025)\"><path class=\"edge\" d=\"M 0 0 V -37.6025 H -52.7\"/><rect class=\"sym\" height=\"6\" width=\"6\" x=\"-3\" y=\"-3\"/><text class=\"lab\" transform=\"translate(0 11)\">3</text></g><path class=\"edge\" d=\"M 0 0 V -256.998 H 105.4\"/><circle class=\"sym\" cx=\"0\" cy=\"0\" r=\"3\"/><text class=\"lab lft\" transform=\"translate(-3 -7.0)\">5</text></g><circle class=\"sym\" cx=\"0\" cy=\"0\" r=\"3\"/><text class=\"lab\" transform=\"translate(0 -11)\">7</text></g></g></g></g></g></svg>"
      ],
      "text/plain": [
       "<IPython.core.display.SVG object>"
      ]
     },
     "execution_count": 36,
     "metadata": {},
     "output_type": "execute_result"
    }
   ],
   "source": [
    "ts = msprime.sim_ancestry(2, recombination_rate = 0.001, sequence_length = 1000, random_seed = 5285)\n",
    "SVG(ts.draw_svg(size=(1000,400), y_axis = True, y_ticks=[0,2,4]))"
   ]
  },
  {
   "cell_type": "markdown",
   "id": "71eefb94",
   "metadata": {},
   "source": [
    "We can also specify a recombination map by defining a rate map. Note that once need not include sequence length in the ancestry simulation but, if you do, ensure that it matches the rate map!"
   ]
  },
  {
   "cell_type": "code",
   "execution_count": 37,
   "id": "6d167647",
   "metadata": {
    "scrolled": true
   },
   "outputs": [
    {
     "data": {
      "image/svg+xml": [
       "<svg xmlns=\"http://www.w3.org/2000/svg\" xmlns:ev=\"http://www.w3.org/2001/xml-events\" xmlns:xlink=\"http://www.w3.org/1999/xlink\" baseProfile=\"full\" height=\"400\" version=\"1.1\" width=\"1000\"><defs><style type=\"text/css\"><![CDATA[.background path {fill: #808080; fill-opacity: 0}.background path:nth-child(odd) {fill-opacity: .1}.axes {font-size: 14px}.x-axis .tick .lab {font-weight: bold; dominant-baseline: hanging}.axes, .tree {font-size: 14px; text-anchor: middle}.axes line, .edge {stroke: black; fill: none}.y-axis .grid {stroke: #FAFAFA}.node > .sym {fill: black; stroke: none}.site > .sym {stroke: black}.mut text {fill: red; font-style: italic}.mut.extra text {fill: hotpink}.mut line {fill: none; stroke: none}.mut .sym {fill: none; stroke: red}.mut.extra .sym {stroke: hotpink}.node .mut .sym {stroke-width: 1.5px}.tree text, .tree-sequence text {dominant-baseline: central}.plotbox .lab.lft {text-anchor: end}.plotbox .lab.rgt {text-anchor: start}]]></style></defs><g class=\"tree-sequence\"><g class=\"background\"><path d=\"M56.8,0 l153.867,0 l0,338.2 l-44.9291,25 l0,5 l-108.938,0 l0,-5 l0,-25 l0,-338.2z\"/><path d=\"M210.667,0 l153.867,0 l0,338.2 l103.091,25 l0,5 l-301.886,0 l0,-5 l44.9291,-25 l0,-338.2z\"/><path d=\"M364.533,0 l153.867,0 l0,338.2 l372.973,25 l0,5 l-423.749,0 l0,-5 l-103.091,-25 l0,-338.2z\"/><path d=\"M518.4,0 l153.867,0 l0,338.2 l221.876,25 l0,5 l-2.7696,0 l0,-5 l-372.973,-25 l0,-338.2z\"/><path d=\"M672.267,0 l153.867,0 l0,338.2 l142.788,25 l0,5 l-74.7792,0 l0,-5 l-221.876,-25 l0,-338.2z\"/><path d=\"M826.133,0 l153.867,0 l0,338.2 l0,25 l0,5 l-11.0784,0 l0,-5 l-142.788,-25 l0,-338.2z\"/></g><g class=\"axes\"><g class=\"x-axis\"><g transform=\"translate(518.4 400)\"><text class=\"lab\" text-anchor=\"middle\" transform=\"translate(0 -11)\">Genome position</text></g><line x1=\"56.8\" x2=\"980\" y1=\"363.2\" y2=\"363.2\"/><g class=\"ticks\"><g class=\"tick\" transform=\"translate(56.8 363.2)\"><line x1=\"0\" x2=\"0\" y1=\"0\" y2=\"5\"/><g transform=\"translate(0 6)\"><text class=\"lab\">0</text></g></g><g class=\"tick\" transform=\"translate(165.738 363.2)\"><line x1=\"0\" x2=\"0\" y1=\"0\" y2=\"5\"/><g transform=\"translate(0 6)\"><text class=\"lab\">118</text></g></g><g class=\"tick\" transform=\"translate(467.624 363.2)\"><line x1=\"0\" x2=\"0\" y1=\"0\" y2=\"5\"/><g transform=\"translate(0 6)\"><text class=\"lab\">445</text></g></g><g class=\"tick\" transform=\"translate(891.373 363.2)\"><line x1=\"0\" x2=\"0\" y1=\"0\" y2=\"5\"/><g transform=\"translate(0 6)\"><text class=\"lab\">904</text></g></g><g class=\"tick\" transform=\"translate(894.142 363.2)\"><line x1=\"0\" x2=\"0\" y1=\"0\" y2=\"5\"/><g transform=\"translate(0 6)\"><text class=\"lab\">907</text></g></g><g class=\"tick\" transform=\"translate(968.922 363.2)\"><line x1=\"0\" x2=\"0\" y1=\"0\" y2=\"5\"/><g transform=\"translate(0 6)\"><text class=\"lab\">988</text></g></g><g class=\"tick\" transform=\"translate(980 363.2)\"><line x1=\"0\" x2=\"0\" y1=\"0\" y2=\"5\"/><g transform=\"translate(0 6)\"><text class=\"lab\">1000</text></g></g></g></g><g class=\"y-axis\"><g transform=\"translate(0 165.7)\"><text class=\"lab\" text-anchor=\"middle\" transform=\"translate(11) rotate(-90)\">Time (generations)</text></g><line x1=\"56.8\" x2=\"56.8\" y1=\"321.4\" y2=\"10\"/><g class=\"ticks\"><g class=\"tick\" transform=\"translate(56.8 321.4)\"><line x1=\"0\" x2=\"-5\" y1=\"0\" y2=\"0\"/><g transform=\"translate(-6 0)\"><text class=\"lab\" text-anchor=\"end\">0</text></g></g><g class=\"tick\" transform=\"translate(56.8 212.222)\"><line x1=\"0\" x2=\"-5\" y1=\"0\" y2=\"0\"/><g transform=\"translate(-6 0)\"><text class=\"lab\" text-anchor=\"end\">2</text></g></g><g class=\"tick\" transform=\"translate(56.8 103.045)\"><line x1=\"0\" x2=\"-5\" y1=\"0\" y2=\"0\"/><g transform=\"translate(-6 0)\"><text class=\"lab\" text-anchor=\"end\">4</text></g></g></g></g></g><g class=\"plotbox trees\"><g class=\"tree t0\" transform=\"translate(56.8 0)\"><g class=\"plotbox\"><g class=\"c2 node n9 p0 root\" transform=\"translate(94.725 184.806)\"><g class=\"a9 i1 leaf node n3 p0 sample\" transform=\"translate(24.9083 136.594)\"><path class=\"edge\" d=\"M 0 0 V -136.594 H -24.9083\"/><rect class=\"sym\" height=\"6\" width=\"6\" x=\"-3\" y=\"-3\"/><text class=\"lab\" transform=\"translate(0 11)\">3</text></g><g class=\"a9 c2 node n7 p0\" transform=\"translate(-24.9083 57.9217)\"><g class=\"a7 i0 leaf node n1 p0 sample\" transform=\"translate(21.35 78.6727)\"><path class=\"edge\" d=\"M 0 0 V -78.6727 H -21.35\"/><rect class=\"sym\" height=\"6\" width=\"6\" x=\"-3\" y=\"-3\"/><text class=\"lab\" transform=\"translate(0 11)\">1</text></g><g class=\"a7 c2 node n4 p0\" transform=\"translate(-21.35 66.2531)\"><g class=\"a4 i0 leaf node n0 p0 sample\" transform=\"translate(-14.2333 12.4196)\"><path class=\"edge\" d=\"M 0 0 V -12.4196 H 14.2333\"/><rect class=\"sym\" height=\"6\" width=\"6\" x=\"-3\" y=\"-3\"/><text class=\"lab\" transform=\"translate(0 11)\">0</text></g><g class=\"a4 i1 leaf node n2 p0 sample\" transform=\"translate(14.2333 12.4196)\"><path class=\"edge\" d=\"M 0 0 V -12.4196 H -14.2333\"/><rect class=\"sym\" height=\"6\" width=\"6\" x=\"-3\" y=\"-3\"/><text class=\"lab\" transform=\"translate(0 11)\">2</text></g><path class=\"edge\" d=\"M 0 0 V -66.2531 H 21.35\"/><circle class=\"sym\" cx=\"0\" cy=\"0\" r=\"3\"/><text class=\"lab lft\" transform=\"translate(-3 -7.0)\">4</text></g><path class=\"edge\" d=\"M 0 0 V -57.9217 H 24.9083\"/><circle class=\"sym\" cx=\"0\" cy=\"0\" r=\"3\"/><text class=\"lab lft\" transform=\"translate(-3 -7.0)\">7</text></g><circle class=\"sym\" cx=\"0\" cy=\"0\" r=\"3\"/><text class=\"lab\" transform=\"translate(0 -11)\">9</text></g></g></g><g class=\"tree t1\" transform=\"translate(210.667 0)\"><g class=\"plotbox\"><g class=\"c2 node n10 p0 root\" transform=\"translate(94.725 141.739)\"><g class=\"a10 i1 leaf node n3 p0 sample\" transform=\"translate(24.9083 179.661)\"><path class=\"edge\" d=\"M 0 0 V -179.661 H -24.9083\"/><rect class=\"sym\" height=\"6\" width=\"6\" x=\"-3\" y=\"-3\"/><text class=\"lab\" transform=\"translate(0 11)\">3</text></g><g class=\"a10 c2 node n7 p0\" transform=\"translate(-24.9083 100.988)\"><g class=\"a7 i0 leaf node n1 p0 sample\" transform=\"translate(21.35 78.6727)\"><path class=\"edge\" d=\"M 0 0 V -78.6727 H -21.35\"/><rect class=\"sym\" height=\"6\" width=\"6\" x=\"-3\" y=\"-3\"/><text class=\"lab\" transform=\"translate(0 11)\">1</text></g><g class=\"a7 c2 node n4 p0\" transform=\"translate(-21.35 66.2531)\"><g class=\"a4 i0 leaf node n0 p0 sample\" transform=\"translate(-14.2333 12.4196)\"><path class=\"edge\" d=\"M 0 0 V -12.4196 H 14.2333\"/><rect class=\"sym\" height=\"6\" width=\"6\" x=\"-3\" y=\"-3\"/><text class=\"lab\" transform=\"translate(0 11)\">0</text></g><g class=\"a4 i1 leaf node n2 p0 sample\" transform=\"translate(14.2333 12.4196)\"><path class=\"edge\" d=\"M 0 0 V -12.4196 H -14.2333\"/><rect class=\"sym\" height=\"6\" width=\"6\" x=\"-3\" y=\"-3\"/><text class=\"lab\" transform=\"translate(0 11)\">2</text></g><path class=\"edge\" d=\"M 0 0 V -66.2531 H 21.35\"/><circle class=\"sym\" cx=\"0\" cy=\"0\" r=\"3\"/><text class=\"lab lft\" transform=\"translate(-3 -7.0)\">4</text></g><path class=\"edge\" d=\"M 0 0 V -100.988 H 24.9083\"/><circle class=\"sym\" cx=\"0\" cy=\"0\" r=\"3\"/><text class=\"lab lft\" transform=\"translate(-3 -7.0)\">7</text></g><circle class=\"sym\" cx=\"0\" cy=\"0\" r=\"3\"/><text class=\"lab\" transform=\"translate(0 -11)\">10</text></g></g></g><g class=\"tree t2\" transform=\"translate(364.533 0)\"><g class=\"plotbox\"><g class=\"c2 node n11 p0 root\" transform=\"translate(94.725 26.8)\"><g class=\"a11 i1 leaf node n3 p0 sample\" transform=\"translate(24.9083 294.6)\"><path class=\"edge\" d=\"M 0 0 V -294.6 H -24.9083\"/><rect class=\"sym\" height=\"6\" width=\"6\" x=\"-3\" y=\"-3\"/><text class=\"lab\" transform=\"translate(0 11)\">3</text></g><g class=\"a11 c2 node n7 p0\" transform=\"translate(-24.9083 215.927)\"><g class=\"a7 i0 leaf node n1 p0 sample\" transform=\"translate(21.35 78.6727)\"><path class=\"edge\" d=\"M 0 0 V -78.6727 H -21.35\"/><rect class=\"sym\" height=\"6\" width=\"6\" x=\"-3\" y=\"-3\"/><text class=\"lab\" transform=\"translate(0 11)\">1</text></g><g class=\"a7 c2 node n4 p0\" transform=\"translate(-21.35 66.2531)\"><g class=\"a4 i0 leaf node n0 p0 sample\" transform=\"translate(-14.2333 12.4196)\"><path class=\"edge\" d=\"M 0 0 V -12.4196 H 14.2333\"/><rect class=\"sym\" height=\"6\" width=\"6\" x=\"-3\" y=\"-3\"/><text class=\"lab\" transform=\"translate(0 11)\">0</text></g><g class=\"a4 i1 leaf node n2 p0 sample\" transform=\"translate(14.2333 12.4196)\"><path class=\"edge\" d=\"M 0 0 V -12.4196 H -14.2333\"/><rect class=\"sym\" height=\"6\" width=\"6\" x=\"-3\" y=\"-3\"/><text class=\"lab\" transform=\"translate(0 11)\">2</text></g><path class=\"edge\" d=\"M 0 0 V -66.2531 H 21.35\"/><circle class=\"sym\" cx=\"0\" cy=\"0\" r=\"3\"/><text class=\"lab lft\" transform=\"translate(-3 -7.0)\">4</text></g><path class=\"edge\" d=\"M 0 0 V -215.927 H 24.9083\"/><circle class=\"sym\" cx=\"0\" cy=\"0\" r=\"3\"/><text class=\"lab lft\" transform=\"translate(-3 -7.0)\">7</text></g><circle class=\"sym\" cx=\"0\" cy=\"0\" r=\"3\"/><text class=\"lab\" transform=\"translate(0 -11)\">11</text></g></g></g><g class=\"tree t3\" transform=\"translate(518.4 0)\"><g class=\"plotbox\"><g class=\"c2 node n11 p0 root\" transform=\"translate(76.9333 26.8)\"><g class=\"a11 c2 node n4 p0\" transform=\"translate(-28.4667 282.18)\"><g class=\"a4 i0 leaf node n0 p0 sample\" transform=\"translate(-14.2333 12.4196)\"><path class=\"edge\" d=\"M 0 0 V -12.4196 H 14.2333\"/><rect class=\"sym\" height=\"6\" width=\"6\" x=\"-3\" y=\"-3\"/><text class=\"lab\" transform=\"translate(0 11)\">0</text></g><g class=\"a4 i1 leaf node n2 p0 sample\" transform=\"translate(14.2333 12.4196)\"><path class=\"edge\" d=\"M 0 0 V -12.4196 H -14.2333\"/><rect class=\"sym\" height=\"6\" width=\"6\" x=\"-3\" y=\"-3\"/><text class=\"lab\" transform=\"translate(0 11)\">2</text></g><path class=\"edge\" d=\"M 0 0 V -282.18 H 28.4667\"/><circle class=\"sym\" cx=\"0\" cy=\"0\" r=\"3\"/><text class=\"lab lft\" transform=\"translate(-3 -7.0)\">4</text></g><g class=\"a11 c2 node n5 p0\" transform=\"translate(28.4667 251.381)\"><g class=\"a5 i0 leaf node n1 p0 sample\" transform=\"translate(-14.2333 43.2194)\"><path class=\"edge\" d=\"M 0 0 V -43.2194 H 14.2333\"/><rect class=\"sym\" height=\"6\" width=\"6\" x=\"-3\" y=\"-3\"/><text class=\"lab\" transform=\"translate(0 11)\">1</text></g><g class=\"a5 i1 leaf node n3 p0 sample\" transform=\"translate(14.2333 43.2194)\"><path class=\"edge\" d=\"M 0 0 V -43.2194 H -14.2333\"/><rect class=\"sym\" height=\"6\" width=\"6\" x=\"-3\" y=\"-3\"/><text class=\"lab\" transform=\"translate(0 11)\">3</text></g><path class=\"edge\" d=\"M 0 0 V -251.381 H -28.4667\"/><circle class=\"sym\" cx=\"0\" cy=\"0\" r=\"3\"/><text class=\"lab rgt\" transform=\"translate(3 -7.0)\">5</text></g><circle class=\"sym\" cx=\"0\" cy=\"0\" r=\"3\"/><text class=\"lab\" transform=\"translate(0 -11)\">11</text></g></g></g><g class=\"tree t4\" transform=\"translate(672.267 0)\"><g class=\"plotbox\"><g class=\"c2 node n11 p0 root\" transform=\"translate(76.9333 26.8)\"><g class=\"a11 c2 node n5 p0\" transform=\"translate(28.4667 251.381)\"><g class=\"a5 i0 leaf node n1 p0 sample\" transform=\"translate(-14.2333 43.2194)\"><path class=\"edge\" d=\"M 0 0 V -43.2194 H 14.2333\"/><rect class=\"sym\" height=\"6\" width=\"6\" x=\"-3\" y=\"-3\"/><text class=\"lab\" transform=\"translate(0 11)\">1</text></g><g class=\"a5 i1 leaf node n3 p0 sample\" transform=\"translate(14.2333 43.2194)\"><path class=\"edge\" d=\"M 0 0 V -43.2194 H -14.2333\"/><rect class=\"sym\" height=\"6\" width=\"6\" x=\"-3\" y=\"-3\"/><text class=\"lab\" transform=\"translate(0 11)\">3</text></g><path class=\"edge\" d=\"M 0 0 V -251.381 H -28.4667\"/><circle class=\"sym\" cx=\"0\" cy=\"0\" r=\"3\"/><text class=\"lab rgt\" transform=\"translate(3 -7.0)\">5</text></g><g class=\"a11 c2 node n6 p0\" transform=\"translate(-28.4667 245.949)\"><g class=\"a6 i0 leaf node n0 p0 sample\" transform=\"translate(-14.2333 48.6514)\"><path class=\"edge\" d=\"M 0 0 V -48.6514 H 14.2333\"/><rect class=\"sym\" height=\"6\" width=\"6\" x=\"-3\" y=\"-3\"/><text class=\"lab\" transform=\"translate(0 11)\">0</text></g><g class=\"a6 i1 leaf node n2 p0 sample\" transform=\"translate(14.2333 48.6514)\"><path class=\"edge\" d=\"M 0 0 V -48.6514 H -14.2333\"/><rect class=\"sym\" height=\"6\" width=\"6\" x=\"-3\" y=\"-3\"/><text class=\"lab\" transform=\"translate(0 11)\">2</text></g><path class=\"edge\" d=\"M 0 0 V -245.949 H 28.4667\"/><circle class=\"sym\" cx=\"0\" cy=\"0\" r=\"3\"/><text class=\"lab lft\" transform=\"translate(-3 -7.0)\">6</text></g><circle class=\"sym\" cx=\"0\" cy=\"0\" r=\"3\"/><text class=\"lab\" transform=\"translate(0 -11)\">11</text></g></g></g><g class=\"tree t5\" transform=\"translate(826.133 0)\"><g class=\"plotbox\"><g class=\"c2 node n8 p0 root\" transform=\"translate(76.9333 221.191)\"><g class=\"a8 c2 node n5 p0\" transform=\"translate(28.4667 56.9898)\"><g class=\"a5 i0 leaf node n1 p0 sample\" transform=\"translate(-14.2333 43.2194)\"><path class=\"edge\" d=\"M 0 0 V -43.2194 H 14.2333\"/><rect class=\"sym\" height=\"6\" width=\"6\" x=\"-3\" y=\"-3\"/><text class=\"lab\" transform=\"translate(0 11)\">1</text></g><g class=\"a5 i1 leaf node n3 p0 sample\" transform=\"translate(14.2333 43.2194)\"><path class=\"edge\" d=\"M 0 0 V -43.2194 H -14.2333\"/><rect class=\"sym\" height=\"6\" width=\"6\" x=\"-3\" y=\"-3\"/><text class=\"lab\" transform=\"translate(0 11)\">3</text></g><path class=\"edge\" d=\"M 0 0 V -56.9898 H -28.4667\"/><circle class=\"sym\" cx=\"0\" cy=\"0\" r=\"3\"/><text class=\"lab rgt\" transform=\"translate(3 -7.0)\">5</text></g><g class=\"a8 c2 node n6 p0\" transform=\"translate(-28.4667 51.5579)\"><g class=\"a6 i0 leaf node n0 p0 sample\" transform=\"translate(-14.2333 48.6514)\"><path class=\"edge\" d=\"M 0 0 V -48.6514 H 14.2333\"/><rect class=\"sym\" height=\"6\" width=\"6\" x=\"-3\" y=\"-3\"/><text class=\"lab\" transform=\"translate(0 11)\">0</text></g><g class=\"a6 i1 leaf node n2 p0 sample\" transform=\"translate(14.2333 48.6514)\"><path class=\"edge\" d=\"M 0 0 V -48.6514 H -14.2333\"/><rect class=\"sym\" height=\"6\" width=\"6\" x=\"-3\" y=\"-3\"/><text class=\"lab\" transform=\"translate(0 11)\">2</text></g><path class=\"edge\" d=\"M 0 0 V -51.5579 H 28.4667\"/><circle class=\"sym\" cx=\"0\" cy=\"0\" r=\"3\"/><text class=\"lab lft\" transform=\"translate(-3 -7.0)\">6</text></g><circle class=\"sym\" cx=\"0\" cy=\"0\" r=\"3\"/><text class=\"lab\" transform=\"translate(0 -11)\">8</text></g></g></g></g></g></svg>"
      ],
      "text/plain": [
       "<IPython.core.display.SVG object>"
      ]
     },
     "execution_count": 37,
     "metadata": {},
     "output_type": "execute_result"
    }
   ],
   "source": [
    "rate_map = msprime.RateMap(position=[0, 120, 860, 1000], rate=[0.001, 0.0001, 0.002])\n",
    "ts = msprime.sim_ancestry(2, recombination_rate = rate_map, sequence_length = 1000, random_seed = 12045)\n",
    "SVG(ts.draw_svg(size=(1000,400), y_axis = True, y_ticks=[0,2,4]))"
   ]
  },
  {
   "cell_type": "markdown",
   "id": "d0feb948",
   "metadata": {},
   "source": [
    "The above commands should allow you to simulate a variety of genealogies. Now let's add some additional complexity: mutations."
   ]
  },
  {
   "cell_type": "markdown",
   "id": "baeb8b30",
   "metadata": {},
   "source": [
    "# Mutation Simulation"
   ]
  },
  {
   "cell_type": "markdown",
   "id": "7d53ea7f",
   "metadata": {},
   "source": [
    "We can apply mutations to an ancestry object using the .sim_mutations() function. There are a couple of potential arguments but let's start with the 1) ancestry object and a 2) the mutation rate. Note that we've also added a sequence length argument to our ancestry simulation."
   ]
  },
  {
   "cell_type": "code",
   "execution_count": 38,
   "id": "767fa771",
   "metadata": {
    "scrolled": false
   },
   "outputs": [
    {
     "data": {
      "image/svg+xml": [
       "<svg xmlns=\"http://www.w3.org/2000/svg\" xmlns:ev=\"http://www.w3.org/2001/xml-events\" xmlns:xlink=\"http://www.w3.org/1999/xlink\" baseProfile=\"full\" height=\"400\" version=\"1.1\" width=\"600\"><defs><style type=\"text/css\"><![CDATA[.background path {fill: #808080; fill-opacity: 0}.background path:nth-child(odd) {fill-opacity: .1}.axes {font-size: 14px}.x-axis .tick .lab {font-weight: bold; dominant-baseline: hanging}.axes, .tree {font-size: 14px; text-anchor: middle}.axes line, .edge {stroke: black; fill: none}.y-axis .grid {stroke: #FAFAFA}.node > .sym {fill: black; stroke: none}.site > .sym {stroke: black}.mut text {fill: red; font-style: italic}.mut.extra text {fill: hotpink}.mut line {fill: none; stroke: none}.mut .sym {fill: none; stroke: red}.mut.extra .sym {stroke: hotpink}.node .mut .sym {stroke-width: 1.5px}.tree text, .tree-sequence text {dominant-baseline: central}.plotbox .lab.lft {text-anchor: end}.plotbox .lab.rgt {text-anchor: start}]]></style></defs><g class=\"tree-sequence\"><g class=\"background\"><path d=\"M56.8,0 l523.2,0 l0,338.2 l0,25 l0,5 l-523.2,0 l0,-5 l0,-25 l0,-338.2z\"/></g><g class=\"axes\"><g class=\"x-axis\"><g transform=\"translate(318.4 400)\"><text class=\"lab\" text-anchor=\"middle\" transform=\"translate(0 -11)\">Genome position</text></g><line x1=\"56.8\" x2=\"580\" y1=\"363.2\" y2=\"363.2\"/><g class=\"ticks\"><g class=\"tick\" transform=\"translate(56.8 363.2)\"><line x1=\"0\" x2=\"0\" y1=\"0\" y2=\"5\"/><g transform=\"translate(0 6)\"><text class=\"lab\">0</text></g></g><g class=\"tick\" transform=\"translate(580 363.2)\"><line x1=\"0\" x2=\"0\" y1=\"0\" y2=\"5\"/><g transform=\"translate(0 6)\"><text class=\"lab\">100</text></g></g></g><g class=\"site s0\" transform=\"translate(62.032 363.2)\"><line class=\"sym\" x1=\"0\" x2=\"0\" y1=\"0\" y2=\"-10\"/><g class=\"mut m0\"><polyline class=\"sym\" points=\"2.5,-6.5 0,-1.5 -2.5,-6.5\"/></g></g><g class=\"site s1\" transform=\"translate(103.888 363.2)\"><line class=\"sym\" x1=\"0\" x2=\"0\" y1=\"0\" y2=\"-10\"/><g class=\"mut m1\"><polyline class=\"sym\" points=\"2.5,-6.5 0,-1.5 -2.5,-6.5\"/></g></g><g class=\"site s2\" transform=\"translate(140.512 363.2)\"><line class=\"sym\" x1=\"0\" x2=\"0\" y1=\"0\" y2=\"-10\"/><g class=\"mut m2\"><polyline class=\"sym\" points=\"2.5,-6.5 0,-1.5 -2.5,-6.5\"/></g></g><g class=\"site s3\" transform=\"translate(171.904 363.2)\"><line class=\"sym\" x1=\"0\" x2=\"0\" y1=\"0\" y2=\"-10\"/><g class=\"mut m3\"><polyline class=\"sym\" points=\"2.5,-6.5 0,-1.5 -2.5,-6.5\"/></g></g><g class=\"site s4\" transform=\"translate(213.76 363.2)\"><line class=\"sym\" x1=\"0\" x2=\"0\" y1=\"0\" y2=\"-10\"/><g class=\"mut m4\"><polyline class=\"sym\" points=\"2.5,-6.5 0,-1.5 -2.5,-6.5\"/></g></g><g class=\"site s5\" transform=\"translate(250.384 363.2)\"><line class=\"sym\" x1=\"0\" x2=\"0\" y1=\"0\" y2=\"-10\"/><g class=\"mut m5\"><polyline class=\"sym\" points=\"2.5,-6.5 0,-1.5 -2.5,-6.5\"/></g></g><g class=\"site s6\" transform=\"translate(307.936 363.2)\"><line class=\"sym\" x1=\"0\" x2=\"0\" y1=\"0\" y2=\"-10\"/><g class=\"mut m6\"><polyline class=\"sym\" points=\"2.5,-6.5 0,-1.5 -2.5,-6.5\"/></g></g><g class=\"site s7\" transform=\"translate(323.632 363.2)\"><line class=\"sym\" x1=\"0\" x2=\"0\" y1=\"0\" y2=\"-10\"/><g class=\"mut m7\"><polyline class=\"sym\" points=\"2.5,-6.5 0,-1.5 -2.5,-6.5\"/></g></g><g class=\"site s8\" transform=\"translate(339.328 363.2)\"><line class=\"sym\" x1=\"0\" x2=\"0\" y1=\"0\" y2=\"-10\"/><g class=\"mut m8\"><polyline class=\"sym\" points=\"2.5,-6.5 0,-1.5 -2.5,-6.5\"/></g></g><g class=\"site s9\" transform=\"translate(365.488 363.2)\"><line class=\"sym\" x1=\"0\" x2=\"0\" y1=\"0\" y2=\"-10\"/><g class=\"mut m9\"><polyline class=\"sym\" points=\"2.5,-6.5 0,-1.5 -2.5,-6.5\"/></g></g><g class=\"site s10\" transform=\"translate(370.72 363.2)\"><line class=\"sym\" x1=\"0\" x2=\"0\" y1=\"0\" y2=\"-10\"/><g class=\"mut m10\"><polyline class=\"sym\" points=\"2.5,-6.5 0,-1.5 -2.5,-6.5\"/></g></g><g class=\"site s11\" transform=\"translate(375.952 363.2)\"><line class=\"sym\" x1=\"0\" x2=\"0\" y1=\"0\" y2=\"-10\"/><g class=\"mut m11\"><polyline class=\"sym\" points=\"2.5,-6.5 0,-1.5 -2.5,-6.5\"/></g></g><g class=\"site s12\" transform=\"translate(438.736 363.2)\"><line class=\"sym\" x1=\"0\" x2=\"0\" y1=\"0\" y2=\"-10\"/><g class=\"mut m12\"><polyline class=\"sym\" points=\"2.5,-6.5 0,-1.5 -2.5,-6.5\"/></g></g><g class=\"site s13\" transform=\"translate(459.664 363.2)\"><line class=\"sym\" x1=\"0\" x2=\"0\" y1=\"0\" y2=\"-10\"/><g class=\"mut m13\"><polyline class=\"sym\" points=\"2.5,-6.5 0,-1.5 -2.5,-6.5\"/></g></g><g class=\"site s14\" transform=\"translate(470.128 363.2)\"><line class=\"sym\" x1=\"0\" x2=\"0\" y1=\"0\" y2=\"-10\"/><g class=\"mut m14\"><polyline class=\"sym\" points=\"2.5,-6.5 0,-1.5 -2.5,-6.5\"/></g></g><g class=\"site s15\" transform=\"translate(506.752 363.2)\"><line class=\"sym\" x1=\"0\" x2=\"0\" y1=\"0\" y2=\"-10\"/><g class=\"mut m15\"><polyline class=\"sym\" points=\"2.5,-6.5 0,-1.5 -2.5,-6.5\"/></g></g><g class=\"site s16\" transform=\"translate(517.216 363.2)\"><line class=\"sym\" x1=\"0\" x2=\"0\" y1=\"0\" y2=\"-10\"/><g class=\"mut m16\"><polyline class=\"sym\" points=\"2.5,-6.5 0,-1.5 -2.5,-6.5\"/></g></g><g class=\"site s17\" transform=\"translate(527.68 363.2)\"><line class=\"sym\" x1=\"0\" x2=\"0\" y1=\"0\" y2=\"-10\"/><g class=\"mut m17\"><polyline class=\"sym\" points=\"2.5,-6.5 0,-1.5 -2.5,-6.5\"/></g></g><g class=\"site s18\" transform=\"translate(553.84 363.2)\"><line class=\"sym\" x1=\"0\" x2=\"0\" y1=\"0\" y2=\"-10\"/><g class=\"mut m18\"><polyline class=\"sym\" points=\"2.5,-6.5 0,-1.5 -2.5,-6.5\"/></g></g></g><g class=\"y-axis\"><g transform=\"translate(0 165.7)\"><text class=\"lab\" text-anchor=\"middle\" transform=\"translate(11) rotate(-90)\">Time (generations)</text></g><line x1=\"56.8\" x2=\"56.8\" y1=\"321.4\" y2=\"10\"/><g class=\"ticks\"><g class=\"tick\" transform=\"translate(56.8 321.4)\"><line x1=\"0\" x2=\"-5\" y1=\"0\" y2=\"0\"/><g transform=\"translate(-6 0)\"><text class=\"lab\" text-anchor=\"end\">0.00</text></g></g><g class=\"tick\" transform=\"translate(56.8 186.016)\"><line x1=\"0\" x2=\"-5\" y1=\"0\" y2=\"0\"/><g transform=\"translate(-6 0)\"><text class=\"lab\" text-anchor=\"end\">1.38</text></g></g><g class=\"tick\" transform=\"translate(56.8 69.6246)\"><line x1=\"0\" x2=\"-5\" y1=\"0\" y2=\"0\"/><g transform=\"translate(-6 0)\"><text class=\"lab\" text-anchor=\"end\">2.57</text></g></g><g class=\"tick\" transform=\"translate(56.8 26.8)\"><line x1=\"0\" x2=\"-5\" y1=\"0\" y2=\"0\"/><g transform=\"translate(-6 0)\"><text class=\"lab\" text-anchor=\"end\">3.01</text></g></g></g></g></g><g class=\"plotbox trees\"><g class=\"tree t0\" transform=\"translate(56.8 0)\"><g class=\"plotbox\"><g class=\"c2 node n6 p0 root\" transform=\"translate(306.9 26.8)\"><g class=\"a6 i1 leaf m10 m11 m16 m17 m7 node n2 p0 s10 s11 s16 s17 s7 sample\" transform=\"translate(135.9 294.6)\"><path class=\"edge\" d=\"M 0 0 V -294.6 H -135.9\"/><g class=\"mut m11 s11\" transform=\"translate(0 -275.943)\"><line x1=\"0\" x2=\"0\" y1=\"0\" y2=\"275.943\"/><path class=\"sym\" d=\"M -3,-3 l 6,6 M -3,3 l 6,-6\"/><text class=\"lab rgt\" transform=\"translate(5 0)\">11</text></g><g class=\"mut m7 s7\" transform=\"translate(0 -252.305)\"><line x1=\"0\" x2=\"0\" y1=\"0\" y2=\"252.305\"/><path class=\"sym\" d=\"M -3,-3 l 6,6 M -3,3 l 6,-6\"/><text class=\"lab rgt\" transform=\"translate(5 0)\">7</text></g><g class=\"mut m10 s10\" transform=\"translate(0 -233.485)\"><line x1=\"0\" x2=\"0\" y1=\"0\" y2=\"233.485\"/><path class=\"sym\" d=\"M -3,-3 l 6,6 M -3,3 l 6,-6\"/><text class=\"lab rgt\" transform=\"translate(5 0)\">10</text></g><g class=\"mut m16 s16\" transform=\"translate(0 -224.664)\"><line x1=\"0\" x2=\"0\" y1=\"0\" y2=\"224.664\"/><path class=\"sym\" d=\"M -3,-3 l 6,6 M -3,3 l 6,-6\"/><text class=\"lab rgt\" transform=\"translate(5 0)\">16</text></g><g class=\"mut m17 s17\" transform=\"translate(0 -1.70179)\"><line x1=\"0\" x2=\"0\" y1=\"0\" y2=\"1.70179\"/><path class=\"sym\" d=\"M -3,-3 l 6,6 M -3,3 l 6,-6\"/><text class=\"lab rgt\" transform=\"translate(5 0)\">17</text></g><rect class=\"sym\" height=\"6\" width=\"6\" x=\"-3\" y=\"-3\"/><text class=\"lab\" transform=\"translate(0 11)\">2</text></g><g class=\"a6 c2 m14 m9 node n5 p0 s14 s9\" transform=\"translate(-135.9 42.8246)\"><g class=\"a5 i0 leaf m18 m2 m3 node n0 p0 s18 s2 s3 sample\" transform=\"translate(-90.6 251.775)\"><path class=\"edge\" d=\"M 0 0 V -251.775 H 90.6\"/><g class=\"mut m18 s18\" transform=\"translate(0 -102.354)\"><line x1=\"0\" x2=\"0\" y1=\"0\" y2=\"102.354\"/><path class=\"sym\" d=\"M -3,-3 l 6,6 M -3,3 l 6,-6\"/><text class=\"lab lft\" transform=\"translate(-5 0)\">18</text></g><g class=\"mut m3 s3\" transform=\"translate(0 -72.7231)\"><line x1=\"0\" x2=\"0\" y1=\"0\" y2=\"72.7231\"/><path class=\"sym\" d=\"M -3,-3 l 6,6 M -3,3 l 6,-6\"/><text class=\"lab lft\" transform=\"translate(-5 0)\">3</text></g><g class=\"mut m2 s2\" transform=\"translate(0 -8.72132)\"><line x1=\"0\" x2=\"0\" y1=\"0\" y2=\"8.72132\"/><path class=\"sym\" d=\"M -3,-3 l 6,6 M -3,3 l 6,-6\"/><text class=\"lab lft\" transform=\"translate(-5 0)\">2</text></g><rect class=\"sym\" height=\"6\" width=\"6\" x=\"-3\" y=\"-3\"/><text class=\"lab\" transform=\"translate(0 11)\">0</text></g><g class=\"a5 c2 m15 m5 m8 node n4 p0 s15 s5 s8\" transform=\"translate(90.6 116.391)\"><g class=\"a4 i0 leaf m0 m1 m12 m4 node n1 p0 s0 s1 s12 s4 sample\" transform=\"translate(-60.4 135.384)\"><path class=\"edge\" d=\"M 0 0 V -135.384 H 60.4\"/><g class=\"mut m0 s0\" transform=\"translate(0 -108.275)\"><line x1=\"0\" x2=\"0\" y1=\"0\" y2=\"108.275\"/><path class=\"sym\" d=\"M -3,-3 l 6,6 M -3,3 l 6,-6\"/><text class=\"lab lft\" transform=\"translate(-5 0)\">0</text></g><g class=\"mut m12 s12\" transform=\"translate(0 -102.919)\"><line x1=\"0\" x2=\"0\" y1=\"0\" y2=\"102.919\"/><path class=\"sym\" d=\"M -3,-3 l 6,6 M -3,3 l 6,-6\"/><text class=\"lab lft\" transform=\"translate(-5 0)\">12</text></g><g class=\"mut m4 s4\" transform=\"translate(0 -93.6004)\"><line x1=\"0\" x2=\"0\" y1=\"0\" y2=\"93.6004\"/><path class=\"sym\" d=\"M -3,-3 l 6,6 M -3,3 l 6,-6\"/><text class=\"lab lft\" transform=\"translate(-5 0)\">4</text></g><g class=\"mut m1 s1\" transform=\"translate(0 -92.4762)\"><line x1=\"0\" x2=\"0\" y1=\"0\" y2=\"92.4762\"/><path class=\"sym\" d=\"M -3,-3 l 6,6 M -3,3 l 6,-6\"/><text class=\"lab lft\" transform=\"translate(-5 0)\">1</text></g><rect class=\"sym\" height=\"6\" width=\"6\" x=\"-3\" y=\"-3\"/><text class=\"lab\" transform=\"translate(0 11)\">1</text></g><g class=\"a4 i1 leaf m13 m6 node n3 p0 s13 s6 sample\" transform=\"translate(60.4 135.384)\"><path class=\"edge\" d=\"M 0 0 V -135.384 H -60.4\"/><g class=\"mut m13 s13\" transform=\"translate(0 -101.049)\"><line x1=\"0\" x2=\"0\" y1=\"0\" y2=\"101.049\"/><path class=\"sym\" d=\"M -3,-3 l 6,6 M -3,3 l 6,-6\"/><text class=\"lab rgt\" transform=\"translate(5 0)\">13</text></g><g class=\"mut m6 s6\" transform=\"translate(0 -89.8424)\"><line x1=\"0\" x2=\"0\" y1=\"0\" y2=\"89.8424\"/><path class=\"sym\" d=\"M -3,-3 l 6,6 M -3,3 l 6,-6\"/><text class=\"lab rgt\" transform=\"translate(5 0)\">6</text></g><rect class=\"sym\" height=\"6\" width=\"6\" x=\"-3\" y=\"-3\"/><text class=\"lab\" transform=\"translate(0 11)\">3</text></g><path class=\"edge\" d=\"M 0 0 V -116.391 H -90.6\"/><g class=\"mut m5 s5\" transform=\"translate(0 -81.9167)\"><line x1=\"0\" x2=\"0\" y1=\"0\" y2=\"81.9167\"/><path class=\"sym\" d=\"M -3,-3 l 6,6 M -3,3 l 6,-6\"/><text class=\"lab rgt\" transform=\"translate(5 0)\">5</text></g><g class=\"mut m8 s8\" transform=\"translate(0 -54.9381)\"><line x1=\"0\" x2=\"0\" y1=\"0\" y2=\"54.9381\"/><path class=\"sym\" d=\"M -3,-3 l 6,6 M -3,3 l 6,-6\"/><text class=\"lab rgt\" transform=\"translate(5 0)\">8</text></g><g class=\"mut m15 s15\" transform=\"translate(0 -11.7495)\"><line x1=\"0\" x2=\"0\" y1=\"0\" y2=\"11.7495\"/><path class=\"sym\" d=\"M -3,-3 l 6,6 M -3,3 l 6,-6\"/><text class=\"lab rgt\" transform=\"translate(5 0)\">15</text></g><circle class=\"sym\" cx=\"0\" cy=\"0\" r=\"3\"/><text class=\"lab rgt\" transform=\"translate(3 -7.0)\">4</text></g><path class=\"edge\" d=\"M 0 0 V -42.8246 H 135.9\"/><g class=\"mut m9 s9\" transform=\"translate(0 -28.7436)\"><line x1=\"0\" x2=\"0\" y1=\"0\" y2=\"28.7436\"/><path class=\"sym\" d=\"M -3,-3 l 6,6 M -3,3 l 6,-6\"/><text class=\"lab lft\" transform=\"translate(-5 0)\">9</text></g><g class=\"mut m14 s14\" transform=\"translate(0 -26.0516)\"><line x1=\"0\" x2=\"0\" y1=\"0\" y2=\"26.0516\"/><path class=\"sym\" d=\"M -3,-3 l 6,6 M -3,3 l 6,-6\"/><text class=\"lab lft\" transform=\"translate(-5 0)\">14</text></g><circle class=\"sym\" cx=\"0\" cy=\"0\" r=\"3\"/><text class=\"lab lft\" transform=\"translate(-3 -7.0)\">5</text></g><circle class=\"sym\" cx=\"0\" cy=\"0\" r=\"3\"/><text class=\"lab\" transform=\"translate(0 -11)\">6</text></g></g></g></g></g></svg>"
      ],
      "text/plain": [
       "<IPython.core.display.SVG object>"
      ]
     },
     "execution_count": 38,
     "metadata": {},
     "output_type": "execute_result"
    }
   ],
   "source": [
    "ts = msprime.sim_ancestry(2, sequence_length = 100, random_seed = 56)\n",
    "mts = msprime.sim_mutations(ts, rate=0.01, random_seed = 325)\n",
    "SVG(mts.draw_svg(size=(600,400), y_axis = True))"
   ]
  },
  {
   "cell_type": "markdown",
   "id": "d5eef5b2",
   "metadata": {},
   "source": [
    "Now let's vary the mutation rate along the sequence. We will add a rate map just like we did for recombination."
   ]
  },
  {
   "cell_type": "code",
   "execution_count": 39,
   "id": "efc8aa6b",
   "metadata": {
    "scrolled": true
   },
   "outputs": [
    {
     "data": {
      "image/svg+xml": [
       "<svg xmlns=\"http://www.w3.org/2000/svg\" xmlns:ev=\"http://www.w3.org/2001/xml-events\" xmlns:xlink=\"http://www.w3.org/1999/xlink\" baseProfile=\"full\" height=\"400\" version=\"1.1\" width=\"600\"><defs><style type=\"text/css\"><![CDATA[.background path {fill: #808080; fill-opacity: 0}.background path:nth-child(odd) {fill-opacity: .1}.axes {font-size: 14px}.x-axis .tick .lab {font-weight: bold; dominant-baseline: hanging}.axes, .tree {font-size: 14px; text-anchor: middle}.axes line, .edge {stroke: black; fill: none}.y-axis .grid {stroke: #FAFAFA}.node > .sym {fill: black; stroke: none}.site > .sym {stroke: black}.mut text {fill: red; font-style: italic}.mut.extra text {fill: hotpink}.mut line {fill: none; stroke: none}.mut .sym {fill: none; stroke: red}.mut.extra .sym {stroke: hotpink}.node .mut .sym {stroke-width: 1.5px}.tree text, .tree-sequence text {dominant-baseline: central}.plotbox .lab.lft {text-anchor: end}.plotbox .lab.rgt {text-anchor: start}]]></style></defs><g class=\"tree-sequence\"><g class=\"background\"><path d=\"M56.8,0 l523.2,0 l0,338.2 l0,25 l0,5 l-523.2,0 l0,-5 l0,-25 l0,-338.2z\"/></g><g class=\"axes\"><g class=\"x-axis\"><g transform=\"translate(318.4 400)\"><text class=\"lab\" text-anchor=\"middle\" transform=\"translate(0 -11)\">Genome position</text></g><line x1=\"56.8\" x2=\"580\" y1=\"363.2\" y2=\"363.2\"/><g class=\"ticks\"><g class=\"tick\" transform=\"translate(56.8 363.2)\"><line x1=\"0\" x2=\"0\" y1=\"0\" y2=\"5\"/><g transform=\"translate(0 6)\"><text class=\"lab\">0</text></g></g><g class=\"tick\" transform=\"translate(580 363.2)\"><line x1=\"0\" x2=\"0\" y1=\"0\" y2=\"5\"/><g transform=\"translate(0 6)\"><text class=\"lab\">100</text></g></g></g><g class=\"site s0\" transform=\"translate(114.352 363.2)\"><line class=\"sym\" x1=\"0\" x2=\"0\" y1=\"0\" y2=\"-10\"/><g class=\"mut m0\"><polyline class=\"sym\" points=\"2.5,-6.5 0,-1.5 -2.5,-6.5\"/></g></g><g class=\"site s1\" transform=\"translate(135.28 363.2)\"><line class=\"sym\" x1=\"0\" x2=\"0\" y1=\"0\" y2=\"-10\"/><g class=\"mut m1\"><polyline class=\"sym\" points=\"2.5,-6.5 0,-1.5 -2.5,-6.5\"/></g></g><g class=\"site s2\" transform=\"translate(140.512 363.2)\"><line class=\"sym\" x1=\"0\" x2=\"0\" y1=\"0\" y2=\"-10\"/><g class=\"mut m2\"><polyline class=\"sym\" points=\"2.5,-6.5 0,-1.5 -2.5,-6.5\"/></g></g><g class=\"site s3\" transform=\"translate(182.368 363.2)\"><line class=\"sym\" x1=\"0\" x2=\"0\" y1=\"0\" y2=\"-10\"/><g class=\"mut m3\"><polyline class=\"sym\" points=\"2.5,-6.5 0,-1.5 -2.5,-6.5\"/></g></g><g class=\"site s4\" transform=\"translate(449.2 363.2)\"><line class=\"sym\" x1=\"0\" x2=\"0\" y1=\"0\" y2=\"-10\"/><g class=\"mut m4\"><polyline class=\"sym\" points=\"2.5,-6.5 0,-1.5 -2.5,-6.5\"/></g></g><g class=\"site s5\" transform=\"translate(485.824 363.2)\"><line class=\"sym\" x1=\"0\" x2=\"0\" y1=\"0\" y2=\"-10\"/><g class=\"mut m5\"><polyline class=\"sym\" points=\"2.5,-6.5 0,-1.5 -2.5,-6.5\"/></g></g><g class=\"site s6\" transform=\"translate(527.68 363.2)\"><line class=\"sym\" x1=\"0\" x2=\"0\" y1=\"0\" y2=\"-10\"/><g class=\"mut m6\"><polyline class=\"sym\" points=\"2.5,-6.5 0,-1.5 -2.5,-6.5\"/></g></g><g class=\"site s7\" transform=\"translate(543.376 363.2)\"><line class=\"sym\" x1=\"0\" x2=\"0\" y1=\"0\" y2=\"-10\"/><g class=\"mut m7\"><polyline class=\"sym\" points=\"2.5,-6.5 0,-1.5 -2.5,-6.5\"/></g></g><g class=\"site s8\" transform=\"translate(559.072 363.2)\"><line class=\"sym\" x1=\"0\" x2=\"0\" y1=\"0\" y2=\"-10\"/><g class=\"mut m9\"><polyline class=\"sym\" points=\"2.5,-6.5 0,-1.5 -2.5,-6.5\"/></g><g class=\"mut m8\"><polyline class=\"sym\" points=\"2.5,-10.5 0,-5.5 -2.5,-10.5\"/></g></g></g><g class=\"y-axis\"><g transform=\"translate(0 165.7)\"><text class=\"lab\" text-anchor=\"middle\" transform=\"translate(11) rotate(-90)\">Time (generations)</text></g><line x1=\"56.8\" x2=\"56.8\" y1=\"321.4\" y2=\"10\"/><g class=\"ticks\"><g class=\"tick\" transform=\"translate(56.8 321.4)\"><line x1=\"0\" x2=\"-5\" y1=\"0\" y2=\"0\"/><g transform=\"translate(-6 0)\"><text class=\"lab\" text-anchor=\"end\">0.00</text></g></g><g class=\"tick\" transform=\"translate(56.8 302.584)\"><line x1=\"0\" x2=\"-5\" y1=\"0\" y2=\"0\"/><g transform=\"translate(-6 0)\"><text class=\"lab\" text-anchor=\"end\">0.08</text></g></g><g class=\"tick\" transform=\"translate(56.8 244.023)\"><line x1=\"0\" x2=\"-5\" y1=\"0\" y2=\"0\"/><g transform=\"translate(-6 0)\"><text class=\"lab\" text-anchor=\"end\">0.32</text></g></g><g class=\"tick\" transform=\"translate(56.8 196.75)\"><line x1=\"0\" x2=\"-5\" y1=\"0\" y2=\"0\"/><g transform=\"translate(-6 0)\"><text class=\"lab\" text-anchor=\"end\">0.52</text></g></g><g class=\"tick\" transform=\"translate(56.8 56.5423)\"><line x1=\"0\" x2=\"-5\" y1=\"0\" y2=\"0\"/><g transform=\"translate(-6 0)\"><text class=\"lab\" text-anchor=\"end\">1.09</text></g></g><g class=\"tick\" transform=\"translate(56.8 26.8)\"><line x1=\"0\" x2=\"-5\" y1=\"0\" y2=\"0\"/><g transform=\"translate(-6 0)\"><text class=\"lab\" text-anchor=\"end\">1.22</text></g></g></g></g></g><g class=\"plotbox trees\"><g class=\"tree t0\" transform=\"translate(56.8 0)\"><g class=\"plotbox\"><g class=\"c2 node n10 p0 root\" transform=\"translate(206.233 26.8)\"><g class=\"a10 c2 m0 m1 m4 m7 m8 node n8 p0 s0 s1 s4 s7 s8\" transform=\"translate(105.7 169.95)\"><g class=\"a8 i0 leaf m9 node n1 p0 s8 sample\" transform=\"translate(-90.6 124.65)\"><path class=\"edge\" d=\"M 0 0 V -124.65 H 90.6\"/><g class=\"mut m9 s8\" transform=\"translate(0 -43.6756)\"><line x1=\"0\" x2=\"0\" y1=\"0\" y2=\"43.6756\"/><path class=\"sym\" d=\"M -3,-3 l 6,6 M -3,3 l 6,-6\"/><text class=\"lab lft\" transform=\"translate(-5 0)\">9</text></g><rect class=\"sym\" height=\"6\" width=\"6\" x=\"-3\" y=\"-3\"/><text class=\"lab\" transform=\"translate(0 11)\">1</text></g><g class=\"a8 c2 node n7 p0\" transform=\"translate(90.6 47.2734)\"><g class=\"a7 i1 leaf node n3 p0 sample\" transform=\"translate(60.4 77.3768)\"><path class=\"edge\" d=\"M 0 0 V -77.3768 H -60.4\"/><rect class=\"sym\" height=\"6\" width=\"6\" x=\"-3\" y=\"-3\"/><text class=\"lab\" transform=\"translate(0 11)\">3</text></g><g class=\"a7 c2 m5 node n6 p0 s5\" transform=\"translate(-60.4 58.5611)\"><g class=\"a6 i1 leaf node n2 p0 sample\" transform=\"translate(-40.2667 18.8158)\"><path class=\"edge\" d=\"M 0 0 V -18.8158 H 40.2667\"/><rect class=\"sym\" height=\"6\" width=\"6\" x=\"-3\" y=\"-3\"/><text class=\"lab\" transform=\"translate(0 11)\">2</text></g><g class=\"a6 i2 leaf node n4 p0 sample\" transform=\"translate(40.2667 18.8158)\"><path class=\"edge\" d=\"M 0 0 V -18.8158 H -40.2667\"/><rect class=\"sym\" height=\"6\" width=\"6\" x=\"-3\" y=\"-3\"/><text class=\"lab\" transform=\"translate(0 11)\">4</text></g><path class=\"edge\" d=\"M 0 0 V -58.5611 H 60.4\"/><g class=\"mut m5 s5\" transform=\"translate(0 -38.4523)\"><line x1=\"0\" x2=\"0\" y1=\"0\" y2=\"38.4523\"/><path class=\"sym\" d=\"M -3,-3 l 6,6 M -3,3 l 6,-6\"/><text class=\"lab lft\" transform=\"translate(-5 0)\">5</text></g><circle class=\"sym\" cx=\"0\" cy=\"0\" r=\"3\"/><text class=\"lab lft\" transform=\"translate(-3 -7.0)\">6</text></g><path class=\"edge\" d=\"M 0 0 V -47.2734 H -90.6\"/><circle class=\"sym\" cx=\"0\" cy=\"0\" r=\"3\"/><text class=\"lab rgt\" transform=\"translate(3 -7.0)\">7</text></g><path class=\"edge\" d=\"M 0 0 V -169.95 H -105.7\"/><g class=\"mut m0 s0\" transform=\"translate(0 -92.4438)\"><line x1=\"0\" x2=\"0\" y1=\"0\" y2=\"92.4438\"/><path class=\"sym\" d=\"M -3,-3 l 6,6 M -3,3 l 6,-6\"/><text class=\"lab rgt\" transform=\"translate(5 0)\">0</text></g><g class=\"mut m8 s8\" transform=\"translate(0 -65.017)\"><line x1=\"0\" x2=\"0\" y1=\"0\" y2=\"65.017\"/><path class=\"sym\" d=\"M -3,-3 l 6,6 M -3,3 l 6,-6\"/><text class=\"lab rgt\" transform=\"translate(5 0)\">8</text></g><g class=\"mut m4 s4\" transform=\"translate(0 -58.8511)\"><line x1=\"0\" x2=\"0\" y1=\"0\" y2=\"58.8511\"/><path class=\"sym\" d=\"M -3,-3 l 6,6 M -3,3 l 6,-6\"/><text class=\"lab rgt\" transform=\"translate(5 0)\">4</text></g><g class=\"mut m7 s7\" transform=\"translate(0 -8.70279)\"><line x1=\"0\" x2=\"0\" y1=\"0\" y2=\"8.70279\"/><path class=\"sym\" d=\"M -3,-3 l 6,6 M -3,3 l 6,-6\"/><text class=\"lab rgt\" transform=\"translate(5 0)\">7</text></g><g class=\"mut m1 s1\" transform=\"translate(0 -1.47338)\"><line x1=\"0\" x2=\"0\" y1=\"0\" y2=\"1.47338\"/><path class=\"sym\" d=\"M -3,-3 l 6,6 M -3,3 l 6,-6\"/><text class=\"lab rgt\" transform=\"translate(5 0)\">1</text></g><circle class=\"sym\" cx=\"0\" cy=\"0\" r=\"3\"/><text class=\"lab rgt\" transform=\"translate(3 -7.0)\">8</text></g><g class=\"a10 c2 node n9 p0\" transform=\"translate(-105.7 29.7423)\"><g class=\"a9 i0 leaf m2 m3 node n0 p0 s2 s3 sample\" transform=\"translate(-40.2667 264.858)\"><path class=\"edge\" d=\"M 0 0 V -264.858 H 40.2667\"/><g class=\"mut m2 s2\" transform=\"translate(0 -93.3759)\"><line x1=\"0\" x2=\"0\" y1=\"0\" y2=\"93.3759\"/><path class=\"sym\" d=\"M -3,-3 l 6,6 M -3,3 l 6,-6\"/><text class=\"lab lft\" transform=\"translate(-5 0)\">2</text></g><g class=\"mut m3 s3\" transform=\"translate(0 -11.9875)\"><line x1=\"0\" x2=\"0\" y1=\"0\" y2=\"11.9875\"/><path class=\"sym\" d=\"M -3,-3 l 6,6 M -3,3 l 6,-6\"/><text class=\"lab lft\" transform=\"translate(-5 0)\">3</text></g><rect class=\"sym\" height=\"6\" width=\"6\" x=\"-3\" y=\"-3\"/><text class=\"lab\" transform=\"translate(0 11)\">0</text></g><g class=\"a9 i2 leaf m6 node n5 p0 s6 sample\" transform=\"translate(40.2667 264.858)\"><path class=\"edge\" d=\"M 0 0 V -264.858 H -40.2667\"/><g class=\"mut m6 s6\" transform=\"translate(0 -43.2453)\"><line x1=\"0\" x2=\"0\" y1=\"0\" y2=\"43.2453\"/><path class=\"sym\" d=\"M -3,-3 l 6,6 M -3,3 l 6,-6\"/><text class=\"lab rgt\" transform=\"translate(5 0)\">6</text></g><rect class=\"sym\" height=\"6\" width=\"6\" x=\"-3\" y=\"-3\"/><text class=\"lab\" transform=\"translate(0 11)\">5</text></g><path class=\"edge\" d=\"M 0 0 V -29.7423 H 105.7\"/><circle class=\"sym\" cx=\"0\" cy=\"0\" r=\"3\"/><text class=\"lab lft\" transform=\"translate(-3 -7.0)\">9</text></g><circle class=\"sym\" cx=\"0\" cy=\"0\" r=\"3\"/><text class=\"lab\" transform=\"translate(0 -11)\">10</text></g></g></g></g></g></svg>"
      ],
      "text/plain": [
       "<IPython.core.display.SVG object>"
      ]
     },
     "execution_count": 39,
     "metadata": {},
     "output_type": "execute_result"
    }
   ],
   "source": [
    "ts = msprime.sim_ancestry(3, sequence_length = 100, random_seed = 520)\n",
    "ratemap = msprime.RateMap(position=[0, 45, 62, 100], rate=[0.02, 0.001, 0.03])\n",
    "mts = msprime.sim_mutations(ts, rate=ratemap, random_seed = 1002)\n",
    "SVG(mts.draw_svg(size=(600,400), y_axis = True))"
   ]
  },
  {
   "cell_type": "markdown",
   "id": "68621182",
   "metadata": {},
   "source": [
    "**Question**: Why would one need a mutation rate map for simulations?"
   ]
  },
  {
   "cell_type": "markdown",
   "id": "cc5fbc0c",
   "metadata": {},
   "source": [
    "**Question**: You will need some justification for the chosen mutation rate in your simulation, which often comes from the literature. There are often a range of rates to choose from in a single species. What might cause variable mutation rate estimates for the same population?"
   ]
  },
  {
   "cell_type": "markdown",
   "id": "971c00ea",
   "metadata": {},
   "source": [
    "### Accessing Variant Information and Statistics"
   ]
  },
  {
   "cell_type": "markdown",
   "id": "e851919e",
   "metadata": {},
   "source": [
    "When we simulate mutations, we are often after the allele frequencies/genotypes at these loci. We can use the .variants() function to retrieve this information."
   ]
  },
  {
   "cell_type": "code",
   "execution_count": 40,
   "id": "e3bc8b4d",
   "metadata": {
    "scrolled": false
   },
   "outputs": [
    {
     "name": "stdout",
     "output_type": "stream",
     "text": [
      "11.0\t('G', 'A')\t[0 1 1 1 1 0]\n",
      "15.0\t('T', 'C')\t[0 1 1 1 1 0]\n",
      "16.0\t('A', 'T')\t[1 0 0 0 0 0]\n",
      "24.0\t('T', 'G')\t[1 0 0 0 0 0]\n",
      "75.0\t('C', 'T')\t[0 1 1 1 1 0]\n",
      "82.0\t('C', 'T')\t[0 0 1 0 1 0]\n",
      "90.0\t('A', 'G')\t[0 0 0 0 0 1]\n",
      "93.0\t('C', 'A')\t[0 1 1 1 1 0]\n",
      "96.0\t('A', 'C', 'G')\t[0 2 1 1 1 0]\n"
     ]
    }
   ],
   "source": [
    "for var in mts.variants():\n",
    "    print(var.site.position, var.alleles, var.genotypes, sep='\\t')"
   ]
  },
  {
   "cell_type": "markdown",
   "id": "0e6513b1",
   "metadata": {},
   "source": [
    "**Question:** What do the 0s and 1s mean in the genotype array? Do you have any sites with more than two alleles listed?"
   ]
  },
  {
   "cell_type": "markdown",
   "id": "150d0cfc",
   "metadata": {},
   "source": [
    "Let's calculate some statistics. Many of these are built into msprime/tskit! However, if you don't see what you need or want to tinker with a particular statistic, you can easily write a function and apply it to the variant data."
   ]
  },
  {
   "cell_type": "markdown",
   "id": "7e326fcf",
   "metadata": {},
   "source": [
    "One useful statistic is the density of segregating sites. We can calculate this using the .segregating_sites() function. "
   ]
  },
  {
   "cell_type": "code",
   "execution_count": 41,
   "id": "03bb92a6",
   "metadata": {},
   "outputs": [
    {
     "data": {
      "text/plain": [
       "array(0.1)"
      ]
     },
     "execution_count": 41,
     "metadata": {},
     "output_type": "execute_result"
    }
   ],
   "source": [
    "mts.segregating_sites()"
   ]
  },
  {
   "cell_type": "markdown",
   "id": "421eee6b",
   "metadata": {},
   "source": [
    "Now for sample heterozygosity or pi (Nei and Li (1979))."
   ]
  },
  {
   "cell_type": "code",
   "execution_count": 42,
   "id": "2eb70827",
   "metadata": {
    "scrolled": true
   },
   "outputs": [
    {
     "data": {
      "text/plain": [
       "array(0.044)"
      ]
     },
     "execution_count": 42,
     "metadata": {},
     "output_type": "execute_result"
    }
   ],
   "source": [
    "mts.diversity()"
   ]
  },
  {
   "cell_type": "markdown",
   "id": "6a446969",
   "metadata": {},
   "source": [
    "We can also calculate this in windows."
   ]
  },
  {
   "cell_type": "code",
   "execution_count": 43,
   "id": "c85168f6",
   "metadata": {
    "scrolled": false
   },
   "outputs": [
    {
     "name": "stdout",
     "output_type": "stream",
     "text": [
      "[  0.  25.  50.  75. 100.]\n",
      "[0.06933333 0.         0.         0.10666667]\n"
     ]
    }
   ],
   "source": [
    "windows = np.linspace(0, ts.sequence_length, num = 5)\n",
    "d = mts.diversity(windows = windows)\n",
    "print(windows, d, sep = '\\n')"
   ]
  },
  {
   "cell_type": "markdown",
   "id": "1a794313",
   "metadata": {},
   "source": [
    "Let's try something a little more complicated. Recombination is often highest in the distal regions of the chromosome (furthest away from the centromere, which is usually near the center). Write a simulation whose sequence length is at least 10,000 bp, implement a recombination map that captures this general recombination pattern, and calculate pi in 1,000 bp windows. Feel free to tinker with the number of samples, the recombination rate, and the mutation rate.  "
   ]
  },
  {
   "cell_type": "code",
   "execution_count": 44,
   "id": "d13d0104",
   "metadata": {},
   "outputs": [
    {
     "name": "stdout",
     "output_type": "stream",
     "text": [
      "[0, 100, 200, 300, 400, 500, 600, 700, 800, 900, 1000]\n",
      "[0.27733333 0.21133333 0.18266667 0.14133333 0.14666667 0.106\n",
      " 0.12466667 0.20066667 0.20866667 0.27333333]\n"
     ]
    }
   ],
   "source": [
    "windows = [0,100,200,300,400,500,600,700,800,900,1000]\n",
    "rate_map = msprime.RateMap(position=[0, 120, 860, 1000], rate=[0.1, 0.0001, 0.2])\n",
    "ts = msprime.sim_ancestry(3, sequence_length = 1000, recombination_rate = rate_map, random_seed = 520)\n",
    "mts = msprime.sim_mutations(ts, rate = 0.1, random_seed = 1002)\n",
    "d = mts.diversity(windows = windows)\n",
    "print(windows, d, sep = '\\n')"
   ]
  },
  {
   "cell_type": "markdown",
   "id": "1b5e53ac",
   "metadata": {},
   "source": [
    "# Demography Simulations"
   ]
  },
  {
   "cell_type": "markdown",
   "id": "14546364",
   "metadata": {},
   "source": [
    "We know how to simulate ancestry and mutations. Let's model more realistic scenarios that involve sampling from a dynamic and/or multiple populations."
   ]
  },
  {
   "cell_type": "markdown",
   "id": "437563fe",
   "metadata": {},
   "source": [
    "We can use the .Demography() function to create a demographic object and other commands to build the model. Here we will build a model with two extant populations (African (AFR) and Eurasian (EUR)) that share a common ancestor (AFR_EUR) 1000 generations ago. Note that we specify the derived and ancestral populations using their labels. We will sample one individual from each population."
   ]
  },
  {
   "cell_type": "code",
   "execution_count": 45,
   "id": "cb52826b",
   "metadata": {
    "scrolled": true
   },
   "outputs": [
    {
     "data": {
      "text/html": [
       "\n",
       "            <div>\n",
       "              <style>\n",
       "                .tskit-table thead tr th {text-align: left;padding: 0.5em 0.5em;}\n",
       "                .tskit-table tbody tr td {padding: 0.5em 0.5em;}\n",
       "                .tskit-table tbody tr td:first-of-type {text-align: left;}\n",
       "                .tskit-details-label {vertical-align: top; padding-right:5px;}\n",
       "                .tskit-table-set {display: inline-flex;flex-wrap: wrap;margin: -12px 0 0 -12px;width: calc(100% + 12px);}\n",
       "                .tskit-table-set-table {margin: 12px 0 0 12px;}\n",
       "                details {display: inline-block;}\n",
       "                summary {cursor: pointer; outline: 0; display: list-item;}\n",
       "              </style>\n",
       "              <div class=\"tskit-table-set\">\n",
       "                <div class=\"tskit-table-set-table\">\n",
       "                  <table class=\"tskit-table\">\n",
       "                    <thead>\n",
       "                      <tr>\n",
       "                        <th style=\"padding:0;line-height:21px;\">\n",
       "                          <img style=\"height: 32px;display: inline-block;padding: 3px 5px 3px 0;\" src=\"https://raw.githubusercontent.com/tskit-dev/administrative/main/tskit_logo.svg\"/>\n",
       "                          <a target=\"_blank\" href=\"https://tskit.dev/tskit/docs/latest/python-api.html#the-treesequence-class\"> Tree Sequence </a>\n",
       "                        </th>\n",
       "                      </tr>\n",
       "                    </thead>\n",
       "                    <tbody>\n",
       "                      <tr><td>Trees</td><td>1</td></tr>\n",
       "                      <tr><td>Sequence Length</td><td>1.0</td></tr>\n",
       "                      <tr><td>Time Units</td><td>generations</td></tr>\n",
       "                      <tr><td>Sample Nodes</td><td>4</td></tr>\n",
       "                      <tr><td>Total Size</td><td>2.6 KiB</td></tr>\n",
       "                      <tr>\n",
       "                        <td>Metadata</td><td style=\"text-align: left;\">No Metadata</td></tr>\n",
       "                    </tbody>\n",
       "                  </table>\n",
       "                </div>\n",
       "                <div class=\"tskit-table-set-table\">\n",
       "                  <table class=\"tskit-table\">\n",
       "                    <thead>\n",
       "                      <tr>\n",
       "                        <th style=\"line-height:21px;\">Table</th>\n",
       "                        <th>Rows</th>\n",
       "                        <th>Size</th>\n",
       "                        <th>Has Metadata</th>\n",
       "                      </tr>\n",
       "                    </thead>\n",
       "                    <tbody>\n",
       "                    \n",
       "                  <tr>\n",
       "                    <td>Edges</td>\n",
       "                      <td>6</td>\n",
       "                      <td>200 Bytes</td>\n",
       "                      <td style=\"text-align: center;\">\n",
       "                        \n",
       "                      </td>\n",
       "                    </tr>\n",
       "                \n",
       "                  <tr>\n",
       "                    <td>Individuals</td>\n",
       "                      <td>2</td>\n",
       "                      <td>80 Bytes</td>\n",
       "                      <td style=\"text-align: center;\">\n",
       "                        \n",
       "                      </td>\n",
       "                    </tr>\n",
       "                \n",
       "                  <tr>\n",
       "                    <td>Migrations</td>\n",
       "                      <td>0</td>\n",
       "                      <td>8 Bytes</td>\n",
       "                      <td style=\"text-align: center;\">\n",
       "                        \n",
       "                      </td>\n",
       "                    </tr>\n",
       "                \n",
       "                  <tr>\n",
       "                    <td>Mutations</td>\n",
       "                      <td>0</td>\n",
       "                      <td>16 Bytes</td>\n",
       "                      <td style=\"text-align: center;\">\n",
       "                        \n",
       "                      </td>\n",
       "                    </tr>\n",
       "                \n",
       "                  <tr>\n",
       "                    <td>Nodes</td>\n",
       "                      <td>7</td>\n",
       "                      <td>204 Bytes</td>\n",
       "                      <td style=\"text-align: center;\">\n",
       "                        \n",
       "                      </td>\n",
       "                    </tr>\n",
       "                \n",
       "                  <tr>\n",
       "                    <td>Populations</td>\n",
       "                      <td>3</td>\n",
       "                      <td>304 Bytes</td>\n",
       "                      <td style=\"text-align: center;\">\n",
       "                        ✅\n",
       "                      </td>\n",
       "                    </tr>\n",
       "                \n",
       "                  <tr>\n",
       "                    <td>Provenances</td>\n",
       "                      <td>1</td>\n",
       "                      <td>1.7 KiB</td>\n",
       "                      <td style=\"text-align: center;\">\n",
       "                        \n",
       "                      </td>\n",
       "                    </tr>\n",
       "                \n",
       "                  <tr>\n",
       "                    <td>Sites</td>\n",
       "                      <td>0</td>\n",
       "                      <td>16 Bytes</td>\n",
       "                      <td style=\"text-align: center;\">\n",
       "                        \n",
       "                      </td>\n",
       "                    </tr>\n",
       "                \n",
       "                    </tbody>\n",
       "                  </table>\n",
       "                </div>\n",
       "              </div>\n",
       "            </div>\n",
       "            "
      ],
      "text/plain": [
       "<tskit.trees.TreeSequence at 0x11055a580>"
      ]
     },
     "execution_count": 45,
     "metadata": {},
     "output_type": "execute_result"
    }
   ],
   "source": [
    "demography = msprime.Demography()\n",
    "demography.add_population(name = 'AFR', initial_size = 10000)\n",
    "demography.add_population(name = 'EUR', initial_size = 5000)\n",
    "demography.add_population(name = 'AFR_EUR', initial_size = 10000)\n",
    "demography.add_population_split(time = 1000, derived = ['AFR', 'EUR'], ancestral = 'AFR_EUR')\n",
    "ts = msprime.sim_ancestry(samples={'AFR': 1, 'EUR': 1}, demography = demography, random_seed = 6045)\n",
    "ts"
   ]
  },
  {
   "cell_type": "markdown",
   "id": "5bbc325b",
   "metadata": {},
   "source": [
    "Let's look at the demography object. "
   ]
  },
  {
   "cell_type": "code",
   "execution_count": 46,
   "id": "b8df8763",
   "metadata": {
    "scrolled": true
   },
   "outputs": [
    {
     "data": {
      "text/html": [
       "<div style=\"margin-left:20px\"><div><style scoped=\"\">\n",
       "            .tskit-table thead tr th:only-of-type {vertical-align: middle;}\n",
       "            .tskit-table thead tr th {text-align: center;vertical-align: top;}\n",
       "            .tskit-table tbody td {text-align: right;padding: 0.5em 0.5em;}\n",
       "            .tskit-table tbody th {padding: 0.5em 0.5em;}\n",
       "        </style><b>Populations (3)</b><table border=\"1\" class=\"tskit-table\"><thead><tr><th>id</th><th>name</th><th>description</th><th>initial_size</th><th>growth_rate</th><th>default_sampling_time</th><th>extra_metadata</th></tr></thead><tbody><tr><td>0</td><td>AFR</td><td></td><td>10000.0</td><td>0</td><td>0</td><td>{}</td></tr><tr><td>1</td><td>EUR</td><td></td><td>5000.0</td><td>0</td><td>0</td><td>{}</td></tr><tr><td>2</td><td>AFR_EUR</td><td></td><td>10000.0</td><td>0</td><td>1e+03</td><td>{}</td></tr></tbody></table></div><div><style scoped=\"\">\n",
       "            .tskit-table thead tr th:only-of-type {vertical-align: middle;}\n",
       "            .tskit-table thead tr th {text-align: center;vertical-align: top;}\n",
       "            .tskit-table tbody td {text-align: right;padding: 0.5em 0.5em;}\n",
       "            .tskit-table tbody th {padding: 0.5em 0.5em;}\n",
       "        </style><b>Migration matrix (all zero)</b><table border=\"1\" class=\"tskit-table\"><thead><tr></tr></thead><tbody></tbody></table></div><div><style scoped=\"\">\n",
       "            .tskit-table thead tr th:only-of-type {vertical-align: middle;}\n",
       "            .tskit-table thead tr th {text-align: center;vertical-align: top;}\n",
       "            .tskit-table tbody td {text-align: right;padding: 0.5em 0.5em;}\n",
       "            .tskit-table tbody th {padding: 0.5em 0.5em;}\n",
       "        </style><b>Events (1)</b><table border=\"1\" class=\"tskit-table\"><thead><tr><th>time</th><th>type</th><th>parameters</th><th>effect</th></tr></thead><tbody><tr><td>1000</td><td><a href='https://tskit.dev/msprime/docs/latest/api.html#msprime.Demography.add_population_split'>Population Split</a></td><td>derived=[AFR, EUR], ancestral=AFR_EUR</td><td>Moves all lineages from derived populations &#x27;AFR&#x27; and &#x27;EUR&#x27; to the ancestral &#x27;AFR_EUR&#x27; population. Also set the derived populations to inactive, and all migration rates to and from the derived populations to zero.</td></tr></tbody></table></div></div>"
      ],
      "text/plain": [
       "Demography(populations=[Population(initial_size=10000, growth_rate=0, name='AFR', description='', extra_metadata={}, default_sampling_time=None, initially_active=None, id=0), Population(initial_size=5000, growth_rate=0, name='EUR', description='', extra_metadata={}, default_sampling_time=None, initially_active=None, id=1), Population(initial_size=10000, growth_rate=0, name='AFR_EUR', description='', extra_metadata={}, default_sampling_time=1000, initially_active=False, id=2)], events=[PopulationSplit(time=1000, derived=['AFR', 'EUR'], ancestral='AFR_EUR')], migration_matrix=array([[0., 0., 0.],\n",
       "       [0., 0., 0.],\n",
       "       [0., 0., 0.]]))"
      ]
     },
     "execution_count": 46,
     "metadata": {},
     "output_type": "execute_result"
    }
   ],
   "source": [
    "demography"
   ]
  },
  {
   "cell_type": "markdown",
   "id": "394e9a12",
   "metadata": {},
   "source": [
    "Note that we even get links to the type of events in our model. These links will send you to the msprime documentation."
   ]
  },
  {
   "cell_type": "markdown",
   "id": "c05d2d9d",
   "metadata": {},
   "source": [
    "Run .debug() on the demography object."
   ]
  },
  {
   "cell_type": "code",
   "execution_count": 47,
   "id": "24290445",
   "metadata": {
    "scrolled": true
   },
   "outputs": [
    {
     "data": {
      "text/html": [
       "<div><details open=\"true\"><summary>Epoch[0]: [0, 1e+03) generations</summary><div style=\"margin-left:20px\"><div><style scoped=\"\">\n",
       "            .tskit-table thead tr th:only-of-type {vertical-align: middle;}\n",
       "            .tskit-table thead tr th {text-align: center;vertical-align: top;}\n",
       "            .tskit-table tbody td {text-align: right;padding: 0.5em 0.5em;}\n",
       "            .tskit-table tbody th {padding: 0.5em 0.5em;}\n",
       "        </style><b>Populations (total=3 active=2)</b><table border=\"1\" class=\"tskit-table\"><thead><tr><th></th><th>start</th><th>end</th><th>growth_rate</th><th>AFR</th><th>EUR</th></tr></thead><tbody><tr><td>AFR</td><td> 10000.0</td><td> 10000.0</td><td> 0</td><td>0</td><td title='Backwards in time migration rate from population AFR to EUR = 0.0 per\n",
       "generation. Forwards in time, this is the expected number of migrants moving\n",
       "from EUR to AFR per generation, divided by the size of AFR.'>0</td></tr><tr><td>EUR</td><td> 5000.0</td><td> 5000.0</td><td> 0</td><td title='Backwards in time migration rate from population EUR to AFR = 0.0 per\n",
       "generation. Forwards in time, this is the expected number of migrants moving\n",
       "from AFR to EUR per generation, divided by the size of EUR.'>0</td><td>0</td></tr></tbody></table></div><div><style scoped=\"\">\n",
       "            .tskit-table thead tr th:only-of-type {vertical-align: middle;}\n",
       "            .tskit-table thead tr th {text-align: center;vertical-align: top;}\n",
       "            .tskit-table tbody td {text-align: right;padding: 0.5em 0.5em;}\n",
       "            .tskit-table tbody th {padding: 0.5em 0.5em;}\n",
       "        </style><b>Events @ generation 1e+03</b><table border=\"1\" class=\"tskit-table\"><thead><tr><th>time</th><th>type</th><th>parameters</th><th>effect</th></tr></thead><tbody><tr><td>1000</td><td><a href='https://tskit.dev/msprime/docs/latest/api.html#msprime.Demography.add_population_split'>Population Split</a></td><td>derived=[AFR, EUR], ancestral=AFR_EUR</td><td>Moves all lineages from derived populations &#x27;AFR&#x27; and &#x27;EUR&#x27; to the ancestral &#x27;AFR_EUR&#x27; population. Also set the derived populations to inactive, and all migration rates to and from the derived populations to zero.</td></tr></tbody></table></div></div></details><details open=\"true\"><summary>Epoch[1]: [1e+03, inf) generations</summary><div style=\"margin-left:20px\"><div><style scoped=\"\">\n",
       "            .tskit-table thead tr th:only-of-type {vertical-align: middle;}\n",
       "            .tskit-table thead tr th {text-align: center;vertical-align: top;}\n",
       "            .tskit-table tbody td {text-align: right;padding: 0.5em 0.5em;}\n",
       "            .tskit-table tbody th {padding: 0.5em 0.5em;}\n",
       "        </style><b>Populations (total=3 active=1)</b><table border=\"1\" class=\"tskit-table\"><thead><tr><th></th><th>start</th><th>end</th><th>growth_rate</th></tr></thead><tbody><tr><td>AFR_EUR</td><td> 10000.0</td><td> 10000.0</td><td> 0</td></tr></tbody></table></div></div></details></div>"
      ],
      "text/plain": [
       "<msprime.demography.DemographyDebugger at 0x1104a8d30>"
      ]
     },
     "execution_count": 47,
     "metadata": {},
     "output_type": "execute_result"
    }
   ],
   "source": [
    "demography.debug()"
   ]
  },
  {
   "cell_type": "markdown",
   "id": "ea65c14f",
   "metadata": {},
   "source": [
    "**Question:** What additional information is displayed with .debug()?"
   ]
  },
  {
   "cell_type": "markdown",
   "id": "17d4cd37",
   "metadata": {},
   "source": [
    "Draw the sequence."
   ]
  },
  {
   "cell_type": "code",
   "execution_count": 48,
   "id": "1be45ba3",
   "metadata": {
    "scrolled": false
   },
   "outputs": [
    {
     "data": {
      "image/svg+xml": [
       "<svg xmlns=\"http://www.w3.org/2000/svg\" xmlns:ev=\"http://www.w3.org/2001/xml-events\" xmlns:xlink=\"http://www.w3.org/1999/xlink\" baseProfile=\"full\" height=\"400\" version=\"1.1\" width=\"600\"><defs><style type=\"text/css\"><![CDATA[.background path {fill: #808080; fill-opacity: 0}.background path:nth-child(odd) {fill-opacity: .1}.axes {font-size: 14px}.x-axis .tick .lab {font-weight: bold; dominant-baseline: hanging}.axes, .tree {font-size: 14px; text-anchor: middle}.axes line, .edge {stroke: black; fill: none}.y-axis .grid {stroke: #FAFAFA}.node > .sym {fill: black; stroke: none}.site > .sym {stroke: black}.mut text {fill: red; font-style: italic}.mut.extra text {fill: hotpink}.mut line {fill: none; stroke: none}.mut .sym {fill: none; stroke: red}.mut.extra .sym {stroke: hotpink}.node .mut .sym {stroke-width: 1.5px}.tree text, .tree-sequence text {dominant-baseline: central}.plotbox .lab.lft {text-anchor: end}.plotbox .lab.rgt {text-anchor: start}]]></style></defs><g class=\"tree-sequence\"><g class=\"background\"><path d=\"M56.8,0 l523.2,0 l0,338.2 l0,25 l0,5 l-523.2,0 l0,-5 l0,-25 l0,-338.2z\"/></g><g class=\"axes\"><g class=\"x-axis\"><g transform=\"translate(318.4 400)\"><text class=\"lab\" text-anchor=\"middle\" transform=\"translate(0 -11)\">Genome position</text></g><line x1=\"56.8\" x2=\"580\" y1=\"363.2\" y2=\"363.2\"/><g class=\"ticks\"><g class=\"tick\" transform=\"translate(56.8 363.2)\"><line x1=\"0\" x2=\"0\" y1=\"0\" y2=\"5\"/><g transform=\"translate(0 6)\"><text class=\"lab\">0</text></g></g><g class=\"tick\" transform=\"translate(580 363.2)\"><line x1=\"0\" x2=\"0\" y1=\"0\" y2=\"5\"/><g transform=\"translate(0 6)\"><text class=\"lab\">1</text></g></g></g></g><g class=\"y-axis\"><g transform=\"translate(0 165.7)\"><text class=\"lab\" text-anchor=\"middle\" transform=\"translate(11) rotate(-90)\">Time (generations)</text></g><line x1=\"56.8\" x2=\"56.8\" y1=\"321.4\" y2=\"10\"/><g class=\"ticks\"><g class=\"tick\" transform=\"translate(56.8 321.4)\"><line x1=\"0\" x2=\"-5\" y1=\"0\" y2=\"0\"/><g transform=\"translate(-6 0)\"><text class=\"lab\" text-anchor=\"end\">0.00</text></g></g><g class=\"tick\" transform=\"translate(56.8 145.768)\"><line x1=\"0\" x2=\"-5\" y1=\"0\" y2=\"0\"/><g transform=\"translate(-6 0)\"><text class=\"lab\" text-anchor=\"end\">6790.80</text></g></g><g class=\"tick\" transform=\"translate(56.8 131.257)\"><line x1=\"0\" x2=\"-5\" y1=\"0\" y2=\"0\"/><g transform=\"translate(-6 0)\"><text class=\"lab\" text-anchor=\"end\">7351.85</text></g></g><g class=\"tick\" transform=\"translate(56.8 26.8)\"><line x1=\"0\" x2=\"-5\" y1=\"0\" y2=\"0\"/><g transform=\"translate(-6 0)\"><text class=\"lab\" text-anchor=\"end\">11390.68</text></g></g></g></g></g><g class=\"plotbox trees\"><g class=\"tree t0\" transform=\"translate(56.8 0)\"><g class=\"plotbox\"><g class=\"c2 node n6 p2 root\" transform=\"translate(261.6 26.8)\"><g class=\"a6 c2 node n4 p2\" transform=\"translate(120.8 118.968)\"><g class=\"a4 i1 leaf node n2 p1 sample\" transform=\"translate(-60.4 175.632)\"><path class=\"edge\" d=\"M 0 0 V -175.632 H 60.4\"/><rect class=\"sym\" height=\"6\" width=\"6\" x=\"-3\" y=\"-3\"/><text class=\"lab\" transform=\"translate(0 11)\">2</text></g><g class=\"a4 i1 leaf node n3 p1 sample\" transform=\"translate(60.4 175.632)\"><path class=\"edge\" d=\"M 0 0 V -175.632 H -60.4\"/><rect class=\"sym\" height=\"6\" width=\"6\" x=\"-3\" y=\"-3\"/><text class=\"lab\" transform=\"translate(0 11)\">3</text></g><path class=\"edge\" d=\"M 0 0 V -118.968 H -120.8\"/><circle class=\"sym\" cx=\"0\" cy=\"0\" r=\"3\"/><text class=\"lab rgt\" transform=\"translate(3 -7.0)\">4</text></g><g class=\"a6 c2 node n5 p2\" transform=\"translate(-120.8 104.457)\"><g class=\"a5 i0 leaf node n0 p0 sample\" transform=\"translate(-60.4 190.143)\"><path class=\"edge\" d=\"M 0 0 V -190.143 H 60.4\"/><rect class=\"sym\" height=\"6\" width=\"6\" x=\"-3\" y=\"-3\"/><text class=\"lab\" transform=\"translate(0 11)\">0</text></g><g class=\"a5 i0 leaf node n1 p0 sample\" transform=\"translate(60.4 190.143)\"><path class=\"edge\" d=\"M 0 0 V -190.143 H -60.4\"/><rect class=\"sym\" height=\"6\" width=\"6\" x=\"-3\" y=\"-3\"/><text class=\"lab\" transform=\"translate(0 11)\">1</text></g><path class=\"edge\" d=\"M 0 0 V -104.457 H 120.8\"/><circle class=\"sym\" cx=\"0\" cy=\"0\" r=\"3\"/><text class=\"lab lft\" transform=\"translate(-3 -7.0)\">5</text></g><circle class=\"sym\" cx=\"0\" cy=\"0\" r=\"3\"/><text class=\"lab\" transform=\"translate(0 -11)\">6</text></g></g></g></g></g></svg>"
      ],
      "text/plain": [
       "<IPython.core.display.SVG object>"
      ]
     },
     "execution_count": 48,
     "metadata": {},
     "output_type": "execute_result"
    }
   ],
   "source": [
    "SVG(ts.draw_svg(size=(600,400), y_axis = True))"
   ]
  },
  {
   "cell_type": "markdown",
   "id": "2bd8e0f0",
   "metadata": {},
   "source": [
    "Repeat the model above but add a sequence length and a low mutation rate. **I suggest using a rate >= 1e-7 (0.0000001) to prevent your notebook from freezing up.** Draw your tree."
   ]
  },
  {
   "cell_type": "code",
   "execution_count": 49,
   "id": "72ca022b",
   "metadata": {},
   "outputs": [],
   "source": [
    "ts = msprime.sim_ancestry(samples={'AFR': 1, 'EUR': 1}, demography = demography, sequence_length = 1000, random_seed = 6045)\n",
    "mts = msprime.sim_mutations(ts, rate=0.0000001)"
   ]
  },
  {
   "cell_type": "code",
   "execution_count": 50,
   "id": "a1d87df3",
   "metadata": {
    "scrolled": false
   },
   "outputs": [
    {
     "data": {
      "image/svg+xml": [
       "<svg xmlns=\"http://www.w3.org/2000/svg\" xmlns:ev=\"http://www.w3.org/2001/xml-events\" xmlns:xlink=\"http://www.w3.org/1999/xlink\" baseProfile=\"full\" height=\"400\" version=\"1.1\" width=\"600\"><defs><style type=\"text/css\"><![CDATA[.background path {fill: #808080; fill-opacity: 0}.background path:nth-child(odd) {fill-opacity: .1}.axes {font-size: 14px}.x-axis .tick .lab {font-weight: bold; dominant-baseline: hanging}.axes, .tree {font-size: 14px; text-anchor: middle}.axes line, .edge {stroke: black; fill: none}.y-axis .grid {stroke: #FAFAFA}.node > .sym {fill: black; stroke: none}.site > .sym {stroke: black}.mut text {fill: red; font-style: italic}.mut.extra text {fill: hotpink}.mut line {fill: none; stroke: none}.mut .sym {fill: none; stroke: red}.mut.extra .sym {stroke: hotpink}.node .mut .sym {stroke-width: 1.5px}.tree text, .tree-sequence text {dominant-baseline: central}.plotbox .lab.lft {text-anchor: end}.plotbox .lab.rgt {text-anchor: start}]]></style></defs><g class=\"tree-sequence\"><g class=\"background\"><path d=\"M56.8,0 l523.2,0 l0,338.2 l0,25 l0,5 l-523.2,0 l0,-5 l0,-25 l0,-338.2z\"/></g><g class=\"axes\"><g class=\"x-axis\"><g transform=\"translate(318.4 400)\"><text class=\"lab\" text-anchor=\"middle\" transform=\"translate(0 -11)\">Genome position</text></g><line x1=\"56.8\" x2=\"580\" y1=\"363.2\" y2=\"363.2\"/><g class=\"ticks\"><g class=\"tick\" transform=\"translate(56.8 363.2)\"><line x1=\"0\" x2=\"0\" y1=\"0\" y2=\"5\"/><g transform=\"translate(0 6)\"><text class=\"lab\">0</text></g></g><g class=\"tick\" transform=\"translate(580 363.2)\"><line x1=\"0\" x2=\"0\" y1=\"0\" y2=\"5\"/><g transform=\"translate(0 6)\"><text class=\"lab\">1000</text></g></g></g><g class=\"site s0\" transform=\"translate(338.805 363.2)\"><line class=\"sym\" x1=\"0\" x2=\"0\" y1=\"0\" y2=\"-10\"/><g class=\"mut m0\"><polyline class=\"sym\" points=\"2.5,-6.5 0,-1.5 -2.5,-6.5\"/></g></g><g class=\"site s1\" transform=\"translate(530.819 363.2)\"><line class=\"sym\" x1=\"0\" x2=\"0\" y1=\"0\" y2=\"-10\"/><g class=\"mut m1\"><polyline class=\"sym\" points=\"2.5,-6.5 0,-1.5 -2.5,-6.5\"/></g></g></g><g class=\"y-axis\"><g transform=\"translate(0 165.7)\"><text class=\"lab\" text-anchor=\"middle\" transform=\"translate(11) rotate(-90)\">Time (generations)</text></g><line x1=\"56.8\" x2=\"56.8\" y1=\"321.4\" y2=\"10\"/><g class=\"ticks\"><g class=\"tick\" transform=\"translate(56.8 321.4)\"><line x1=\"0\" x2=\"-5\" y1=\"0\" y2=\"0\"/><g transform=\"translate(-6 0)\"><text class=\"lab\" text-anchor=\"end\">0.00</text></g></g><g class=\"tick\" transform=\"translate(56.8 145.768)\"><line x1=\"0\" x2=\"-5\" y1=\"0\" y2=\"0\"/><g transform=\"translate(-6 0)\"><text class=\"lab\" text-anchor=\"end\">6790.80</text></g></g><g class=\"tick\" transform=\"translate(56.8 131.257)\"><line x1=\"0\" x2=\"-5\" y1=\"0\" y2=\"0\"/><g transform=\"translate(-6 0)\"><text class=\"lab\" text-anchor=\"end\">7351.85</text></g></g><g class=\"tick\" transform=\"translate(56.8 26.8)\"><line x1=\"0\" x2=\"-5\" y1=\"0\" y2=\"0\"/><g transform=\"translate(-6 0)\"><text class=\"lab\" text-anchor=\"end\">11390.68</text></g></g></g></g></g><g class=\"plotbox trees\"><g class=\"tree t0\" transform=\"translate(56.8 0)\"><g class=\"plotbox\"><g class=\"c2 node n6 p2 root\" transform=\"translate(261.6 26.8)\"><g class=\"a6 c2 node n4 p2\" transform=\"translate(120.8 118.968)\"><g class=\"a4 i1 leaf node n2 p1 sample\" transform=\"translate(-60.4 175.632)\"><path class=\"edge\" d=\"M 0 0 V -175.632 H 60.4\"/><rect class=\"sym\" height=\"6\" width=\"6\" x=\"-3\" y=\"-3\"/><text class=\"lab\" transform=\"translate(0 11)\">2</text></g><g class=\"a4 i1 leaf m0 node n3 p1 s0 sample\" transform=\"translate(60.4 175.632)\"><path class=\"edge\" d=\"M 0 0 V -175.632 H -60.4\"/><g class=\"mut m0 s0\" transform=\"translate(0 -132.128)\"><line x1=\"0\" x2=\"0\" y1=\"0\" y2=\"132.128\"/><path class=\"sym\" d=\"M -3,-3 l 6,6 M -3,3 l 6,-6\"/><text class=\"lab rgt\" transform=\"translate(5 0)\">0</text></g><rect class=\"sym\" height=\"6\" width=\"6\" x=\"-3\" y=\"-3\"/><text class=\"lab\" transform=\"translate(0 11)\">3</text></g><path class=\"edge\" d=\"M 0 0 V -118.968 H -120.8\"/><circle class=\"sym\" cx=\"0\" cy=\"0\" r=\"3\"/><text class=\"lab rgt\" transform=\"translate(3 -7.0)\">4</text></g><g class=\"a6 c2 node n5 p2\" transform=\"translate(-120.8 104.457)\"><g class=\"a5 i0 leaf m1 node n0 p0 s1 sample\" transform=\"translate(-60.4 190.143)\"><path class=\"edge\" d=\"M 0 0 V -190.143 H 60.4\"/><g class=\"mut m1 s1\" transform=\"translate(0 -93.141)\"><line x1=\"0\" x2=\"0\" y1=\"0\" y2=\"93.141\"/><path class=\"sym\" d=\"M -3,-3 l 6,6 M -3,3 l 6,-6\"/><text class=\"lab lft\" transform=\"translate(-5 0)\">1</text></g><rect class=\"sym\" height=\"6\" width=\"6\" x=\"-3\" y=\"-3\"/><text class=\"lab\" transform=\"translate(0 11)\">0</text></g><g class=\"a5 i0 leaf node n1 p0 sample\" transform=\"translate(60.4 190.143)\"><path class=\"edge\" d=\"M 0 0 V -190.143 H -60.4\"/><rect class=\"sym\" height=\"6\" width=\"6\" x=\"-3\" y=\"-3\"/><text class=\"lab\" transform=\"translate(0 11)\">1</text></g><path class=\"edge\" d=\"M 0 0 V -104.457 H 120.8\"/><circle class=\"sym\" cx=\"0\" cy=\"0\" r=\"3\"/><text class=\"lab lft\" transform=\"translate(-3 -7.0)\">5</text></g><circle class=\"sym\" cx=\"0\" cy=\"0\" r=\"3\"/><text class=\"lab\" transform=\"translate(0 -11)\">6</text></g></g></g></g></g></svg>"
      ],
      "text/plain": [
       "<IPython.core.display.SVG object>"
      ]
     },
     "execution_count": 50,
     "metadata": {},
     "output_type": "execute_result"
    }
   ],
   "source": [
    "SVG(mts.draw_svg(size=(600,400), y_axis = True))"
   ]
  },
  {
   "cell_type": "markdown",
   "id": "fb7f2ab4",
   "metadata": {},
   "source": [
    "Let's look at the variants."
   ]
  },
  {
   "cell_type": "code",
   "execution_count": 51,
   "id": "c7eede8d",
   "metadata": {
    "scrolled": true
   },
   "outputs": [
    {
     "name": "stdout",
     "output_type": "stream",
     "text": [
      "539.0\t('T', 'G')\t[0 0 0 1]\n",
      "906.0\t('T', 'A')\t[1 0 0 0]\n"
     ]
    }
   ],
   "source": [
    "for var in mts.variants():\n",
    "    print(var.site.position, var.alleles, var.genotypes, sep='\\t')"
   ]
  },
  {
   "cell_type": "markdown",
   "id": "f6637b58",
   "metadata": {},
   "source": [
    "If we wanted to look at a specific population's variant information, we can assign the node IDs to a population variable."
   ]
  },
  {
   "cell_type": "code",
   "execution_count": 52,
   "id": "b7b65012",
   "metadata": {},
   "outputs": [],
   "source": [
    "AFR = (0, 1)\n",
    "EUR = (2, 3)"
   ]
  },
  {
   "cell_type": "markdown",
   "id": "59e5beb1",
   "metadata": {},
   "source": [
    "If you forget what nodes belong to which population, run the command below to examine all nodes in the tree."
   ]
  },
  {
   "cell_type": "code",
   "execution_count": 53,
   "id": "624bd8e8",
   "metadata": {
    "scrolled": true
   },
   "outputs": [
    {
     "data": {
      "text/html": [
       "\n",
       "            <div>\n",
       "                <style scoped=\"\">\n",
       "                    .tskit-table tbody tr th:only-of-type {vertical-align: middle;}\n",
       "                    .tskit-table tbody tr th {vertical-align: top;}\n",
       "                    .tskit-table tbody td {text-align: right;padding: 0.5em 0.5em;}\n",
       "                    .tskit-table tbody th {padding: 0.5em 0.5em;}\n",
       "                </style>\n",
       "                <table border=\"1\" class=\"tskit-table\">\n",
       "                    <thead>\n",
       "                        <tr>\n",
       "                            <th>id</th><th>flags</th><th>population</th><th>individual</th><th>time</th><th>metadata</th>\n",
       "                        </tr>\n",
       "                    </thead>\n",
       "                    <tbody>\n",
       "                        <tr><td>0</td><td>1</td><td>0</td><td>0</td><td>0.00000000</td><td>b''</td></tr>\n",
       "<tr><td>1</td><td>1</td><td>0</td><td>0</td><td>0.00000000</td><td>b''</td></tr>\n",
       "<tr><td>2</td><td>1</td><td>1</td><td>1</td><td>0.00000000</td><td>b''</td></tr>\n",
       "<tr><td>3</td><td>1</td><td>1</td><td>1</td><td>0.00000000</td><td>b''</td></tr>\n",
       "<tr><td>4</td><td>0</td><td>2</td><td>-1</td><td>6790.79688883</td><td>b''</td></tr>\n",
       "<tr><td>5</td><td>0</td><td>2</td><td>-1</td><td>7351.84606113</td><td>b''</td></tr>\n",
       "<tr><td>6</td><td>0</td><td>2</td><td>-1</td><td>11390.67692681</td><td>b''</td></tr>\n",
       "\n",
       "                    </tbody>\n",
       "                </table>\n",
       "            </div>\n",
       "        "
      ],
      "text/plain": [
       "<tskit.tables.NodeTable at 0x11060e250>"
      ]
     },
     "execution_count": 53,
     "metadata": {},
     "output_type": "execute_result"
    }
   ],
   "source": [
    "ts.tables.nodes"
   ]
  },
  {
   "cell_type": "markdown",
   "id": "0409899c",
   "metadata": {},
   "source": [
    "Specify the population and then print the variant information."
   ]
  },
  {
   "cell_type": "code",
   "execution_count": 54,
   "id": "ef8ee445",
   "metadata": {
    "scrolled": true
   },
   "outputs": [
    {
     "name": "stdout",
     "output_type": "stream",
     "text": [
      "539.0\t('T', 'G')\t[0 0]\n",
      "906.0\t('T', 'A')\t[1 0]\n"
     ]
    }
   ],
   "source": [
    "for var in mts.variants(samples = AFR):\n",
    "    print(var.site.position, var.alleles, var.genotypes, sep='\\t')"
   ]
  },
  {
   "cell_type": "code",
   "execution_count": 55,
   "id": "3b5727d3",
   "metadata": {},
   "outputs": [
    {
     "name": "stdout",
     "output_type": "stream",
     "text": [
      "539.0\t('T', 'G')\t[0 1]\n",
      "906.0\t('T', 'A')\t[0 0]\n"
     ]
    }
   ],
   "source": [
    "for var in mts.variants(samples = EUR):\n",
    "    print(var.site.position, var.alleles, var.genotypes, sep='\\t')"
   ]
  },
  {
   "cell_type": "markdown",
   "id": "53fc23e5",
   "metadata": {},
   "source": [
    "## Adding Demographic Events"
   ]
  },
  {
   "cell_type": "markdown",
   "id": "14fbf75e",
   "metadata": {},
   "source": [
    "Now for some more complex (and realistic) demographies. You'll tackle migration and admixture in the next module but let's talk about growth rates and bottlenecks briefly."
   ]
  },
  {
   "cell_type": "markdown",
   "id": "7c612be2",
   "metadata": {},
   "source": [
    "We can modify parameters in existing populations using the .add_population_parameters_change() function. This requires a couple of arguments: 1) time, 2) the population, and 3) the modified parameters."
   ]
  },
  {
   "cell_type": "code",
   "execution_count": 56,
   "id": "e1feb862",
   "metadata": {},
   "outputs": [
    {
     "data": {
      "text/plain": [
       "PopulationParametersChange(time=10, initial_size=None, growth_rate=0.01, population='EUR')"
      ]
     },
     "execution_count": 56,
     "metadata": {},
     "output_type": "execute_result"
    }
   ],
   "source": [
    "demography.add_population_parameters_change(time = 10, population = 'EUR', growth_rate = 0.01)"
   ]
  },
  {
   "cell_type": "markdown",
   "id": "c0ed5cd9",
   "metadata": {},
   "source": [
    "If you add something out of order, you must use the .sort_events() function."
   ]
  },
  {
   "cell_type": "code",
   "execution_count": 57,
   "id": "29df21e2",
   "metadata": {},
   "outputs": [],
   "source": [
    "demography.sort_events()"
   ]
  },
  {
   "cell_type": "markdown",
   "id": "2c1a09d2",
   "metadata": {},
   "source": [
    "Use the demography debugger to see our added growth rate."
   ]
  },
  {
   "cell_type": "code",
   "execution_count": 58,
   "id": "16f0049f",
   "metadata": {},
   "outputs": [
    {
     "data": {
      "text/html": [
       "<div><details open=\"true\"><summary>Epoch[0]: [0, 10) generations</summary><div style=\"margin-left:20px\"><div><style scoped=\"\">\n",
       "            .tskit-table thead tr th:only-of-type {vertical-align: middle;}\n",
       "            .tskit-table thead tr th {text-align: center;vertical-align: top;}\n",
       "            .tskit-table tbody td {text-align: right;padding: 0.5em 0.5em;}\n",
       "            .tskit-table tbody th {padding: 0.5em 0.5em;}\n",
       "        </style><b>Populations (total=3 active=2)</b><table border=\"1\" class=\"tskit-table\"><thead><tr><th></th><th>start</th><th>end</th><th>growth_rate</th><th>AFR</th><th>EUR</th></tr></thead><tbody><tr><td>AFR</td><td> 10000.0</td><td> 10000.0</td><td> 0</td><td>0</td><td title='Backwards in time migration rate from population AFR to EUR = 0.0 per\n",
       "generation. Forwards in time, this is the expected number of migrants moving\n",
       "from EUR to AFR per generation, divided by the size of AFR.'>0</td></tr><tr><td>EUR</td><td> 5000.0</td><td> 5000.0</td><td> 0</td><td title='Backwards in time migration rate from population EUR to AFR = 0.0 per\n",
       "generation. Forwards in time, this is the expected number of migrants moving\n",
       "from AFR to EUR per generation, divided by the size of EUR.'>0</td><td>0</td></tr></tbody></table></div><div><style scoped=\"\">\n",
       "            .tskit-table thead tr th:only-of-type {vertical-align: middle;}\n",
       "            .tskit-table thead tr th {text-align: center;vertical-align: top;}\n",
       "            .tskit-table tbody td {text-align: right;padding: 0.5em 0.5em;}\n",
       "            .tskit-table tbody th {padding: 0.5em 0.5em;}\n",
       "        </style><b>Events @ generation 10</b><table border=\"1\" class=\"tskit-table\"><thead><tr><th>time</th><th>type</th><th>parameters</th><th>effect</th></tr></thead><tbody><tr><td>10</td><td><a href='https://tskit.dev/msprime/docs/latest/api.html#msprime.Demography.add_population_parameters_change'>Population parameter change</a></td><td>population=EUR, growth_rate=0.01</td><td>growth_rate → 0.01 for population EUR</td></tr></tbody></table></div></div></details><details open=\"true\"><summary>Epoch[1]: [10, 1e+03) generations</summary><div style=\"margin-left:20px\"><div><style scoped=\"\">\n",
       "            .tskit-table thead tr th:only-of-type {vertical-align: middle;}\n",
       "            .tskit-table thead tr th {text-align: center;vertical-align: top;}\n",
       "            .tskit-table tbody td {text-align: right;padding: 0.5em 0.5em;}\n",
       "            .tskit-table tbody th {padding: 0.5em 0.5em;}\n",
       "        </style><b>Populations (total=3 active=2)</b><table border=\"1\" class=\"tskit-table\"><thead><tr><th></th><th>start</th><th>end</th><th>growth_rate</th><th>AFR</th><th>EUR</th></tr></thead><tbody><tr><td>AFR</td><td> 10000.0</td><td> 10000.0</td><td> 0</td><td>0</td><td title='Backwards in time migration rate from population AFR to EUR = 0.0 per\n",
       "generation. Forwards in time, this is the expected number of migrants moving\n",
       "from EUR to AFR per generation, divided by the size of AFR.'>0</td></tr><tr><td>EUR</td><td> 5000.0</td><td> 0.3</td><td> 0.01</td><td title='Backwards in time migration rate from population EUR to AFR = 0.0 per\n",
       "generation. Forwards in time, this is the expected number of migrants moving\n",
       "from AFR to EUR per generation, divided by the size of EUR.'>0</td><td>0</td></tr></tbody></table></div><div><style scoped=\"\">\n",
       "            .tskit-table thead tr th:only-of-type {vertical-align: middle;}\n",
       "            .tskit-table thead tr th {text-align: center;vertical-align: top;}\n",
       "            .tskit-table tbody td {text-align: right;padding: 0.5em 0.5em;}\n",
       "            .tskit-table tbody th {padding: 0.5em 0.5em;}\n",
       "        </style><b>Events @ generation 1e+03</b><table border=\"1\" class=\"tskit-table\"><thead><tr><th>time</th><th>type</th><th>parameters</th><th>effect</th></tr></thead><tbody><tr><td>1000</td><td><a href='https://tskit.dev/msprime/docs/latest/api.html#msprime.Demography.add_population_split'>Population Split</a></td><td>derived=[AFR, EUR], ancestral=AFR_EUR</td><td>Moves all lineages from derived populations &#x27;AFR&#x27; and &#x27;EUR&#x27; to the ancestral &#x27;AFR_EUR&#x27; population. Also set the derived populations to inactive, and all migration rates to and from the derived populations to zero.</td></tr></tbody></table></div></div></details><details open=\"true\"><summary>Epoch[2]: [1e+03, inf) generations</summary><div style=\"margin-left:20px\"><div><style scoped=\"\">\n",
       "            .tskit-table thead tr th:only-of-type {vertical-align: middle;}\n",
       "            .tskit-table thead tr th {text-align: center;vertical-align: top;}\n",
       "            .tskit-table tbody td {text-align: right;padding: 0.5em 0.5em;}\n",
       "            .tskit-table tbody th {padding: 0.5em 0.5em;}\n",
       "        </style><b>Populations (total=3 active=1)</b><table border=\"1\" class=\"tskit-table\"><thead><tr><th></th><th>start</th><th>end</th><th>growth_rate</th></tr></thead><tbody><tr><td>AFR_EUR</td><td> 10000.0</td><td> 10000.0</td><td> 0</td></tr></tbody></table></div></div></details></div>"
      ],
      "text/plain": [
       "<msprime.demography.DemographyDebugger at 0x11060e760>"
      ]
     },
     "execution_count": 58,
     "metadata": {},
     "output_type": "execute_result"
    }
   ],
   "source": [
    "demography.debug()"
   ]
  },
  {
   "cell_type": "markdown",
   "id": "438132d6",
   "metadata": {},
   "source": [
    "Let's consider bottlenecks. You can employ either instantaneous or simple bottlenecks in msprime. Let's try the first using a simple demography, as it is more useful for simulating real populations."
   ]
  },
  {
   "cell_type": "code",
   "execution_count": 59,
   "id": "9a0665e4",
   "metadata": {
    "scrolled": true
   },
   "outputs": [
    {
     "data": {
      "image/svg+xml": [
       "<svg xmlns=\"http://www.w3.org/2000/svg\" xmlns:ev=\"http://www.w3.org/2001/xml-events\" xmlns:xlink=\"http://www.w3.org/1999/xlink\" baseProfile=\"full\" height=\"400\" version=\"1.1\" width=\"600\"><defs><style type=\"text/css\"><![CDATA[.background path {fill: #808080; fill-opacity: 0}.background path:nth-child(odd) {fill-opacity: .1}.axes {font-size: 14px}.x-axis .tick .lab {font-weight: bold; dominant-baseline: hanging}.axes, .tree {font-size: 14px; text-anchor: middle}.axes line, .edge {stroke: black; fill: none}.y-axis .grid {stroke: #FAFAFA}.node > .sym {fill: black; stroke: none}.site > .sym {stroke: black}.mut text {fill: red; font-style: italic}.mut.extra text {fill: hotpink}.mut line {fill: none; stroke: none}.mut .sym {fill: none; stroke: red}.mut.extra .sym {stroke: hotpink}.node .mut .sym {stroke-width: 1.5px}.tree text, .tree-sequence text {dominant-baseline: central}.plotbox .lab.lft {text-anchor: end}.plotbox .lab.rgt {text-anchor: start}]]></style></defs><g class=\"tree-sequence\"><g class=\"background\"><path d=\"M56.8,0 l523.2,0 l0,338.2 l0,25 l0,5 l-523.2,0 l0,-5 l0,-25 l0,-338.2z\"/></g><g class=\"axes\"><g class=\"x-axis\"><g transform=\"translate(318.4 400)\"><text class=\"lab\" text-anchor=\"middle\" transform=\"translate(0 -11)\">Genome position</text></g><line x1=\"56.8\" x2=\"580\" y1=\"363.2\" y2=\"363.2\"/><g class=\"ticks\"><g class=\"tick\" transform=\"translate(56.8 363.2)\"><line x1=\"0\" x2=\"0\" y1=\"0\" y2=\"5\"/><g transform=\"translate(0 6)\"><text class=\"lab\">0</text></g></g><g class=\"tick\" transform=\"translate(580 363.2)\"><line x1=\"0\" x2=\"0\" y1=\"0\" y2=\"5\"/><g transform=\"translate(0 6)\"><text class=\"lab\">1</text></g></g></g></g><g class=\"y-axis\"><g transform=\"translate(0 165.7)\"><text class=\"lab\" text-anchor=\"middle\" transform=\"translate(11) rotate(-90)\">Time (generations)</text></g><line x1=\"56.8\" x2=\"56.8\" y1=\"321.4\" y2=\"10\"/><g class=\"ticks\"><g class=\"tick\" transform=\"translate(56.8 321.4)\"><line x1=\"0\" x2=\"-5\" y1=\"0\" y2=\"0\"/><g transform=\"translate(-6 0)\"><text class=\"lab\" text-anchor=\"end\">0.00</text></g></g><g class=\"tick\" transform=\"translate(56.8 320.574)\"><line x1=\"0\" x2=\"-5\" y1=\"0\" y2=\"0\"/><g transform=\"translate(-6 0)\"><text class=\"lab\" text-anchor=\"end\">0.94</text></g></g><g class=\"tick\" transform=\"translate(56.8 312.308)\"><line x1=\"0\" x2=\"-5\" y1=\"0\" y2=\"0\"/><g transform=\"translate(-6 0)\"><text class=\"lab\" text-anchor=\"end\">10.41</text></g></g><g class=\"tick\" transform=\"translate(56.8 302.704)\"><line x1=\"0\" x2=\"-5\" y1=\"0\" y2=\"0\"/><g transform=\"translate(-6 0)\"><text class=\"lab\" text-anchor=\"end\">21.40</text></g></g><g class=\"tick\" transform=\"translate(56.8 299.555)\"><line x1=\"0\" x2=\"-5\" y1=\"0\" y2=\"0\"/><g transform=\"translate(-6 0)\"><text class=\"lab\" text-anchor=\"end\">25.00</text></g></g><g class=\"tick\" transform=\"translate(56.8 296.532)\"><line x1=\"0\" x2=\"-5\" y1=\"0\" y2=\"0\"/><g transform=\"translate(-6 0)\"><text class=\"lab\" text-anchor=\"end\">28.46</text></g></g><g class=\"tick\" transform=\"translate(56.8 283.633)\"><line x1=\"0\" x2=\"-5\" y1=\"0\" y2=\"0\"/><g transform=\"translate(-6 0)\"><text class=\"lab\" text-anchor=\"end\">43.22</text></g></g><g class=\"tick\" transform=\"translate(56.8 244.768)\"><line x1=\"0\" x2=\"-5\" y1=\"0\" y2=\"0\"/><g transform=\"translate(-6 0)\"><text class=\"lab\" text-anchor=\"end\">87.70</text></g></g><g class=\"tick\" transform=\"translate(56.8 26.8)\"><line x1=\"0\" x2=\"-5\" y1=\"0\" y2=\"0\"/><g transform=\"translate(-6 0)\"><text class=\"lab\" text-anchor=\"end\">337.15</text></g></g></g></g></g><g class=\"plotbox trees\"><g class=\"tree t0\" transform=\"translate(56.8 0)\"><g class=\"plotbox\"><g class=\"c2 node n18 p0 root\" transform=\"translate(300.86 26.8)\"><g class=\"a18 c2 node n15 p0\" transform=\"translate(135.9 269.732)\"><g class=\"a15 i4 leaf node n9 p0 sample\" transform=\"translate(42.28 24.8675)\"><path class=\"edge\" d=\"M 0 0 V -24.8675 H -42.28\"/><rect class=\"sym\" height=\"6\" width=\"6\" x=\"-3\" y=\"-3\"/><text class=\"lab\" transform=\"translate(0 11)\">9</text></g><g class=\"a15 c2 node n14 p0\" transform=\"translate(-42.28 3.02239)\"><g class=\"a14 i3 leaf node n6 p0 sample\" transform=\"translate(36.24 21.8452)\"><path class=\"edge\" d=\"M 0 0 V -21.8452 H -36.24\"/><rect class=\"sym\" height=\"6\" width=\"6\" x=\"-3\" y=\"-3\"/><text class=\"lab\" transform=\"translate(0 11)\">6</text></g><g class=\"a14 c2 node n12 p0\" transform=\"translate(-36.24 3.14871)\"><g class=\"a12 i0 leaf node n1 p0 sample\" transform=\"translate(-24.16 18.6964)\"><path class=\"edge\" d=\"M 0 0 V -18.6964 H 24.16\"/><rect class=\"sym\" height=\"6\" width=\"6\" x=\"-3\" y=\"-3\"/><text class=\"lab\" transform=\"translate(0 11)\">1</text></g><g class=\"a12 i1 leaf node n2 p0 sample\" transform=\"translate(24.16 18.6964)\"><path class=\"edge\" d=\"M 0 0 V -18.6964 H -24.16\"/><rect class=\"sym\" height=\"6\" width=\"6\" x=\"-3\" y=\"-3\"/><text class=\"lab\" transform=\"translate(0 11)\">2</text></g><path class=\"edge\" d=\"M 0 0 V -3.14871 H 36.24\"/><circle class=\"sym\" cx=\"0\" cy=\"0\" r=\"3\"/><text class=\"lab lft\" transform=\"translate(-3 -7.0)\">12</text></g><path class=\"edge\" d=\"M 0 0 V -3.02239 H 42.28\"/><circle class=\"sym\" cx=\"0\" cy=\"0\" r=\"3\"/><text class=\"lab lft\" transform=\"translate(-3 -7.0)\">14</text></g><path class=\"edge\" d=\"M 0 0 V -269.732 H -135.9\"/><circle class=\"sym\" cx=\"0\" cy=\"0\" r=\"3\"/><text class=\"lab rgt\" transform=\"translate(3 -7.0)\">15</text></g><g class=\"a18 c2 node n17 p0\" transform=\"translate(-135.9 217.968)\"><g class=\"a17 c2 node n13 p0\" transform=\"translate(-84.56 54.7864)\"><g class=\"a13 i0 leaf node n0 p0 sample\" transform=\"translate(-36.24 21.8452)\"><path class=\"edge\" d=\"M 0 0 V -21.8452 H 36.24\"/><rect class=\"sym\" height=\"6\" width=\"6\" x=\"-3\" y=\"-3\"/><text class=\"lab\" transform=\"translate(0 11)\">0</text></g><g class=\"a13 c2 node n10 p0\" transform=\"translate(36.24 21.0195)\"><g class=\"a10 i1 leaf node n3 p0 sample\" transform=\"translate(-24.16 0.825645)\"><path class=\"edge\" d=\"M 0 0 V -0.825645 H 24.16\"/><rect class=\"sym\" height=\"6\" width=\"6\" x=\"-3\" y=\"-3\"/><text class=\"lab\" transform=\"translate(0 11)\">3</text></g><g class=\"a10 i2 leaf node n5 p0 sample\" transform=\"translate(24.16 0.825645)\"><path class=\"edge\" d=\"M 0 0 V -0.825645 H -24.16\"/><rect class=\"sym\" height=\"6\" width=\"6\" x=\"-3\" y=\"-3\"/><text class=\"lab\" transform=\"translate(0 11)\">5</text></g><path class=\"edge\" d=\"M 0 0 V -21.0195 H -36.24\"/><circle class=\"sym\" cx=\"0\" cy=\"0\" r=\"3\"/><text class=\"lab rgt\" transform=\"translate(3 -7.0)\">10</text></g><path class=\"edge\" d=\"M 0 0 V -54.7864 H 84.56\"/><circle class=\"sym\" cx=\"0\" cy=\"0\" r=\"3\"/><text class=\"lab lft\" transform=\"translate(-3 -7.0)\">13</text></g><g class=\"a17 c2 node n16 p0\" transform=\"translate(84.56 38.8643)\"><g class=\"a16 i4 leaf node n8 p0 sample\" transform=\"translate(36.24 37.7673)\"><path class=\"edge\" d=\"M 0 0 V -37.7673 H -36.24\"/><rect class=\"sym\" height=\"6\" width=\"6\" x=\"-3\" y=\"-3\"/><text class=\"lab\" transform=\"translate(0 11)\">8</text></g><g class=\"a16 c2 node n11 p0\" transform=\"translate(-36.24 28.6752)\"><g class=\"a11 i2 leaf node n4 p0 sample\" transform=\"translate(-24.16 9.09215)\"><path class=\"edge\" d=\"M 0 0 V -9.09215 H 24.16\"/><rect class=\"sym\" height=\"6\" width=\"6\" x=\"-3\" y=\"-3\"/><text class=\"lab\" transform=\"translate(0 11)\">4</text></g><g class=\"a11 i3 leaf node n7 p0 sample\" transform=\"translate(24.16 9.09215)\"><path class=\"edge\" d=\"M 0 0 V -9.09215 H -24.16\"/><rect class=\"sym\" height=\"6\" width=\"6\" x=\"-3\" y=\"-3\"/><text class=\"lab\" transform=\"translate(0 11)\">7</text></g><path class=\"edge\" d=\"M 0 0 V -28.6752 H 36.24\"/><circle class=\"sym\" cx=\"0\" cy=\"0\" r=\"3\"/><text class=\"lab lft\" transform=\"translate(-3 -7.0)\">11</text></g><path class=\"edge\" d=\"M 0 0 V -38.8643 H -84.56\"/><circle class=\"sym\" cx=\"0\" cy=\"0\" r=\"3\"/><text class=\"lab rgt\" transform=\"translate(3 -7.0)\">16</text></g><path class=\"edge\" d=\"M 0 0 V -217.968 H 135.9\"/><circle class=\"sym\" cx=\"0\" cy=\"0\" r=\"3\"/><text class=\"lab lft\" transform=\"translate(-3 -7.0)\">17</text></g><circle class=\"sym\" cx=\"0\" cy=\"0\" r=\"3\"/><text class=\"lab\" transform=\"translate(0 -11)\">18</text></g></g></g></g></g></svg>"
      ],
      "text/plain": [
       "<IPython.core.display.SVG object>"
      ]
     },
     "execution_count": 59,
     "metadata": {},
     "output_type": "execute_result"
    }
   ],
   "source": [
    "demography = msprime.Demography()\n",
    "demography.add_population(initial_size = 100)\n",
    "demography.add_instantaneous_bottleneck(time = 25, strength = 10, population = 0)\n",
    "\n",
    "ts = msprime.sim_ancestry(5, demography = demography, random_seed = 1234)\n",
    "SVG(ts.draw_svg(y_axis = True, size =(600, 400)))"
   ]
  },
  {
   "cell_type": "markdown",
   "id": "6b5916c9",
   "metadata": {},
   "source": [
    "When we simulate multiple populations, we are often interested in differences between them. In the next module, you will estimate a metric of population differentation called Fst. Let's do a quick preview here using msprime. Build the following three population model."
   ]
  },
  {
   "cell_type": "code",
   "execution_count": 60,
   "id": "84bf674c",
   "metadata": {
    "scrolled": false
   },
   "outputs": [
    {
     "data": {
      "text/html": [
       "\n",
       "            <div>\n",
       "              <style>\n",
       "                .tskit-table thead tr th {text-align: left;padding: 0.5em 0.5em;}\n",
       "                .tskit-table tbody tr td {padding: 0.5em 0.5em;}\n",
       "                .tskit-table tbody tr td:first-of-type {text-align: left;}\n",
       "                .tskit-details-label {vertical-align: top; padding-right:5px;}\n",
       "                .tskit-table-set {display: inline-flex;flex-wrap: wrap;margin: -12px 0 0 -12px;width: calc(100% + 12px);}\n",
       "                .tskit-table-set-table {margin: 12px 0 0 12px;}\n",
       "                details {display: inline-block;}\n",
       "                summary {cursor: pointer; outline: 0; display: list-item;}\n",
       "              </style>\n",
       "              <div class=\"tskit-table-set\">\n",
       "                <div class=\"tskit-table-set-table\">\n",
       "                  <table class=\"tskit-table\">\n",
       "                    <thead>\n",
       "                      <tr>\n",
       "                        <th style=\"padding:0;line-height:21px;\">\n",
       "                          <img style=\"height: 32px;display: inline-block;padding: 3px 5px 3px 0;\" src=\"https://raw.githubusercontent.com/tskit-dev/administrative/main/tskit_logo.svg\"/>\n",
       "                          <a target=\"_blank\" href=\"https://tskit.dev/tskit/docs/latest/python-api.html#the-treesequence-class\"> Tree Sequence </a>\n",
       "                        </th>\n",
       "                      </tr>\n",
       "                    </thead>\n",
       "                    <tbody>\n",
       "                      <tr><td>Trees</td><td>1</td></tr>\n",
       "                      <tr><td>Sequence Length</td><td>1000000.0</td></tr>\n",
       "                      <tr><td>Time Units</td><td>generations</td></tr>\n",
       "                      <tr><td>Sample Nodes</td><td>30</td></tr>\n",
       "                      <tr><td>Total Size</td><td>7.0 KiB</td></tr>\n",
       "                      <tr>\n",
       "                        <td>Metadata</td><td style=\"text-align: left;\">No Metadata</td></tr>\n",
       "                    </tbody>\n",
       "                  </table>\n",
       "                </div>\n",
       "                <div class=\"tskit-table-set-table\">\n",
       "                  <table class=\"tskit-table\">\n",
       "                    <thead>\n",
       "                      <tr>\n",
       "                        <th style=\"line-height:21px;\">Table</th>\n",
       "                        <th>Rows</th>\n",
       "                        <th>Size</th>\n",
       "                        <th>Has Metadata</th>\n",
       "                      </tr>\n",
       "                    </thead>\n",
       "                    <tbody>\n",
       "                    \n",
       "                  <tr>\n",
       "                    <td>Edges</td>\n",
       "                      <td>58</td>\n",
       "                      <td>1.8 KiB</td>\n",
       "                      <td style=\"text-align: center;\">\n",
       "                        \n",
       "                      </td>\n",
       "                    </tr>\n",
       "                \n",
       "                  <tr>\n",
       "                    <td>Individuals</td>\n",
       "                      <td>15</td>\n",
       "                      <td>444 Bytes</td>\n",
       "                      <td style=\"text-align: center;\">\n",
       "                        \n",
       "                      </td>\n",
       "                    </tr>\n",
       "                \n",
       "                  <tr>\n",
       "                    <td>Migrations</td>\n",
       "                      <td>0</td>\n",
       "                      <td>8 Bytes</td>\n",
       "                      <td style=\"text-align: center;\">\n",
       "                        \n",
       "                      </td>\n",
       "                    </tr>\n",
       "                \n",
       "                  <tr>\n",
       "                    <td>Mutations</td>\n",
       "                      <td>0</td>\n",
       "                      <td>16 Bytes</td>\n",
       "                      <td style=\"text-align: center;\">\n",
       "                        \n",
       "                      </td>\n",
       "                    </tr>\n",
       "                \n",
       "                  <tr>\n",
       "                    <td>Nodes</td>\n",
       "                      <td>59</td>\n",
       "                      <td>1.6 KiB</td>\n",
       "                      <td style=\"text-align: center;\">\n",
       "                        \n",
       "                      </td>\n",
       "                    </tr>\n",
       "                \n",
       "                  <tr>\n",
       "                    <td>Populations</td>\n",
       "                      <td>5</td>\n",
       "                      <td>390 Bytes</td>\n",
       "                      <td style=\"text-align: center;\">\n",
       "                        ✅\n",
       "                      </td>\n",
       "                    </tr>\n",
       "                \n",
       "                  <tr>\n",
       "                    <td>Provenances</td>\n",
       "                      <td>1</td>\n",
       "                      <td>2.2 KiB</td>\n",
       "                      <td style=\"text-align: center;\">\n",
       "                        \n",
       "                      </td>\n",
       "                    </tr>\n",
       "                \n",
       "                  <tr>\n",
       "                    <td>Sites</td>\n",
       "                      <td>0</td>\n",
       "                      <td>16 Bytes</td>\n",
       "                      <td style=\"text-align: center;\">\n",
       "                        \n",
       "                      </td>\n",
       "                    </tr>\n",
       "                \n",
       "                    </tbody>\n",
       "                  </table>\n",
       "                </div>\n",
       "              </div>\n",
       "            </div>\n",
       "            "
      ],
      "text/plain": [
       "<tskit.trees.TreeSequence at 0x110483370>"
      ]
     },
     "execution_count": 60,
     "metadata": {},
     "output_type": "execute_result"
    }
   ],
   "source": [
    "demography = msprime.Demography()\n",
    "demography.add_population(name = 'ppn', initial_size = 18000)\n",
    "demography.add_population(name = 'ptt', initial_size = 30000)\n",
    "demography.add_population(name = 'ptv', initial_size = 15000)\n",
    "demography.add_population(name = 'ptt_ptv', initial_size = 15000)\n",
    "demography.add_population(name = 'ppn_ptt_ptv', initial_size = 20000)\n",
    "demography.add_population_split(time = 20000, derived = ['ptt', 'ptv'], ancestral = 'ptt_ptv')\n",
    "demography.add_population_split(time = 75200, derived = ['ppn', 'ptt_ptv'], ancestral = 'ppn_ptt_ptv')\n",
    "ts = msprime.sim_ancestry(samples={'ppn': 5, 'ptt': 5, 'ptv': 5}, demography = demography, sequence_length = 1000000, random_seed = 6783)\n",
    "mts = msprime.sim_mutations(ts, rate=1.25e-8, random_seed = 85296)\n",
    "ts"
   ]
  },
  {
   "cell_type": "markdown",
   "id": "75e00e8b",
   "metadata": {},
   "source": [
    "Visualize."
   ]
  },
  {
   "cell_type": "code",
   "execution_count": 61,
   "id": "17521f18",
   "metadata": {
    "scrolled": false
   },
   "outputs": [
    {
     "data": {
      "image/svg+xml": [
       "<svg xmlns=\"http://www.w3.org/2000/svg\" xmlns:ev=\"http://www.w3.org/2001/xml-events\" xmlns:xlink=\"http://www.w3.org/1999/xlink\" baseProfile=\"full\" height=\"400\" version=\"1.1\" width=\"1000\"><defs><style type=\"text/css\"><![CDATA[.background path {fill: #808080; fill-opacity: 0}.background path:nth-child(odd) {fill-opacity: .1}.axes {font-size: 14px}.x-axis .tick .lab {font-weight: bold; dominant-baseline: hanging}.axes, .tree {font-size: 14px; text-anchor: middle}.axes line, .edge {stroke: black; fill: none}.y-axis .grid {stroke: #FAFAFA}.node > .sym {fill: black; stroke: none}.site > .sym {stroke: black}.mut text {fill: red; font-style: italic}.mut.extra text {fill: hotpink}.mut line {fill: none; stroke: none}.mut .sym {fill: none; stroke: red}.mut.extra .sym {stroke: hotpink}.node .mut .sym {stroke-width: 1.5px}.tree text, .tree-sequence text {dominant-baseline: central}.plotbox .lab.lft {text-anchor: end}.plotbox .lab.rgt {text-anchor: start}]]></style></defs><g class=\"tree-sequence\"><g class=\"background\"><path d=\"M56.8,0 l923.2,0 l0,338.2 l0,25 l0,5 l-923.2,0 l0,-5 l0,-25 l0,-338.2z\"/></g><g class=\"axes\"><g class=\"x-axis\"><g transform=\"translate(518.4 400)\"><text class=\"lab\" text-anchor=\"middle\" transform=\"translate(0 -11)\">Genome position</text></g><line x1=\"56.8\" x2=\"980\" y1=\"363.2\" y2=\"363.2\"/><g class=\"ticks\"><g class=\"tick\" transform=\"translate(56.8 363.2)\"><line x1=\"0\" x2=\"0\" y1=\"0\" y2=\"5\"/><g transform=\"translate(0 6)\"><text class=\"lab\">0</text></g></g><g class=\"tick\" transform=\"translate(980 363.2)\"><line x1=\"0\" x2=\"0\" y1=\"0\" y2=\"5\"/><g transform=\"translate(0 6)\"><text class=\"lab\">1000000</text></g></g></g></g><g class=\"y-axis\"><g transform=\"translate(0 165.7)\"><text class=\"lab\" text-anchor=\"middle\" transform=\"translate(11) rotate(-90)\">Time (generations)</text></g><line x1=\"56.8\" x2=\"56.8\" y1=\"321.4\" y2=\"10\"/><g class=\"ticks\"><g class=\"tick\" transform=\"translate(56.8 321.4)\"><line x1=\"0\" x2=\"-5\" y1=\"0\" y2=\"0\"/><g transform=\"translate(-6 0)\"><text class=\"lab\" text-anchor=\"end\">0.00</text></g></g><g class=\"tick\" transform=\"translate(56.8 321.283)\"><line x1=\"0\" x2=\"-5\" y1=\"0\" y2=\"0\"/><g transform=\"translate(-6 0)\"><text class=\"lab\" text-anchor=\"end\">37.17</text></g></g><g class=\"tick\" transform=\"translate(56.8 321.099)\"><line x1=\"0\" x2=\"-5\" y1=\"0\" y2=\"0\"/><g transform=\"translate(-6 0)\"><text class=\"lab\" text-anchor=\"end\">95.94</text></g></g><g class=\"tick\" transform=\"translate(56.8 320.434)\"><line x1=\"0\" x2=\"-5\" y1=\"0\" y2=\"0\"/><g transform=\"translate(-6 0)\"><text class=\"lab\" text-anchor=\"end\">308.17</text></g></g><g class=\"tick\" transform=\"translate(56.8 320.311)\"><line x1=\"0\" x2=\"-5\" y1=\"0\" y2=\"0\"/><g transform=\"translate(-6 0)\"><text class=\"lab\" text-anchor=\"end\">347.13</text></g></g><g class=\"tick\" transform=\"translate(56.8 319.883)\"><line x1=\"0\" x2=\"-5\" y1=\"0\" y2=\"0\"/><g transform=\"translate(-6 0)\"><text class=\"lab\" text-anchor=\"end\">483.70</text></g></g><g class=\"tick\" transform=\"translate(56.8 319.229)\"><line x1=\"0\" x2=\"-5\" y1=\"0\" y2=\"0\"/><g transform=\"translate(-6 0)\"><text class=\"lab\" text-anchor=\"end\">692.29</text></g></g><g class=\"tick\" transform=\"translate(56.8 318.297)\"><line x1=\"0\" x2=\"-5\" y1=\"0\" y2=\"0\"/><g transform=\"translate(-6 0)\"><text class=\"lab\" text-anchor=\"end\">989.25</text></g></g><g class=\"tick\" transform=\"translate(56.8 317.825)\"><line x1=\"0\" x2=\"-5\" y1=\"0\" y2=\"0\"/><g transform=\"translate(-6 0)\"><text class=\"lab\" text-anchor=\"end\">1139.98</text></g></g><g class=\"tick\" transform=\"translate(56.8 315.54)\"><line x1=\"0\" x2=\"-5\" y1=\"0\" y2=\"0\"/><g transform=\"translate(-6 0)\"><text class=\"lab\" text-anchor=\"end\">1868.60</text></g></g><g class=\"tick\" transform=\"translate(56.8 314.944)\"><line x1=\"0\" x2=\"-5\" y1=\"0\" y2=\"0\"/><g transform=\"translate(-6 0)\"><text class=\"lab\" text-anchor=\"end\">2058.35</text></g></g><g class=\"tick\" transform=\"translate(56.8 314.651)\"><line x1=\"0\" x2=\"-5\" y1=\"0\" y2=\"0\"/><g transform=\"translate(-6 0)\"><text class=\"lab\" text-anchor=\"end\">2152.05</text></g></g><g class=\"tick\" transform=\"translate(56.8 312.331)\"><line x1=\"0\" x2=\"-5\" y1=\"0\" y2=\"0\"/><g transform=\"translate(-6 0)\"><text class=\"lab\" text-anchor=\"end\">2891.67</text></g></g><g class=\"tick\" transform=\"translate(56.8 311.245)\"><line x1=\"0\" x2=\"-5\" y1=\"0\" y2=\"0\"/><g transform=\"translate(-6 0)\"><text class=\"lab\" text-anchor=\"end\">3238.04</text></g></g><g class=\"tick\" transform=\"translate(56.8 298.693)\"><line x1=\"0\" x2=\"-5\" y1=\"0\" y2=\"0\"/><g transform=\"translate(-6 0)\"><text class=\"lab\" text-anchor=\"end\">7240.05</text></g></g><g class=\"tick\" transform=\"translate(56.8 298.415)\"><line x1=\"0\" x2=\"-5\" y1=\"0\" y2=\"0\"/><g transform=\"translate(-6 0)\"><text class=\"lab\" text-anchor=\"end\">7328.90</text></g></g><g class=\"tick\" transform=\"translate(56.8 295.895)\"><line x1=\"0\" x2=\"-5\" y1=\"0\" y2=\"0\"/><g transform=\"translate(-6 0)\"><text class=\"lab\" text-anchor=\"end\">8132.37</text></g></g><g class=\"tick\" transform=\"translate(56.8 290.17)\"><line x1=\"0\" x2=\"-5\" y1=\"0\" y2=\"0\"/><g transform=\"translate(-6 0)\"><text class=\"lab\" text-anchor=\"end\">9957.65</text></g></g><g class=\"tick\" transform=\"translate(56.8 286.611)\"><line x1=\"0\" x2=\"-5\" y1=\"0\" y2=\"0\"/><g transform=\"translate(-6 0)\"><text class=\"lab\" text-anchor=\"end\">11092.52</text></g></g><g class=\"tick\" transform=\"translate(56.8 283.921)\"><line x1=\"0\" x2=\"-5\" y1=\"0\" y2=\"0\"/><g transform=\"translate(-6 0)\"><text class=\"lab\" text-anchor=\"end\">11950.30</text></g></g><g class=\"tick\" transform=\"translate(56.8 277.524)\"><line x1=\"0\" x2=\"-5\" y1=\"0\" y2=\"0\"/><g transform=\"translate(-6 0)\"><text class=\"lab\" text-anchor=\"end\">13989.77</text></g></g><g class=\"tick\" transform=\"translate(56.8 276.469)\"><line x1=\"0\" x2=\"-5\" y1=\"0\" y2=\"0\"/><g transform=\"translate(-6 0)\"><text class=\"lab\" text-anchor=\"end\">14326.31</text></g></g><g class=\"tick\" transform=\"translate(56.8 263.611)\"><line x1=\"0\" x2=\"-5\" y1=\"0\" y2=\"0\"/><g transform=\"translate(-6 0)\"><text class=\"lab\" text-anchor=\"end\">18426.04</text></g></g><g class=\"tick\" transform=\"translate(56.8 255.755)\"><line x1=\"0\" x2=\"-5\" y1=\"0\" y2=\"0\"/><g transform=\"translate(-6 0)\"><text class=\"lab\" text-anchor=\"end\">20930.87</text></g></g><g class=\"tick\" transform=\"translate(56.8 237.669)\"><line x1=\"0\" x2=\"-5\" y1=\"0\" y2=\"0\"/><g transform=\"translate(-6 0)\"><text class=\"lab\" text-anchor=\"end\">26697.64</text></g></g><g class=\"tick\" transform=\"translate(56.8 207.782)\"><line x1=\"0\" x2=\"-5\" y1=\"0\" y2=\"0\"/><g transform=\"translate(-6 0)\"><text class=\"lab\" text-anchor=\"end\">36227.30</text></g></g><g class=\"tick\" transform=\"translate(56.8 207.631)\"><line x1=\"0\" x2=\"-5\" y1=\"0\" y2=\"0\"/><g transform=\"translate(-6 0)\"><text class=\"lab\" text-anchor=\"end\">36275.44</text></g></g><g class=\"tick\" transform=\"translate(56.8 197.752)\"><line x1=\"0\" x2=\"-5\" y1=\"0\" y2=\"0\"/><g transform=\"translate(-6 0)\"><text class=\"lab\" text-anchor=\"end\">39425.33</text></g></g><g class=\"tick\" transform=\"translate(56.8 67.723)\"><line x1=\"0\" x2=\"-5\" y1=\"0\" y2=\"0\"/><g transform=\"translate(-6 0)\"><text class=\"lab\" text-anchor=\"end\">80885.17</text></g></g><g class=\"tick\" transform=\"translate(56.8 26.8)\"><line x1=\"0\" x2=\"-5\" y1=\"0\" y2=\"0\"/><g transform=\"translate(-6 0)\"><text class=\"lab\" text-anchor=\"end\">93933.52</text></g></g></g></g></g><g class=\"plotbox trees\"><g class=\"tree t0\" transform=\"translate(56.8 0)\"><g class=\"plotbox\"><g class=\"c2 node n58 p4 root\" transform=\"translate(486.498 26.8)\"><g class=\"a58 c2 node n56 p0\" transform=\"translate(-284.338 170.952)\"><g class=\"a56 c2 node n39 p0\" transform=\"translate(75.44 117.193)\"><g class=\"a39 i4 leaf node n8 p0 sample\" transform=\"translate(22.08 6.45553)\"><path class=\"edge\" d=\"M 0 0 V -6.45553 H -22.08\"/><rect class=\"sym\" height=\"6\" width=\"6\" x=\"-3\" y=\"-3\"/><text class=\"lab\" transform=\"translate(0 11)\">8</text></g><g class=\"a39 c2 node n35 p0\" transform=\"translate(-22.08 4.28432)\"><g class=\"a35 i1 leaf node n3 p0 sample\" transform=\"translate(-14.72 2.17121)\"><path class=\"edge\" d=\"M 0 0 V -2.17121 H 14.72\"/><rect class=\"sym\" height=\"6\" width=\"6\" x=\"-3\" y=\"-3\"/><text class=\"lab\" transform=\"translate(0 11)\">3</text></g><g class=\"a35 i3 leaf node n6 p0 sample\" transform=\"translate(14.72 2.17121)\"><path class=\"edge\" d=\"M 0 0 V -2.17121 H -14.72\"/><rect class=\"sym\" height=\"6\" width=\"6\" x=\"-3\" y=\"-3\"/><text class=\"lab\" transform=\"translate(0 11)\">6</text></g><path class=\"edge\" d=\"M 0 0 V -4.28432 H 22.08\"/><circle class=\"sym\" cx=\"0\" cy=\"0\" r=\"3\"/><text class=\"lab lft\" transform=\"translate(-3 -7.0)\">35</text></g><path class=\"edge\" d=\"M 0 0 V -117.193 H -75.44\"/><circle class=\"sym\" cx=\"0\" cy=\"0\" r=\"3\"/><text class=\"lab rgt\" transform=\"translate(3 -7.0)\">39</text></g><g class=\"a56 c2 node n54 p0\" transform=\"translate(-75.44 10.0299)\"><g class=\"a54 c2 node n40 p0\" transform=\"translate(47.84 106.869)\"><g class=\"a40 i0 leaf node n1 p0 sample\" transform=\"translate(-22.08 6.74941)\"><path class=\"edge\" d=\"M 0 0 V -6.74941 H 22.08\"/><rect class=\"sym\" height=\"6\" width=\"6\" x=\"-3\" y=\"-3\"/><text class=\"lab\" transform=\"translate(0 11)\">1</text></g><g class=\"a40 c2 node n36 p0\" transform=\"translate(22.08 3.64687)\"><g class=\"a36 i1 leaf node n2 p0 sample\" transform=\"translate(-14.72 3.10254)\"><path class=\"edge\" d=\"M 0 0 V -3.10254 H 14.72\"/><rect class=\"sym\" height=\"6\" width=\"6\" x=\"-3\" y=\"-3\"/><text class=\"lab\" transform=\"translate(0 11)\">2</text></g><g class=\"a36 i2 leaf node n5 p0 sample\" transform=\"translate(14.72 3.10254)\"><path class=\"edge\" d=\"M 0 0 V -3.10254 H -14.72\"/><rect class=\"sym\" height=\"6\" width=\"6\" x=\"-3\" y=\"-3\"/><text class=\"lab\" transform=\"translate(0 11)\">5</text></g><path class=\"edge\" d=\"M 0 0 V -3.64687 H -22.08\"/><circle class=\"sym\" cx=\"0\" cy=\"0\" r=\"3\"/><text class=\"lab rgt\" transform=\"translate(3 -7.0)\">36</text></g><path class=\"edge\" d=\"M 0 0 V -106.869 H -47.84\"/><circle class=\"sym\" cx=\"0\" cy=\"0\" r=\"3\"/><text class=\"lab rgt\" transform=\"translate(3 -7.0)\">40</text></g><g class=\"a54 c2 node n50 p0\" transform=\"translate(-47.84 68.6872)\"><g class=\"a50 c2 node n41 p0\" transform=\"translate(29.44 35.862)\"><g class=\"a41 i3 leaf node n7 p0 sample\" transform=\"translate(-14.72 9.06905)\"><path class=\"edge\" d=\"M 0 0 V -9.06905 H 14.72\"/><rect class=\"sym\" height=\"6\" width=\"6\" x=\"-3\" y=\"-3\"/><text class=\"lab\" transform=\"translate(0 11)\">7</text></g><g class=\"a41 i4 leaf node n9 p0 sample\" transform=\"translate(14.72 9.06905)\"><path class=\"edge\" d=\"M 0 0 V -9.06905 H -14.72\"/><rect class=\"sym\" height=\"6\" width=\"6\" x=\"-3\" y=\"-3\"/><text class=\"lab\" transform=\"translate(0 11)\">9</text></g><path class=\"edge\" d=\"M 0 0 V -35.862 H -29.44\"/><circle class=\"sym\" cx=\"0\" cy=\"0\" r=\"3\"/><text class=\"lab rgt\" transform=\"translate(3 -7.0)\">41</text></g><g class=\"a50 c2 node n48 p0\" transform=\"translate(-29.44 7.45177)\"><g class=\"a48 i0 leaf node n0 p0 sample\" transform=\"translate(-14.72 37.4793)\"><path class=\"edge\" d=\"M 0 0 V -37.4793 H 14.72\"/><rect class=\"sym\" height=\"6\" width=\"6\" x=\"-3\" y=\"-3\"/><text class=\"lab\" transform=\"translate(0 11)\">0</text></g><g class=\"a48 i2 leaf node n4 p0 sample\" transform=\"translate(14.72 37.4793)\"><path class=\"edge\" d=\"M 0 0 V -37.4793 H -14.72\"/><rect class=\"sym\" height=\"6\" width=\"6\" x=\"-3\" y=\"-3\"/><text class=\"lab\" transform=\"translate(0 11)\">4</text></g><path class=\"edge\" d=\"M 0 0 V -7.45177 H 29.44\"/><circle class=\"sym\" cx=\"0\" cy=\"0\" r=\"3\"/><text class=\"lab lft\" transform=\"translate(-3 -7.0)\">48</text></g><path class=\"edge\" d=\"M 0 0 V -68.6872 H 47.84\"/><circle class=\"sym\" cx=\"0\" cy=\"0\" r=\"3\"/><text class=\"lab lft\" transform=\"translate(-3 -7.0)\">50</text></g><path class=\"edge\" d=\"M 0 0 V -10.0299 H 75.44\"/><circle class=\"sym\" cx=\"0\" cy=\"0\" r=\"3\"/><text class=\"lab lft\" transform=\"translate(-3 -7.0)\">54</text></g><path class=\"edge\" d=\"M 0 0 V -170.952 H 284.338\"/><circle class=\"sym\" cx=\"0\" cy=\"0\" r=\"3\"/><text class=\"lab lft\" transform=\"translate(-3 -7.0)\">56</text></g><g class=\"a58 c2 node n57 p4\" transform=\"translate(284.338 40.923)\"><g class=\"a57 c2 node n32 p1\" transform=\"translate(102.925 252.71)\"><g class=\"a32 i5 leaf node n11 p1 sample\" transform=\"translate(-14.72 0.966494)\"><path class=\"edge\" d=\"M 0 0 V -0.966494 H 14.72\"/><rect class=\"sym\" height=\"6\" width=\"6\" x=\"-3\" y=\"-3\"/><text class=\"lab\" transform=\"translate(0 11)\">11</text></g><g class=\"a32 i7 leaf node n14 p1 sample\" transform=\"translate(14.72 0.966494)\"><path class=\"edge\" d=\"M 0 0 V -0.966494 H -14.72\"/><rect class=\"sym\" height=\"6\" width=\"6\" x=\"-3\" y=\"-3\"/><text class=\"lab\" transform=\"translate(0 11)\">14</text></g><path class=\"edge\" d=\"M 0 0 V -252.71 H -102.925\"/><circle class=\"sym\" cx=\"0\" cy=\"0\" r=\"3\"/><text class=\"lab rgt\" transform=\"translate(3 -7.0)\">32</text></g><g class=\"a57 c2 node n55 p3\" transform=\"translate(-102.925 139.908)\"><g class=\"a55 c2 node n45 p2\" transform=\"translate(128.57 88.264)\"><g class=\"a45 i12 leaf node n24 p2 sample\" transform=\"translate(33.12 25.5052)\"><path class=\"edge\" d=\"M 0 0 V -25.5052 H -33.12\"/><rect class=\"sym\" height=\"6\" width=\"6\" x=\"-3\" y=\"-3\"/><text class=\"lab\" transform=\"translate(0 11)\">24</text></g><g class=\"a45 c2 node n42 p2\" transform=\"translate(-33.12 15.3499)\"><g class=\"a42 i14 leaf node n28 p2 sample\" transform=\"translate(36.8 10.1553)\"><path class=\"edge\" d=\"M 0 0 V -10.1553 H -36.8\"/><rect class=\"sym\" height=\"6\" width=\"6\" x=\"-3\" y=\"-3\"/><text class=\"lab\" transform=\"translate(0 11)\">28</text></g><g class=\"a42 c2 node n38 p2\" transform=\"translate(-36.8 4.29492)\"><g class=\"a38 c2 node n30 p2\" transform=\"translate(-29.44 5.74385)\"><g class=\"a30 i11 leaf node n22 p2 sample\" transform=\"translate(-14.72 0.116565)\"><path class=\"edge\" d=\"M 0 0 V -0.116565 H 14.72\"/><rect class=\"sym\" height=\"6\" width=\"6\" x=\"-3\" y=\"-3\"/><text class=\"lab\" transform=\"translate(0 11)\">22</text></g><g class=\"a30 i14 leaf node n29 p2 sample\" transform=\"translate(14.72 0.116565)\"><path class=\"edge\" d=\"M 0 0 V -0.116565 H -14.72\"/><rect class=\"sym\" height=\"6\" width=\"6\" x=\"-3\" y=\"-3\"/><text class=\"lab\" transform=\"translate(0 11)\">29</text></g><path class=\"edge\" d=\"M 0 0 V -5.74385 H 29.44\"/><circle class=\"sym\" cx=\"0\" cy=\"0\" r=\"3\"/><text class=\"lab lft\" transform=\"translate(-3 -7.0)\">30</text></g><g class=\"a38 c2 node n33 p2\" transform=\"translate(29.44 4.77171)\"><g class=\"a33 i12 leaf node n25 p2 sample\" transform=\"translate(-14.72 1.0887)\"><path class=\"edge\" d=\"M 0 0 V -1.0887 H 14.72\"/><rect class=\"sym\" height=\"6\" width=\"6\" x=\"-3\" y=\"-3\"/><text class=\"lab\" transform=\"translate(0 11)\">25</text></g><g class=\"a33 i13 leaf node n27 p2 sample\" transform=\"translate(14.72 1.0887)\"><path class=\"edge\" d=\"M 0 0 V -1.0887 H -14.72\"/><rect class=\"sym\" height=\"6\" width=\"6\" x=\"-3\" y=\"-3\"/><text class=\"lab\" transform=\"translate(0 11)\">27</text></g><path class=\"edge\" d=\"M 0 0 V -4.77171 H -29.44\"/><circle class=\"sym\" cx=\"0\" cy=\"0\" r=\"3\"/><text class=\"lab rgt\" transform=\"translate(3 -7.0)\">33</text></g><path class=\"edge\" d=\"M 0 0 V -4.29492 H 36.8\"/><circle class=\"sym\" cx=\"0\" cy=\"0\" r=\"3\"/><text class=\"lab lft\" transform=\"translate(-3 -7.0)\">38</text></g><path class=\"edge\" d=\"M 0 0 V -15.3499 H 33.12\"/><circle class=\"sym\" cx=\"0\" cy=\"0\" r=\"3\"/><text class=\"lab lft\" transform=\"translate(-3 -7.0)\">42</text></g><path class=\"edge\" d=\"M 0 0 V -88.264 H -128.57\"/><circle class=\"sym\" cx=\"0\" cy=\"0\" r=\"3\"/><text class=\"lab rgt\" transform=\"translate(3 -7.0)\">45</text></g><g class=\"a55 c2 node n53 p3\" transform=\"translate(-128.57 30.0385)\"><g class=\"a53 c2 node n34 p1\" transform=\"translate(76.82 82.2138)\"><g class=\"a34 i7 leaf node n15 p1 sample\" transform=\"translate(-22.08 1.517)\"><path class=\"edge\" d=\"M 0 0 V -1.517 H 22.08\"/><rect class=\"sym\" height=\"6\" width=\"6\" x=\"-3\" y=\"-3\"/><text class=\"lab\" transform=\"translate(0 11)\">15</text></g><g class=\"a34 c2 node n31 p1\" transform=\"translate(22.08 1.21611)\"><g class=\"a31 i8 leaf node n16 p1 sample\" transform=\"translate(-14.72 0.30089)\"><path class=\"edge\" d=\"M 0 0 V -0.30089 H 14.72\"/><rect class=\"sym\" height=\"6\" width=\"6\" x=\"-3\" y=\"-3\"/><text class=\"lab\" transform=\"translate(0 11)\">16</text></g><g class=\"a31 i9 leaf node n19 p1 sample\" transform=\"translate(14.72 0.30089)\"><path class=\"edge\" d=\"M 0 0 V -0.30089 H -14.72\"/><rect class=\"sym\" height=\"6\" width=\"6\" x=\"-3\" y=\"-3\"/><text class=\"lab\" transform=\"translate(0 11)\">19</text></g><path class=\"edge\" d=\"M 0 0 V -1.21611 H -22.08\"/><circle class=\"sym\" cx=\"0\" cy=\"0\" r=\"3\"/><text class=\"lab rgt\" transform=\"translate(3 -7.0)\">31</text></g><path class=\"edge\" d=\"M 0 0 V -82.2138 H -76.82\"/><circle class=\"sym\" cx=\"0\" cy=\"0\" r=\"3\"/><text class=\"lab rgt\" transform=\"translate(3 -7.0)\">34</text></g><g class=\"a53 c2 node n52 p3\" transform=\"translate(-76.82 18.0861)\"><g class=\"a52 c2 node n49 p1\" transform=\"translate(-46.92 21.7691)\"><g class=\"a49 i9 leaf node n18 p1 sample\" transform=\"translate(31.28 43.8756)\"><path class=\"edge\" d=\"M 0 0 V -43.8756 H -31.28\"/><rect class=\"sym\" height=\"6\" width=\"6\" x=\"-3\" y=\"-3\"/><text class=\"lab\" transform=\"translate(0 11)\">18</text></g><g class=\"a49 c2 node n46 p1\" transform=\"translate(-31.28 12.6458)\"><g class=\"a46 i6 leaf node n13 p1 sample\" transform=\"translate(33.12 31.2298)\"><path class=\"edge\" d=\"M 0 0 V -31.2298 H -33.12\"/><rect class=\"sym\" height=\"6\" width=\"6\" x=\"-3\" y=\"-3\"/><text class=\"lab\" transform=\"translate(0 11)\">13</text></g><g class=\"a46 c2 node n43 p1\" transform=\"translate(-33.12 8.52309)\"><g class=\"a43 i5 leaf node n10 p1 sample\" transform=\"translate(-22.08 22.7067)\"><path class=\"edge\" d=\"M 0 0 V -22.7067 H 22.08\"/><rect class=\"sym\" height=\"6\" width=\"6\" x=\"-3\" y=\"-3\"/><text class=\"lab\" transform=\"translate(0 11)\">10</text></g><g class=\"a43 c2 node n37 p1\" transform=\"translate(22.08 19.1314)\"><g class=\"a37 i6 leaf node n12 p1 sample\" transform=\"translate(-14.72 3.57528)\"><path class=\"edge\" d=\"M 0 0 V -3.57528 H 14.72\"/><rect class=\"sym\" height=\"6\" width=\"6\" x=\"-3\" y=\"-3\"/><text class=\"lab\" transform=\"translate(0 11)\">12</text></g><g class=\"a37 i8 leaf node n17 p1 sample\" transform=\"translate(14.72 3.57528)\"><path class=\"edge\" d=\"M 0 0 V -3.57528 H -14.72\"/><rect class=\"sym\" height=\"6\" width=\"6\" x=\"-3\" y=\"-3\"/><text class=\"lab\" transform=\"translate(0 11)\">17</text></g><path class=\"edge\" d=\"M 0 0 V -19.1314 H -22.08\"/><circle class=\"sym\" cx=\"0\" cy=\"0\" r=\"3\"/><text class=\"lab rgt\" transform=\"translate(3 -7.0)\">37</text></g><path class=\"edge\" d=\"M 0 0 V -8.52309 H 33.12\"/><circle class=\"sym\" cx=\"0\" cy=\"0\" r=\"3\"/><text class=\"lab lft\" transform=\"translate(-3 -7.0)\">43</text></g><path class=\"edge\" d=\"M 0 0 V -12.6458 H 31.28\"/><circle class=\"sym\" cx=\"0\" cy=\"0\" r=\"3\"/><text class=\"lab lft\" transform=\"translate(-3 -7.0)\">46</text></g><path class=\"edge\" d=\"M 0 0 V -21.7691 H 46.92\"/><circle class=\"sym\" cx=\"0\" cy=\"0\" r=\"3\"/><text class=\"lab lft\" transform=\"translate(-3 -7.0)\">49</text></g><g class=\"a52 c2 node n51 p2\" transform=\"translate(46.92 7.8558)\"><g class=\"a51 i10 leaf node n20 p2 sample\" transform=\"translate(-33.12 57.7889)\"><path class=\"edge\" d=\"M 0 0 V -57.7889 H 33.12\"/><rect class=\"sym\" height=\"6\" width=\"6\" x=\"-3\" y=\"-3\"/><text class=\"lab\" transform=\"translate(0 11)\">20</text></g><g class=\"a51 c2 node n47 p2\" transform=\"translate(33.12 22.9998)\"><g class=\"a47 i11 leaf node n23 p2 sample\" transform=\"translate(22.08 34.789)\"><path class=\"edge\" d=\"M 0 0 V -34.789 H -22.08\"/><rect class=\"sym\" height=\"6\" width=\"6\" x=\"-3\" y=\"-3\"/><text class=\"lab\" transform=\"translate(0 11)\">23</text></g><g class=\"a47 c2 node n44 p2\" transform=\"translate(-22.08 11.8037)\"><g class=\"a44 i10 leaf node n21 p2 sample\" transform=\"translate(-14.72 22.9853)\"><path class=\"edge\" d=\"M 0 0 V -22.9853 H 14.72\"/><rect class=\"sym\" height=\"6\" width=\"6\" x=\"-3\" y=\"-3\"/><text class=\"lab\" transform=\"translate(0 11)\">21</text></g><g class=\"a44 i13 leaf node n26 p2 sample\" transform=\"translate(14.72 22.9853)\"><path class=\"edge\" d=\"M 0 0 V -22.9853 H -14.72\"/><rect class=\"sym\" height=\"6\" width=\"6\" x=\"-3\" y=\"-3\"/><text class=\"lab\" transform=\"translate(0 11)\">26</text></g><path class=\"edge\" d=\"M 0 0 V -11.8037 H 22.08\"/><circle class=\"sym\" cx=\"0\" cy=\"0\" r=\"3\"/><text class=\"lab lft\" transform=\"translate(-3 -7.0)\">44</text></g><path class=\"edge\" d=\"M 0 0 V -22.9998 H -33.12\"/><circle class=\"sym\" cx=\"0\" cy=\"0\" r=\"3\"/><text class=\"lab rgt\" transform=\"translate(3 -7.0)\">47</text></g><path class=\"edge\" d=\"M 0 0 V -7.8558 H -46.92\"/><circle class=\"sym\" cx=\"0\" cy=\"0\" r=\"3\"/><text class=\"lab rgt\" transform=\"translate(3 -7.0)\">51</text></g><path class=\"edge\" d=\"M 0 0 V -18.0861 H 76.82\"/><circle class=\"sym\" cx=\"0\" cy=\"0\" r=\"3\"/><text class=\"lab lft\" transform=\"translate(-3 -7.0)\">52</text></g><path class=\"edge\" d=\"M 0 0 V -30.0385 H 128.57\"/><circle class=\"sym\" cx=\"0\" cy=\"0\" r=\"3\"/><text class=\"lab lft\" transform=\"translate(-3 -7.0)\">53</text></g><path class=\"edge\" d=\"M 0 0 V -139.908 H 102.925\"/><circle class=\"sym\" cx=\"0\" cy=\"0\" r=\"3\"/><text class=\"lab lft\" transform=\"translate(-3 -7.0)\">55</text></g><path class=\"edge\" d=\"M 0 0 V -40.923 H -284.338\"/><circle class=\"sym\" cx=\"0\" cy=\"0\" r=\"3\"/><text class=\"lab rgt\" transform=\"translate(3 -7.0)\">57</text></g><circle class=\"sym\" cx=\"0\" cy=\"0\" r=\"3\"/><text class=\"lab\" transform=\"translate(0 -11)\">58</text></g></g></g></g></g></svg>"
      ],
      "text/plain": [
       "<IPython.core.display.SVG object>"
      ]
     },
     "execution_count": 61,
     "metadata": {},
     "output_type": "execute_result"
    }
   ],
   "source": [
    "SVG(ts.draw_svg(y_axis = True, size =(1000, 400)))"
   ]
  },
  {
   "cell_type": "markdown",
   "id": "dd3e464e",
   "metadata": {},
   "source": [
    "Now let's calculate Fst between all pairs of populations. Check the index number of the populations. "
   ]
  },
  {
   "cell_type": "code",
   "execution_count": 62,
   "id": "1b0546e5",
   "metadata": {
    "scrolled": true
   },
   "outputs": [
    {
     "data": {
      "text/html": [
       "<div style=\"margin-left:20px\"><div><style scoped=\"\">\n",
       "            .tskit-table thead tr th:only-of-type {vertical-align: middle;}\n",
       "            .tskit-table thead tr th {text-align: center;vertical-align: top;}\n",
       "            .tskit-table tbody td {text-align: right;padding: 0.5em 0.5em;}\n",
       "            .tskit-table tbody th {padding: 0.5em 0.5em;}\n",
       "        </style><b>Populations (5)</b><table border=\"1\" class=\"tskit-table\"><thead><tr><th>id</th><th>name</th><th>description</th><th>initial_size</th><th>growth_rate</th><th>default_sampling_time</th><th>extra_metadata</th></tr></thead><tbody><tr><td>0</td><td>ppn</td><td></td><td>18000.0</td><td>0</td><td>0</td><td>{}</td></tr><tr><td>1</td><td>ptt</td><td></td><td>30000.0</td><td>0</td><td>0</td><td>{}</td></tr><tr><td>2</td><td>ptv</td><td></td><td>15000.0</td><td>0</td><td>0</td><td>{}</td></tr><tr><td>3</td><td>ptt_ptv</td><td></td><td>15000.0</td><td>0</td><td>2e+04</td><td>{}</td></tr><tr><td>4</td><td>ppn_ptt_ptv</td><td></td><td>20000.0</td><td>0</td><td>7.5e+04</td><td>{}</td></tr></tbody></table></div><div><style scoped=\"\">\n",
       "            .tskit-table thead tr th:only-of-type {vertical-align: middle;}\n",
       "            .tskit-table thead tr th {text-align: center;vertical-align: top;}\n",
       "            .tskit-table tbody td {text-align: right;padding: 0.5em 0.5em;}\n",
       "            .tskit-table tbody th {padding: 0.5em 0.5em;}\n",
       "        </style><b>Migration matrix (all zero)</b><table border=\"1\" class=\"tskit-table\"><thead><tr></tr></thead><tbody></tbody></table></div><div><style scoped=\"\">\n",
       "            .tskit-table thead tr th:only-of-type {vertical-align: middle;}\n",
       "            .tskit-table thead tr th {text-align: center;vertical-align: top;}\n",
       "            .tskit-table tbody td {text-align: right;padding: 0.5em 0.5em;}\n",
       "            .tskit-table tbody th {padding: 0.5em 0.5em;}\n",
       "        </style><b>Events (2)</b><table border=\"1\" class=\"tskit-table\"><thead><tr><th>time</th><th>type</th><th>parameters</th><th>effect</th></tr></thead><tbody><tr><td>2e+04</td><td><a href='https://tskit.dev/msprime/docs/latest/api.html#msprime.Demography.add_population_split'>Population Split</a></td><td>derived=[ptt, ptv], ancestral=ptt_ptv</td><td>Moves all lineages from derived populations &#x27;ptt&#x27; and &#x27;ptv&#x27; to the ancestral &#x27;ptt_ptv&#x27; population. Also set the derived populations to inactive, and all migration rates to and from the derived populations to zero.</td></tr><tr><td>7.52e+04</td><td><a href='https://tskit.dev/msprime/docs/latest/api.html#msprime.Demography.add_population_split'>Population Split</a></td><td>derived=[ppn, ptt_ptv], ancestral=ppn_ptt_ptv</td><td>Moves all lineages from derived populations &#x27;ppn&#x27; and &#x27;ptt_ptv&#x27; to the ancestral &#x27;ppn_ptt_ptv&#x27; population. Also set the derived populations to inactive, and all migration rates to and from the derived populations to zero.</td></tr></tbody></table></div></div>"
      ],
      "text/plain": [
       "Demography(populations=[Population(initial_size=18000, growth_rate=0, name='ppn', description='', extra_metadata={}, default_sampling_time=None, initially_active=None, id=0), Population(initial_size=30000, growth_rate=0, name='ptt', description='', extra_metadata={}, default_sampling_time=None, initially_active=None, id=1), Population(initial_size=15000, growth_rate=0, name='ptv', description='', extra_metadata={}, default_sampling_time=None, initially_active=None, id=2), Population(initial_size=15000, growth_rate=0, name='ptt_ptv', description='', extra_metadata={}, default_sampling_time=20000, initially_active=False, id=3), Population(initial_size=20000, growth_rate=0, name='ppn_ptt_ptv', description='', extra_metadata={}, default_sampling_time=75200, initially_active=False, id=4)], events=[PopulationSplit(time=20000, derived=['ptt', 'ptv'], ancestral='ptt_ptv'), PopulationSplit(time=75200, derived=['ppn', 'ptt_ptv'], ancestral='ppn_ptt_ptv')], migration_matrix=array([[0., 0., 0., 0., 0.],\n",
       "       [0., 0., 0., 0., 0.],\n",
       "       [0., 0., 0., 0., 0.],\n",
       "       [0., 0., 0., 0., 0.],\n",
       "       [0., 0., 0., 0., 0.]]))"
      ]
     },
     "execution_count": 62,
     "metadata": {},
     "output_type": "execute_result"
    }
   ],
   "source": [
    "demography"
   ]
  },
  {
   "cell_type": "markdown",
   "id": "728e8d60",
   "metadata": {},
   "source": [
    "Calculate Fst. Multiway statistics like Fst require specifying the sample sets."
   ]
  },
  {
   "cell_type": "code",
   "execution_count": 63,
   "id": "4eb61c86",
   "metadata": {
    "scrolled": true
   },
   "outputs": [
    {
     "data": {
      "text/plain": [
       "array(0.45293132)"
      ]
     },
     "execution_count": 63,
     "metadata": {},
     "output_type": "execute_result"
    }
   ],
   "source": [
    "mts.Fst(sample_sets=[ts.samples(population = 0), ts.samples(population = 1)])"
   ]
  },
  {
   "cell_type": "code",
   "execution_count": 64,
   "id": "d744eae0",
   "metadata": {},
   "outputs": [
    {
     "data": {
      "text/plain": [
       "array(0.56574832)"
      ]
     },
     "execution_count": 64,
     "metadata": {},
     "output_type": "execute_result"
    }
   ],
   "source": [
    "mts.Fst(sample_sets=[ts.samples(population = 0), ts.samples(population = 2)])"
   ]
  },
  {
   "cell_type": "code",
   "execution_count": 65,
   "id": "958cfd7b",
   "metadata": {},
   "outputs": [
    {
     "data": {
      "text/plain": [
       "array(0.1318674)"
      ]
     },
     "execution_count": 65,
     "metadata": {},
     "output_type": "execute_result"
    }
   ],
   "source": [
    "mts.Fst(sample_sets=[ts.samples(population = 1), ts.samples(population = 2)])"
   ]
  },
  {
   "cell_type": "markdown",
   "id": "c836dfb8",
   "metadata": {},
   "source": [
    "Fst can range from 0 to 1, where 0 reflects less population differentiation and 1 reflect more population differentiation. You should observe a lower value between the populations that diverged closer to the present and higher values between the populations that diverged deeper in the past. However, a lot of parameters can affect this metric. Note: sometimes you will get a negative Fst value. This is due to the bias correction in the Weir and Cockerham (1984) version of Fst that msprime uses. Treat such values as 0."
   ]
  },
  {
   "cell_type": "markdown",
   "id": "dd388084",
   "metadata": {},
   "source": [
    "As aformentioned, you will tackle Fst in the next module so we will go into more detail shortly."
   ]
  },
  {
   "cell_type": "markdown",
   "id": "00a9b58b",
   "metadata": {},
   "source": [
    "**Exercise:** Build a demographic model from scratch that meets the following criteria:\n",
    "- at least three populations\n",
    "- a population split that occurred >= 5000 generations\n",
    "- sequence length of 1000\n",
    "- a mutation rate and recombination rate\n",
    "\n",
    "Plot your ancestry (no need to include the mutations) and calculate some statistic such as pi or Fst. I encourage you to try a statistic that we have not yet covered or write your own if you are comfortable doing so. \n",
    "\n",
    "Available statistics from tskit are described here: https://tskit.dev/tskit/docs/stable/stats.html#.\n",
    "\n",
    "I also encourage you to build a model that is relevant to your own interests/research!"
   ]
  },
  {
   "cell_type": "markdown",
   "id": "de7102e0",
   "metadata": {},
   "source": [
    "# Exporting / Reloading Results"
   ]
  },
  {
   "cell_type": "markdown",
   "id": "65e800cd",
   "metadata": {},
   "source": [
    "## Tree Sequence Format"
   ]
  },
  {
   "cell_type": "markdown",
   "id": "dfec1e89",
   "metadata": {},
   "source": [
    "If you find yourself in need of exporting data in a tree sequence format, you can run the following command whose only argument in the file path."
   ]
  },
  {
   "cell_type": "code",
   "execution_count": 66,
   "id": "7777e929",
   "metadata": {},
   "outputs": [],
   "source": [
    "ts.dump(\"my_tree_sequence.trees\")"
   ]
  },
  {
   "cell_type": "markdown",
   "id": "33782dec",
   "metadata": {},
   "source": [
    "You can also load trees using the .load() function."
   ]
  },
  {
   "cell_type": "code",
   "execution_count": 67,
   "id": "149333b2",
   "metadata": {},
   "outputs": [],
   "source": [
    "new_ts = tskit.load(\"my_tree_sequence.trees\")"
   ]
  },
  {
   "cell_type": "markdown",
   "id": "26cd4634",
   "metadata": {},
   "source": [
    "Let's make sure we loaded the correct file!"
   ]
  },
  {
   "cell_type": "code",
   "execution_count": 68,
   "id": "2de8cc0e",
   "metadata": {},
   "outputs": [
    {
     "data": {
      "text/html": [
       "\n",
       "            <div>\n",
       "              <style>\n",
       "                .tskit-table thead tr th {text-align: left;padding: 0.5em 0.5em;}\n",
       "                .tskit-table tbody tr td {padding: 0.5em 0.5em;}\n",
       "                .tskit-table tbody tr td:first-of-type {text-align: left;}\n",
       "                .tskit-details-label {vertical-align: top; padding-right:5px;}\n",
       "                .tskit-table-set {display: inline-flex;flex-wrap: wrap;margin: -12px 0 0 -12px;width: calc(100% + 12px);}\n",
       "                .tskit-table-set-table {margin: 12px 0 0 12px;}\n",
       "                details {display: inline-block;}\n",
       "                summary {cursor: pointer; outline: 0; display: list-item;}\n",
       "              </style>\n",
       "              <div class=\"tskit-table-set\">\n",
       "                <div class=\"tskit-table-set-table\">\n",
       "                  <table class=\"tskit-table\">\n",
       "                    <thead>\n",
       "                      <tr>\n",
       "                        <th style=\"padding:0;line-height:21px;\">\n",
       "                          <img style=\"height: 32px;display: inline-block;padding: 3px 5px 3px 0;\" src=\"https://raw.githubusercontent.com/tskit-dev/administrative/main/tskit_logo.svg\"/>\n",
       "                          <a target=\"_blank\" href=\"https://tskit.dev/tskit/docs/latest/python-api.html#the-treesequence-class\"> Tree Sequence </a>\n",
       "                        </th>\n",
       "                      </tr>\n",
       "                    </thead>\n",
       "                    <tbody>\n",
       "                      <tr><td>Trees</td><td>1</td></tr>\n",
       "                      <tr><td>Sequence Length</td><td>1000000.0</td></tr>\n",
       "                      <tr><td>Time Units</td><td>generations</td></tr>\n",
       "                      <tr><td>Sample Nodes</td><td>30</td></tr>\n",
       "                      <tr><td>Total Size</td><td>7.0 KiB</td></tr>\n",
       "                      <tr>\n",
       "                        <td>Metadata</td><td style=\"text-align: left;\">No Metadata</td></tr>\n",
       "                    </tbody>\n",
       "                  </table>\n",
       "                </div>\n",
       "                <div class=\"tskit-table-set-table\">\n",
       "                  <table class=\"tskit-table\">\n",
       "                    <thead>\n",
       "                      <tr>\n",
       "                        <th style=\"line-height:21px;\">Table</th>\n",
       "                        <th>Rows</th>\n",
       "                        <th>Size</th>\n",
       "                        <th>Has Metadata</th>\n",
       "                      </tr>\n",
       "                    </thead>\n",
       "                    <tbody>\n",
       "                    \n",
       "                  <tr>\n",
       "                    <td>Edges</td>\n",
       "                      <td>58</td>\n",
       "                      <td>1.8 KiB</td>\n",
       "                      <td style=\"text-align: center;\">\n",
       "                        \n",
       "                      </td>\n",
       "                    </tr>\n",
       "                \n",
       "                  <tr>\n",
       "                    <td>Individuals</td>\n",
       "                      <td>15</td>\n",
       "                      <td>444 Bytes</td>\n",
       "                      <td style=\"text-align: center;\">\n",
       "                        \n",
       "                      </td>\n",
       "                    </tr>\n",
       "                \n",
       "                  <tr>\n",
       "                    <td>Migrations</td>\n",
       "                      <td>0</td>\n",
       "                      <td>8 Bytes</td>\n",
       "                      <td style=\"text-align: center;\">\n",
       "                        \n",
       "                      </td>\n",
       "                    </tr>\n",
       "                \n",
       "                  <tr>\n",
       "                    <td>Mutations</td>\n",
       "                      <td>0</td>\n",
       "                      <td>16 Bytes</td>\n",
       "                      <td style=\"text-align: center;\">\n",
       "                        \n",
       "                      </td>\n",
       "                    </tr>\n",
       "                \n",
       "                  <tr>\n",
       "                    <td>Nodes</td>\n",
       "                      <td>59</td>\n",
       "                      <td>1.6 KiB</td>\n",
       "                      <td style=\"text-align: center;\">\n",
       "                        \n",
       "                      </td>\n",
       "                    </tr>\n",
       "                \n",
       "                  <tr>\n",
       "                    <td>Populations</td>\n",
       "                      <td>5</td>\n",
       "                      <td>390 Bytes</td>\n",
       "                      <td style=\"text-align: center;\">\n",
       "                        ✅\n",
       "                      </td>\n",
       "                    </tr>\n",
       "                \n",
       "                  <tr>\n",
       "                    <td>Provenances</td>\n",
       "                      <td>1</td>\n",
       "                      <td>2.2 KiB</td>\n",
       "                      <td style=\"text-align: center;\">\n",
       "                        \n",
       "                      </td>\n",
       "                    </tr>\n",
       "                \n",
       "                  <tr>\n",
       "                    <td>Sites</td>\n",
       "                      <td>0</td>\n",
       "                      <td>16 Bytes</td>\n",
       "                      <td style=\"text-align: center;\">\n",
       "                        \n",
       "                      </td>\n",
       "                    </tr>\n",
       "                \n",
       "                    </tbody>\n",
       "                  </table>\n",
       "                </div>\n",
       "              </div>\n",
       "            </div>\n",
       "            "
      ],
      "text/plain": [
       "<tskit.trees.TreeSequence at 0x110483370>"
      ]
     },
     "execution_count": 68,
     "metadata": {},
     "output_type": "execute_result"
    }
   ],
   "source": [
    "ts"
   ]
  },
  {
   "cell_type": "code",
   "execution_count": 69,
   "id": "717c40ab",
   "metadata": {
    "scrolled": true
   },
   "outputs": [
    {
     "data": {
      "text/html": [
       "\n",
       "            <div>\n",
       "              <style>\n",
       "                .tskit-table thead tr th {text-align: left;padding: 0.5em 0.5em;}\n",
       "                .tskit-table tbody tr td {padding: 0.5em 0.5em;}\n",
       "                .tskit-table tbody tr td:first-of-type {text-align: left;}\n",
       "                .tskit-details-label {vertical-align: top; padding-right:5px;}\n",
       "                .tskit-table-set {display: inline-flex;flex-wrap: wrap;margin: -12px 0 0 -12px;width: calc(100% + 12px);}\n",
       "                .tskit-table-set-table {margin: 12px 0 0 12px;}\n",
       "                details {display: inline-block;}\n",
       "                summary {cursor: pointer; outline: 0; display: list-item;}\n",
       "              </style>\n",
       "              <div class=\"tskit-table-set\">\n",
       "                <div class=\"tskit-table-set-table\">\n",
       "                  <table class=\"tskit-table\">\n",
       "                    <thead>\n",
       "                      <tr>\n",
       "                        <th style=\"padding:0;line-height:21px;\">\n",
       "                          <img style=\"height: 32px;display: inline-block;padding: 3px 5px 3px 0;\" src=\"https://raw.githubusercontent.com/tskit-dev/administrative/main/tskit_logo.svg\"/>\n",
       "                          <a target=\"_blank\" href=\"https://tskit.dev/tskit/docs/latest/python-api.html#the-treesequence-class\"> Tree Sequence </a>\n",
       "                        </th>\n",
       "                      </tr>\n",
       "                    </thead>\n",
       "                    <tbody>\n",
       "                      <tr><td>Trees</td><td>1</td></tr>\n",
       "                      <tr><td>Sequence Length</td><td>1000000.0</td></tr>\n",
       "                      <tr><td>Time Units</td><td>generations</td></tr>\n",
       "                      <tr><td>Sample Nodes</td><td>30</td></tr>\n",
       "                      <tr><td>Total Size</td><td>7.0 KiB</td></tr>\n",
       "                      <tr>\n",
       "                        <td>Metadata</td><td style=\"text-align: left;\">No Metadata</td></tr>\n",
       "                    </tbody>\n",
       "                  </table>\n",
       "                </div>\n",
       "                <div class=\"tskit-table-set-table\">\n",
       "                  <table class=\"tskit-table\">\n",
       "                    <thead>\n",
       "                      <tr>\n",
       "                        <th style=\"line-height:21px;\">Table</th>\n",
       "                        <th>Rows</th>\n",
       "                        <th>Size</th>\n",
       "                        <th>Has Metadata</th>\n",
       "                      </tr>\n",
       "                    </thead>\n",
       "                    <tbody>\n",
       "                    \n",
       "                  <tr>\n",
       "                    <td>Edges</td>\n",
       "                      <td>58</td>\n",
       "                      <td>1.8 KiB</td>\n",
       "                      <td style=\"text-align: center;\">\n",
       "                        \n",
       "                      </td>\n",
       "                    </tr>\n",
       "                \n",
       "                  <tr>\n",
       "                    <td>Individuals</td>\n",
       "                      <td>15</td>\n",
       "                      <td>444 Bytes</td>\n",
       "                      <td style=\"text-align: center;\">\n",
       "                        \n",
       "                      </td>\n",
       "                    </tr>\n",
       "                \n",
       "                  <tr>\n",
       "                    <td>Migrations</td>\n",
       "                      <td>0</td>\n",
       "                      <td>8 Bytes</td>\n",
       "                      <td style=\"text-align: center;\">\n",
       "                        \n",
       "                      </td>\n",
       "                    </tr>\n",
       "                \n",
       "                  <tr>\n",
       "                    <td>Mutations</td>\n",
       "                      <td>0</td>\n",
       "                      <td>16 Bytes</td>\n",
       "                      <td style=\"text-align: center;\">\n",
       "                        \n",
       "                      </td>\n",
       "                    </tr>\n",
       "                \n",
       "                  <tr>\n",
       "                    <td>Nodes</td>\n",
       "                      <td>59</td>\n",
       "                      <td>1.6 KiB</td>\n",
       "                      <td style=\"text-align: center;\">\n",
       "                        \n",
       "                      </td>\n",
       "                    </tr>\n",
       "                \n",
       "                  <tr>\n",
       "                    <td>Populations</td>\n",
       "                      <td>5</td>\n",
       "                      <td>390 Bytes</td>\n",
       "                      <td style=\"text-align: center;\">\n",
       "                        ✅\n",
       "                      </td>\n",
       "                    </tr>\n",
       "                \n",
       "                  <tr>\n",
       "                    <td>Provenances</td>\n",
       "                      <td>1</td>\n",
       "                      <td>2.2 KiB</td>\n",
       "                      <td style=\"text-align: center;\">\n",
       "                        \n",
       "                      </td>\n",
       "                    </tr>\n",
       "                \n",
       "                  <tr>\n",
       "                    <td>Sites</td>\n",
       "                      <td>0</td>\n",
       "                      <td>16 Bytes</td>\n",
       "                      <td style=\"text-align: center;\">\n",
       "                        \n",
       "                      </td>\n",
       "                    </tr>\n",
       "                \n",
       "                    </tbody>\n",
       "                  </table>\n",
       "                </div>\n",
       "              </div>\n",
       "            </div>\n",
       "            "
      ],
      "text/plain": [
       "<tskit.trees.TreeSequence at 0x110441ac0>"
      ]
     },
     "execution_count": 69,
     "metadata": {},
     "output_type": "execute_result"
    }
   ],
   "source": [
    "new_ts"
   ]
  },
  {
   "cell_type": "markdown",
   "id": "fa049ca2",
   "metadata": {},
   "source": [
    "## Other Formats"
   ]
  },
  {
   "cell_type": "markdown",
   "id": "5b7a4b3f",
   "metadata": {},
   "source": [
    "Most often, we are interested in"
   ]
  },
  {
   "cell_type": "markdown",
   "id": "3d41eae0",
   "metadata": {},
   "source": [
    "# Replication"
   ]
  },
  {
   "cell_type": "markdown",
   "id": "05fba6e5",
   "metadata": {},
   "source": [
    "Very often, we want to compare a null distribution to some observed value(s). To do so, requires running lots of simulations. Generally, it's best to only store a single simulation in memory at a time and store the desired results in a list. To do so, we can write a function to do the ancestry simulation first and then a mutation simulation. We can define any variables whose value we probably won't tinker with inside the function. "
   ]
  },
  {
   "cell_type": "code",
   "execution_count": 70,
   "id": "d6eb9032",
   "metadata": {},
   "outputs": [],
   "source": [
    "def sim_replicates(sample_size, num_replicates):\n",
    "    ancestry_reps = msprime.sim_ancestry(\n",
    "        samples = sample_size,\n",
    "        population_size = 100, sequence_length = 1000,\n",
    "        num_replicates = num_replicates)\n",
    "    for ts in ancestry_reps:\n",
    "        mutated_ts = msprime.sim_mutations(ts, rate = 1e-6)\n",
    "        yield mutated_ts"
   ]
  },
  {
   "cell_type": "markdown",
   "id": "48354403",
   "metadata": {},
   "source": [
    "Other variables we can define before applying the function."
   ]
  },
  {
   "cell_type": "code",
   "execution_count": 71,
   "id": "6b764db0",
   "metadata": {},
   "outputs": [
    {
     "data": {
      "text/plain": [
       "(1.53, 1.8291)"
      ]
     },
     "execution_count": 71,
     "metadata": {},
     "output_type": "execute_result"
    }
   ],
   "source": [
    "num_replicates = 100\n",
    "S = np.zeros(num_replicates)\n",
    "for replicate_index, ts in enumerate(sim_replicates(10, num_replicates)):\n",
    "    S[replicate_index] = ts.segregating_sites(span_normalise = False, mode = 'site')\n",
    "\n",
    "(np.mean(S), np.var(S))"
   ]
  }
 ],
 "metadata": {
  "kernelspec": {
   "display_name": "Python 3 (ipykernel)",
   "language": "python",
   "name": "python3"
  },
  "language_info": {
   "codemirror_mode": {
    "name": "ipython",
    "version": 3
   },
   "file_extension": ".py",
   "mimetype": "text/x-python",
   "name": "python",
   "nbconvert_exporter": "python",
   "pygments_lexer": "ipython3",
   "version": "3.8.12"
  }
 },
 "nbformat": 4,
 "nbformat_minor": 5
}
